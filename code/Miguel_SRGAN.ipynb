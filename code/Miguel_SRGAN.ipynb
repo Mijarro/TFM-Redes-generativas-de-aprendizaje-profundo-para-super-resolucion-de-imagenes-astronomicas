{
 "cells": [
  {
   "cell_type": "code",
   "execution_count": 2,
   "metadata": {
    "colab": {
     "base_uri": "https://localhost:8080/"
    },
    "id": "tn6AokMa-czj",
    "outputId": "9f393bcd-5ac1-4a1b-e070-cba8240ec09a"
   },
   "outputs": [
    {
     "name": "stderr",
     "output_type": "stream",
     "text": [
      "Downloading...\n",
      "From (original): https://drive.google.com/uc?id=1FgcCoOMye6PpudCUcO714DagY-ybfT7e\n",
      "From (redirected): https://drive.google.com/uc?id=1FgcCoOMye6PpudCUcO714DagY-ybfT7e&confirm=t&uuid=8881f9f2-d023-48a9-bb69-576c8026fa47\n",
      "To: E:\\TFM UNIR\\SRGAN\\Desde Colab\\downloaded_file.zip\n",
      "100%|█████████████████████████████████████████████████████████████████████████████| 1.25G/1.25G [00:31<00:00, 40.2MB/s]\n"
     ]
    },
    {
     "data": {
      "text/plain": [
       "'downloaded_file.zip'"
      ]
     },
     "execution_count": 2,
     "metadata": {},
     "output_type": "execute_result"
    }
   ],
   "source": [
    "import zipfile\n",
    "import os\n",
    "import gdown\n",
    "\n",
    "# Descargar el archivo usando gdown\n",
    "url = 'https://drive.google.com/uc?id=1FgcCoOMye6PpudCUcO714DagY-ybfT7e'\n",
    "output = 'downloaded_file.zip'\n",
    "gdown.download(url, output, quiet=False)"
   ]
  },
  {
   "cell_type": "code",
   "execution_count": 3,
   "metadata": {
    "colab": {
     "base_uri": "https://localhost:8080/"
    },
    "id": "Hoh9naMj-fIk",
    "outputId": "bb371956-6a51-4384-9266-b55cc5028507"
   },
   "outputs": [
    {
     "name": "stdout",
     "output_type": "stream",
     "text": [
      "Archivo descomprimido en: E:\\TFM UNIR\\SRGAN\\Desde Colab\\split_data\n"
     ]
    }
   ],
   "source": [
    "# Definir rutas (adaptadas para Windows)\n",
    "zip_path = 'downloaded_file.zip'  # El archivo está en el mismo directorio\n",
    "extract_path = 'split_data'   # Carpeta en el directorio actual\n",
    "\n",
    "# Crear carpeta de destino si no existe\n",
    "os.makedirs(extract_path, exist_ok=True)\n",
    "\n",
    "# Descomprimir el archivo\n",
    "with zipfile.ZipFile(zip_path, 'r') as zip_ref:\n",
    "    zip_ref.extractall(extract_path)\n",
    "\n",
    "print(\"Archivo descomprimido en:\", os.path.abspath(extract_path))"
   ]
  },
  {
   "cell_type": "code",
   "execution_count": 4,
   "metadata": {
    "colab": {
     "base_uri": "https://localhost:8080/"
    },
    "id": "lJ2V8oD9gwl_",
    "outputId": "91d3c034-f370-4a9e-f00e-408ea769e99c"
   },
   "outputs": [
    {
     "name": "stdout",
     "output_type": "stream",
     "text": [
      "\n",
      "📂 Analizando: split_data/split_data/train/acs\n",
      "🖼️ 103129 imágenes de tamaño 384x384\n",
      "\n",
      "📂 Analizando: split_data/split_data/train/dud\n",
      "🖼️ 103129 imágenes de tamaño 96x96\n",
      "\n",
      "📂 Analizando: split_data/split_data/val/acs\n",
      "🖼️ 12891 imágenes de tamaño 384x384\n",
      "\n",
      "📂 Analizando: split_data/split_data/val/dud\n",
      "🖼️ 12891 imágenes de tamaño 96x96\n"
     ]
    }
   ],
   "source": [
    "import os\n",
    "from PIL import Image\n",
    "\n",
    "def check_image_sizes(directory):\n",
    "    sizes = {}\n",
    "    print(f\"\\n📂 Analizando: {directory}\")\n",
    "    for filename in os.listdir(directory):\n",
    "        path = os.path.join(directory, filename)\n",
    "        try:\n",
    "            with Image.open(path) as img:\n",
    "                size = img.size  # (width, height)\n",
    "                sizes[size] = sizes.get(size, 0) + 1\n",
    "        except Exception as e:\n",
    "            print(f\"❌ Error con {filename}: {e}\")\n",
    "\n",
    "    for size, count in sizes.items():\n",
    "        print(f\"🖼️ {count} imágenes de tamaño {size[0]}x{size[1]}\")\n",
    "    if not sizes:\n",
    "        print(\"⚠️ No se encontraron imágenes válidas.\")\n",
    "\n",
    "# Carpetas a verificar\n",
    "check_image_sizes(\"split_data/split_data/train/acs\")  # LR\n",
    "check_image_sizes(\"split_data/split_data/train/dud\")  # HR\n",
    "check_image_sizes(\"split_data/split_data/val/acs\")    # LR\n",
    "check_image_sizes(\"split_data/split_data/val/dud\")    # HR"
   ]
  },
  {
   "cell_type": "code",
   "execution_count": 7,
   "metadata": {
    "colab": {
     "base_uri": "https://localhost:8080/"
    },
    "id": "p7TmxhfOAghI",
    "outputId": "eaa68171-02a5-4eaa-c277-cfe7ea0f86ce"
   },
   "outputs": [
    {
     "name": "stderr",
     "output_type": "stream",
     "text": [
      "Cloning into 'SRGAN'...\n"
     ]
    }
   ],
   "source": [
    "!git clone https://github.com/leftthomas/SRGAN.git"
   ]
  },
  {
   "cell_type": "markdown",
   "metadata": {
    "id": "5zxqW0m9_l9Z"
   },
   "source": [
    "# SRGAN:"
   ]
  },
  {
   "cell_type": "code",
   "execution_count": 1,
   "metadata": {
    "id": "_I3fPhOxAavJ"
   },
   "outputs": [],
   "source": [
    "from torch.utils.data import Dataset\n",
    "from torchvision import transforms\n",
    "from PIL import Image\n",
    "import os\n",
    "\n",
    "class SRDataset(Dataset):\n",
    "    def __init__(self, lr_dir, hr_dir):\n",
    "        self.lr_dir = lr_dir\n",
    "        self.hr_dir = hr_dir\n",
    "        self.filenames = os.listdir(lr_dir)\n",
    "        self.transform_lr = transforms.Compose([\n",
    "            transforms.ToTensor()\n",
    "        ])\n",
    "        self.transform_hr = transforms.Compose([\n",
    "            transforms.ToTensor()\n",
    "        ])\n",
    "\n",
    "    def __len__(self):\n",
    "        return len(self.filenames)\n",
    "\n",
    "    def __getitem__(self, idx):\n",
    "        filename = self.filenames[idx]\n",
    "        lr_path = os.path.join(self.lr_dir, filename)\n",
    "        hr_path = os.path.join(self.hr_dir, filename)\n",
    "\n",
    "        lr_img = Image.open(lr_path).convert('RGB')\n",
    "        hr_img = Image.open(hr_path).convert('RGB')\n",
    "\n",
    "        return {\n",
    "            'lr': self.transform_lr(lr_img),\n",
    "            'hr': self.transform_hr(hr_img)\n",
    "        }\n"
   ]
  },
  {
   "cell_type": "code",
   "execution_count": 2,
   "metadata": {
    "id": "98fMBhDFApoy"
   },
   "outputs": [],
   "source": [
    "from torch.utils.data import DataLoader\n",
    "\n",
    "train_dataset = SRDataset(\n",
    "    hr_dir='split_data/split_data/train/acs/',\n",
    "    lr_dir='split_data/split_data/train/dud/'\n",
    ")\n",
    "\n",
    "val_dataset = SRDataset(\n",
    "    hr_dir='split_data/split_data/val/acs/',\n",
    "    lr_dir='split_data/split_data/val/dud/'\n",
    ")\n",
    "\n",
    "train_loader = DataLoader(train_dataset, batch_size=12, shuffle=True)\n",
    "val_loader = DataLoader(val_dataset, batch_size=1)\n"
   ]
  },
  {
   "cell_type": "code",
   "execution_count": null,
   "metadata": {
    "colab": {
     "base_uri": "https://localhost:8080/",
     "height": 159
    },
    "id": "_epfUi69gWZ3",
    "outputId": "448309aa-61a6-4257-95f9-318cb4b6c613"
   },
   "outputs": [
    {
     "name": "stdout",
     "output_type": "stream",
     "text": [
      "LR shape: torch.Size([2, 3, 384, 384])\n",
      "HR shape: torch.Size([2, 3, 96, 96])\n",
      "Fake HR shape: torch.Size([2, 3, 1536, 1536])\n"
     ]
    },
    {
     "ename": "SyntaxError",
     "evalue": "'break' outside loop (<ipython-input-10-319686555>, line 4)",
     "output_type": "error",
     "traceback": [
      "\u001b[0;36m  File \u001b[0;32m\"<ipython-input-10-319686555>\"\u001b[0;36m, line \u001b[0;32m4\u001b[0m\n\u001b[0;31m    break  # Solo para debuggear la primera iteración\u001b[0m\n\u001b[0m    ^\u001b[0m\n\u001b[0;31mSyntaxError\u001b[0m\u001b[0;31m:\u001b[0m 'break' outside loop\n"
     ]
    }
   ],
   "source": [
    "print(\"LR shape:\", lr.shape)\n",
    "print(\"HR shape:\", hr.shape)\n",
    "print(\"Fake HR shape:\", fake_hr.shape)"
   ]
  },
  {
   "cell_type": "code",
   "execution_count": 4,
   "metadata": {
    "colab": {
     "base_uri": "https://localhost:8080/",
     "height": 589
    },
    "id": "13kbo_feAgtM",
    "outputId": "4a37b997-5f9e-4d63-ff7d-0fffc87da96e"
   },
   "outputs": [
    {
     "name": "stderr",
     "output_type": "stream",
     "text": [
      "C:\\Users\\Miguel\\AppData\\Local\\Temp\\ipykernel_3632\\4207518441.py:40: FutureWarning: `torch.cuda.amp.GradScaler(args...)` is deprecated. Please use `torch.amp.GradScaler('cuda', args...)` instead.\n",
      "  scaler_G = GradScaler()\n",
      "C:\\Users\\Miguel\\AppData\\Local\\Temp\\ipykernel_3632\\4207518441.py:41: FutureWarning: `torch.cuda.amp.GradScaler(args...)` is deprecated. Please use `torch.amp.GradScaler('cuda', args...)` instead.\n",
      "  scaler_D = GradScaler()\n",
      "C:\\Users\\Miguel\\AppData\\Local\\Temp\\ipykernel_3632\\4207518441.py:63: FutureWarning: You are using `torch.load` with `weights_only=False` (the current default value), which uses the default pickle module implicitly. It is possible to construct malicious pickle data which will execute arbitrary code during unpickling (See https://github.com/pytorch/pytorch/blob/main/SECURITY.md#untrusted-models for more details). In a future release, the default value for `weights_only` will be flipped to `True`. This limits the functions that could be executed during unpickling. Arbitrary objects will no longer be allowed to be loaded via this mode unless they are explicitly allowlisted by the user via `torch.serialization.add_safe_globals`. We recommend you start setting `weights_only=True` for any use case where you don't have full control of the loaded file. Please open an issue on GitHub for any issues related to this experimental feature.\n",
      "  checkpoint = torch.load(last_checkpoint_path, map_location=device)\n"
     ]
    },
    {
     "name": "stdout",
     "output_type": "stream",
     "text": [
      "🤖 Cargando checkpoint desde SRGAN_checkpoints/checkpoint_epoch_70.pth 🤖\n",
      "🌾 Checkpoint cargado. Empezando desde epoch 70🌾\n"
     ]
    },
    {
     "name": "stderr",
     "output_type": "stream",
     "text": [
      "  0%|                                                                                         | 0/8595 [00:00<?, ?it/s]C:\\Users\\Miguel\\AppData\\Local\\Temp\\ipykernel_3632\\4207518441.py:95: FutureWarning: `torch.cuda.amp.autocast(args...)` is deprecated. Please use `torch.amp.autocast('cuda', args...)` instead.\n",
      "  with autocast():  # ← PRECISIÓN MIXTA\n",
      "C:\\Users\\Miguel\\AppData\\Local\\Temp\\ipykernel_3632\\4207518441.py:112: FutureWarning: `torch.cuda.amp.autocast(args...)` is deprecated. Please use `torch.amp.autocast('cuda', args...)` instead.\n",
      "  with autocast():  # ← PRECISIÓN MIXTA\n",
      "                                                                                                                       "
     ]
    },
    {
     "ename": "KeyboardInterrupt",
     "evalue": "",
     "output_type": "error",
     "traceback": [
      "\u001b[1;31m---------------------------------------------------------------------------\u001b[0m",
      "\u001b[1;31mKeyboardInterrupt\u001b[0m                         Traceback (most recent call last)",
      "Cell \u001b[1;32mIn[4], line 84\u001b[0m\n\u001b[0;32m     81\u001b[0m discriminator\u001b[38;5;241m.\u001b[39mtrain()\n\u001b[0;32m     82\u001b[0m loop \u001b[38;5;241m=\u001b[39m tqdm(train_loader, leave\u001b[38;5;241m=\u001b[39m\u001b[38;5;28;01mFalse\u001b[39;00m)\n\u001b[1;32m---> 84\u001b[0m \u001b[38;5;28;01mfor\u001b[39;00m batch \u001b[38;5;129;01min\u001b[39;00m loop:\n\u001b[0;32m     85\u001b[0m     lr \u001b[38;5;241m=\u001b[39m batch[\u001b[38;5;124m'\u001b[39m\u001b[38;5;124mlr\u001b[39m\u001b[38;5;124m'\u001b[39m]\u001b[38;5;241m.\u001b[39mto(device)\n\u001b[0;32m     86\u001b[0m     hr \u001b[38;5;241m=\u001b[39m batch[\u001b[38;5;124m'\u001b[39m\u001b[38;5;124mhr\u001b[39m\u001b[38;5;124m'\u001b[39m]\u001b[38;5;241m.\u001b[39mto(device)\n",
      "File \u001b[1;32m~\\anaconda3\\envs\\tfEnv\\lib\\site-packages\\tqdm\\std.py:1181\u001b[0m, in \u001b[0;36mtqdm.__iter__\u001b[1;34m(self)\u001b[0m\n\u001b[0;32m   1178\u001b[0m time \u001b[38;5;241m=\u001b[39m \u001b[38;5;28mself\u001b[39m\u001b[38;5;241m.\u001b[39m_time\n\u001b[0;32m   1180\u001b[0m \u001b[38;5;28;01mtry\u001b[39;00m:\n\u001b[1;32m-> 1181\u001b[0m     \u001b[38;5;28;01mfor\u001b[39;00m obj \u001b[38;5;129;01min\u001b[39;00m iterable:\n\u001b[0;32m   1182\u001b[0m         \u001b[38;5;28;01myield\u001b[39;00m obj\n\u001b[0;32m   1183\u001b[0m         \u001b[38;5;66;03m# Update and possibly print the progressbar.\u001b[39;00m\n\u001b[0;32m   1184\u001b[0m         \u001b[38;5;66;03m# Note: does not call self.update(1) for speed optimisation.\u001b[39;00m\n",
      "File \u001b[1;32m~\\anaconda3\\envs\\tfEnv\\lib\\site-packages\\torch\\utils\\data\\dataloader.py:701\u001b[0m, in \u001b[0;36m_BaseDataLoaderIter.__next__\u001b[1;34m(self)\u001b[0m\n\u001b[0;32m    698\u001b[0m \u001b[38;5;28;01mif\u001b[39;00m \u001b[38;5;28mself\u001b[39m\u001b[38;5;241m.\u001b[39m_sampler_iter \u001b[38;5;129;01mis\u001b[39;00m \u001b[38;5;28;01mNone\u001b[39;00m:\n\u001b[0;32m    699\u001b[0m     \u001b[38;5;66;03m# TODO(https://github.com/pytorch/pytorch/issues/76750)\u001b[39;00m\n\u001b[0;32m    700\u001b[0m     \u001b[38;5;28mself\u001b[39m\u001b[38;5;241m.\u001b[39m_reset()  \u001b[38;5;66;03m# type: ignore[call-arg]\u001b[39;00m\n\u001b[1;32m--> 701\u001b[0m data \u001b[38;5;241m=\u001b[39m \u001b[38;5;28;43mself\u001b[39;49m\u001b[38;5;241;43m.\u001b[39;49m\u001b[43m_next_data\u001b[49m\u001b[43m(\u001b[49m\u001b[43m)\u001b[49m\n\u001b[0;32m    702\u001b[0m \u001b[38;5;28mself\u001b[39m\u001b[38;5;241m.\u001b[39m_num_yielded \u001b[38;5;241m+\u001b[39m\u001b[38;5;241m=\u001b[39m \u001b[38;5;241m1\u001b[39m\n\u001b[0;32m    703\u001b[0m \u001b[38;5;28;01mif\u001b[39;00m (\n\u001b[0;32m    704\u001b[0m     \u001b[38;5;28mself\u001b[39m\u001b[38;5;241m.\u001b[39m_dataset_kind \u001b[38;5;241m==\u001b[39m _DatasetKind\u001b[38;5;241m.\u001b[39mIterable\n\u001b[0;32m    705\u001b[0m     \u001b[38;5;129;01mand\u001b[39;00m \u001b[38;5;28mself\u001b[39m\u001b[38;5;241m.\u001b[39m_IterableDataset_len_called \u001b[38;5;129;01mis\u001b[39;00m \u001b[38;5;129;01mnot\u001b[39;00m \u001b[38;5;28;01mNone\u001b[39;00m\n\u001b[0;32m    706\u001b[0m     \u001b[38;5;129;01mand\u001b[39;00m \u001b[38;5;28mself\u001b[39m\u001b[38;5;241m.\u001b[39m_num_yielded \u001b[38;5;241m>\u001b[39m \u001b[38;5;28mself\u001b[39m\u001b[38;5;241m.\u001b[39m_IterableDataset_len_called\n\u001b[0;32m    707\u001b[0m ):\n",
      "File \u001b[1;32m~\\anaconda3\\envs\\tfEnv\\lib\\site-packages\\torch\\utils\\data\\dataloader.py:757\u001b[0m, in \u001b[0;36m_SingleProcessDataLoaderIter._next_data\u001b[1;34m(self)\u001b[0m\n\u001b[0;32m    755\u001b[0m \u001b[38;5;28;01mdef\u001b[39;00m \u001b[38;5;21m_next_data\u001b[39m(\u001b[38;5;28mself\u001b[39m):\n\u001b[0;32m    756\u001b[0m     index \u001b[38;5;241m=\u001b[39m \u001b[38;5;28mself\u001b[39m\u001b[38;5;241m.\u001b[39m_next_index()  \u001b[38;5;66;03m# may raise StopIteration\u001b[39;00m\n\u001b[1;32m--> 757\u001b[0m     data \u001b[38;5;241m=\u001b[39m \u001b[38;5;28;43mself\u001b[39;49m\u001b[38;5;241;43m.\u001b[39;49m\u001b[43m_dataset_fetcher\u001b[49m\u001b[38;5;241;43m.\u001b[39;49m\u001b[43mfetch\u001b[49m\u001b[43m(\u001b[49m\u001b[43mindex\u001b[49m\u001b[43m)\u001b[49m  \u001b[38;5;66;03m# may raise StopIteration\u001b[39;00m\n\u001b[0;32m    758\u001b[0m     \u001b[38;5;28;01mif\u001b[39;00m \u001b[38;5;28mself\u001b[39m\u001b[38;5;241m.\u001b[39m_pin_memory:\n\u001b[0;32m    759\u001b[0m         data \u001b[38;5;241m=\u001b[39m _utils\u001b[38;5;241m.\u001b[39mpin_memory\u001b[38;5;241m.\u001b[39mpin_memory(data, \u001b[38;5;28mself\u001b[39m\u001b[38;5;241m.\u001b[39m_pin_memory_device)\n",
      "File \u001b[1;32m~\\anaconda3\\envs\\tfEnv\\lib\\site-packages\\torch\\utils\\data\\_utils\\fetch.py:52\u001b[0m, in \u001b[0;36m_MapDatasetFetcher.fetch\u001b[1;34m(self, possibly_batched_index)\u001b[0m\n\u001b[0;32m     50\u001b[0m         data \u001b[38;5;241m=\u001b[39m \u001b[38;5;28mself\u001b[39m\u001b[38;5;241m.\u001b[39mdataset\u001b[38;5;241m.\u001b[39m__getitems__(possibly_batched_index)\n\u001b[0;32m     51\u001b[0m     \u001b[38;5;28;01melse\u001b[39;00m:\n\u001b[1;32m---> 52\u001b[0m         data \u001b[38;5;241m=\u001b[39m [\u001b[38;5;28mself\u001b[39m\u001b[38;5;241m.\u001b[39mdataset[idx] \u001b[38;5;28;01mfor\u001b[39;00m idx \u001b[38;5;129;01min\u001b[39;00m possibly_batched_index]\n\u001b[0;32m     53\u001b[0m \u001b[38;5;28;01melse\u001b[39;00m:\n\u001b[0;32m     54\u001b[0m     data \u001b[38;5;241m=\u001b[39m \u001b[38;5;28mself\u001b[39m\u001b[38;5;241m.\u001b[39mdataset[possibly_batched_index]\n",
      "File \u001b[1;32m~\\anaconda3\\envs\\tfEnv\\lib\\site-packages\\torch\\utils\\data\\_utils\\fetch.py:52\u001b[0m, in \u001b[0;36m<listcomp>\u001b[1;34m(.0)\u001b[0m\n\u001b[0;32m     50\u001b[0m         data \u001b[38;5;241m=\u001b[39m \u001b[38;5;28mself\u001b[39m\u001b[38;5;241m.\u001b[39mdataset\u001b[38;5;241m.\u001b[39m__getitems__(possibly_batched_index)\n\u001b[0;32m     51\u001b[0m     \u001b[38;5;28;01melse\u001b[39;00m:\n\u001b[1;32m---> 52\u001b[0m         data \u001b[38;5;241m=\u001b[39m [\u001b[38;5;28;43mself\u001b[39;49m\u001b[38;5;241;43m.\u001b[39;49m\u001b[43mdataset\u001b[49m\u001b[43m[\u001b[49m\u001b[43midx\u001b[49m\u001b[43m]\u001b[49m \u001b[38;5;28;01mfor\u001b[39;00m idx \u001b[38;5;129;01min\u001b[39;00m possibly_batched_index]\n\u001b[0;32m     53\u001b[0m \u001b[38;5;28;01melse\u001b[39;00m:\n\u001b[0;32m     54\u001b[0m     data \u001b[38;5;241m=\u001b[39m \u001b[38;5;28mself\u001b[39m\u001b[38;5;241m.\u001b[39mdataset[possibly_batched_index]\n",
      "Cell \u001b[1;32mIn[1], line 30\u001b[0m, in \u001b[0;36mSRDataset.__getitem__\u001b[1;34m(self, idx)\u001b[0m\n\u001b[0;32m     26\u001b[0m lr_img \u001b[38;5;241m=\u001b[39m Image\u001b[38;5;241m.\u001b[39mopen(lr_path)\u001b[38;5;241m.\u001b[39mconvert(\u001b[38;5;124m'\u001b[39m\u001b[38;5;124mRGB\u001b[39m\u001b[38;5;124m'\u001b[39m)\n\u001b[0;32m     27\u001b[0m hr_img \u001b[38;5;241m=\u001b[39m Image\u001b[38;5;241m.\u001b[39mopen(hr_path)\u001b[38;5;241m.\u001b[39mconvert(\u001b[38;5;124m'\u001b[39m\u001b[38;5;124mRGB\u001b[39m\u001b[38;5;124m'\u001b[39m)\n\u001b[0;32m     29\u001b[0m \u001b[38;5;28;01mreturn\u001b[39;00m {\n\u001b[1;32m---> 30\u001b[0m     \u001b[38;5;124m'\u001b[39m\u001b[38;5;124mlr\u001b[39m\u001b[38;5;124m'\u001b[39m: \u001b[38;5;28;43mself\u001b[39;49m\u001b[38;5;241;43m.\u001b[39;49m\u001b[43mtransform_lr\u001b[49m\u001b[43m(\u001b[49m\u001b[43mlr_img\u001b[49m\u001b[43m)\u001b[49m,\n\u001b[0;32m     31\u001b[0m     \u001b[38;5;124m'\u001b[39m\u001b[38;5;124mhr\u001b[39m\u001b[38;5;124m'\u001b[39m: \u001b[38;5;28mself\u001b[39m\u001b[38;5;241m.\u001b[39mtransform_hr(hr_img)\n\u001b[0;32m     32\u001b[0m }\n",
      "File \u001b[1;32m~\\anaconda3\\envs\\tfEnv\\lib\\site-packages\\torchvision\\transforms\\transforms.py:95\u001b[0m, in \u001b[0;36mCompose.__call__\u001b[1;34m(self, img)\u001b[0m\n\u001b[0;32m     93\u001b[0m \u001b[38;5;28;01mdef\u001b[39;00m \u001b[38;5;21m__call__\u001b[39m(\u001b[38;5;28mself\u001b[39m, img):\n\u001b[0;32m     94\u001b[0m     \u001b[38;5;28;01mfor\u001b[39;00m t \u001b[38;5;129;01min\u001b[39;00m \u001b[38;5;28mself\u001b[39m\u001b[38;5;241m.\u001b[39mtransforms:\n\u001b[1;32m---> 95\u001b[0m         img \u001b[38;5;241m=\u001b[39m \u001b[43mt\u001b[49m\u001b[43m(\u001b[49m\u001b[43mimg\u001b[49m\u001b[43m)\u001b[49m\n\u001b[0;32m     96\u001b[0m     \u001b[38;5;28;01mreturn\u001b[39;00m img\n",
      "File \u001b[1;32m~\\anaconda3\\envs\\tfEnv\\lib\\site-packages\\torchvision\\transforms\\transforms.py:137\u001b[0m, in \u001b[0;36mToTensor.__call__\u001b[1;34m(self, pic)\u001b[0m\n\u001b[0;32m    129\u001b[0m \u001b[38;5;28;01mdef\u001b[39;00m \u001b[38;5;21m__call__\u001b[39m(\u001b[38;5;28mself\u001b[39m, pic):\n\u001b[0;32m    130\u001b[0m \u001b[38;5;250m    \u001b[39m\u001b[38;5;124;03m\"\"\"\u001b[39;00m\n\u001b[0;32m    131\u001b[0m \u001b[38;5;124;03m    Args:\u001b[39;00m\n\u001b[0;32m    132\u001b[0m \u001b[38;5;124;03m        pic (PIL Image or numpy.ndarray): Image to be converted to tensor.\u001b[39;00m\n\u001b[1;32m   (...)\u001b[0m\n\u001b[0;32m    135\u001b[0m \u001b[38;5;124;03m        Tensor: Converted image.\u001b[39;00m\n\u001b[0;32m    136\u001b[0m \u001b[38;5;124;03m    \"\"\"\u001b[39;00m\n\u001b[1;32m--> 137\u001b[0m     \u001b[38;5;28;01mreturn\u001b[39;00m \u001b[43mF\u001b[49m\u001b[38;5;241;43m.\u001b[39;49m\u001b[43mto_tensor\u001b[49m\u001b[43m(\u001b[49m\u001b[43mpic\u001b[49m\u001b[43m)\u001b[49m\n",
      "File \u001b[1;32m~\\anaconda3\\envs\\tfEnv\\lib\\site-packages\\torchvision\\transforms\\functional.py:172\u001b[0m, in \u001b[0;36mto_tensor\u001b[1;34m(pic)\u001b[0m\n\u001b[0;32m    170\u001b[0m \u001b[38;5;28;01mif\u001b[39;00m pic\u001b[38;5;241m.\u001b[39mmode \u001b[38;5;241m==\u001b[39m \u001b[38;5;124m\"\u001b[39m\u001b[38;5;124m1\u001b[39m\u001b[38;5;124m\"\u001b[39m:\n\u001b[0;32m    171\u001b[0m     img \u001b[38;5;241m=\u001b[39m \u001b[38;5;241m255\u001b[39m \u001b[38;5;241m*\u001b[39m img\n\u001b[1;32m--> 172\u001b[0m img \u001b[38;5;241m=\u001b[39m \u001b[43mimg\u001b[49m\u001b[38;5;241;43m.\u001b[39;49m\u001b[43mview\u001b[49m\u001b[43m(\u001b[49m\u001b[43mpic\u001b[49m\u001b[38;5;241;43m.\u001b[39;49m\u001b[43msize\u001b[49m\u001b[43m[\u001b[49m\u001b[38;5;241;43m1\u001b[39;49m\u001b[43m]\u001b[49m\u001b[43m,\u001b[49m\u001b[43m \u001b[49m\u001b[43mpic\u001b[49m\u001b[38;5;241;43m.\u001b[39;49m\u001b[43msize\u001b[49m\u001b[43m[\u001b[49m\u001b[38;5;241;43m0\u001b[39;49m\u001b[43m]\u001b[49m\u001b[43m,\u001b[49m\u001b[43m \u001b[49m\u001b[43mF_pil\u001b[49m\u001b[38;5;241;43m.\u001b[39;49m\u001b[43mget_image_num_channels\u001b[49m\u001b[43m(\u001b[49m\u001b[43mpic\u001b[49m\u001b[43m)\u001b[49m\u001b[43m)\u001b[49m\n\u001b[0;32m    173\u001b[0m \u001b[38;5;66;03m# put it from HWC to CHW format\u001b[39;00m\n\u001b[0;32m    174\u001b[0m img \u001b[38;5;241m=\u001b[39m img\u001b[38;5;241m.\u001b[39mpermute((\u001b[38;5;241m2\u001b[39m, \u001b[38;5;241m0\u001b[39m, \u001b[38;5;241m1\u001b[39m))\u001b[38;5;241m.\u001b[39mcontiguous()\n",
      "\u001b[1;31mKeyboardInterrupt\u001b[0m: "
     ]
    }
   ],
   "source": [
    "# Mixed Precision 1h y 30min\n",
    "import torch\n",
    "from torch import nn, optim\n",
    "from tqdm import tqdm\n",
    "from torch.cuda.amp import autocast, GradScaler  # ← NUEVO\n",
    "from SRGAN.model import Generator, Discriminator\n",
    "from SRGAN.loss import GeneratorLoss  # Opcional\n",
    "import os\n",
    "import json\n",
    "from torchvision.transforms import Compose, Resize, ToTensor, ToPILImage \n",
    "from PIL import Image \n",
    "\n",
    "\n",
    "# Directorio para guardar modelos y logs\n",
    "save_dir = 'SRGAN_checkpoints'\n",
    "os.makedirs(save_dir, exist_ok=True)\n",
    "\n",
    "# Inicializar historial\n",
    "train_history = []\n",
    "best_loss_G = float('inf')  # Para rastrear el mejor generador\n",
    "\n",
    "# Modelos\n",
    "generator = Generator(scale_factor=4)\n",
    "discriminator = Discriminator()\n",
    "\n",
    "# Dispositivo\n",
    "device = torch.device(\"cuda\" if torch.cuda.is_available() else \"cpu\")\n",
    "generator = generator.to(device)\n",
    "discriminator = discriminator.to(device)\n",
    "\n",
    "# Pérdidas\n",
    "criterion_GAN = nn.BCEWithLogitsLoss()\n",
    "criterion_content = nn.MSELoss()\n",
    "\n",
    "# Optimizadores\n",
    "optimizer_G = optim.Adam(generator.parameters(), lr=1e-4)\n",
    "optimizer_D = optim.Adam(discriminator.parameters(), lr=1e-4)\n",
    "\n",
    "# Mixed precision scaler\n",
    "scaler_G = GradScaler()\n",
    "scaler_D = GradScaler()\n",
    "\n",
    "# ==== IMAGEN:\n",
    "test_img_path = 'n1_166_340135.png'  \n",
    "test_img = Image.open(test_img_path).convert('RGB')\n",
    "lr_transform = Compose([Resize((96, 96)), ToTensor()])\n",
    "test_lr = lr_transform(test_img).unsqueeze(0).to(device)\n",
    "to_pil = ToPILImage()\n",
    "\n",
    "# Crear directorio para guardar imágenes de prueba\n",
    "os.makedirs('test_outputs', exist_ok=True)\n",
    "\n",
    " #==== IMAGEN FIN\n",
    "\n",
    "# Entrenamiento\n",
    "num_epochs = 100\n",
    "\n",
    "# Cargar checkpoint si existe\n",
    "last_checkpoint_path = \"SRGAN_checkpoints/checkpoint_epoch_70.pth\"\n",
    "start_epoch = 0\n",
    "if os.path.isfile(last_checkpoint_path):\n",
    "    print(f\"🤖 Cargando checkpoint desde {last_checkpoint_path} 🤖\")\n",
    "    checkpoint = torch.load(last_checkpoint_path, map_location=device)\n",
    "\n",
    "    generator.load_state_dict(checkpoint['generator_state_dict'])\n",
    "    discriminator.load_state_dict(checkpoint['discriminator_state_dict'])\n",
    "    optimizer_G.load_state_dict(checkpoint['optimizer_G_state_dict'])\n",
    "    optimizer_D.load_state_dict(checkpoint['optimizer_D_state_dict'])\n",
    "    scaler_G.load_state_dict(checkpoint['scaler_G_state_dict'])\n",
    "    scaler_D.load_state_dict(checkpoint['scaler_D_state_dict'])\n",
    "\n",
    "    start_epoch = checkpoint['epoch']\n",
    "    best_loss_G = checkpoint.get('loss_G', float('inf'))  # Puedes actualizar también el mejor loss\n",
    "\n",
    "    print(f\"🌾 Checkpoint cargado. Empezando desde epoch {start_epoch}🌾\")\n",
    "else:\n",
    "    print(\"🥀 No se encontró checkpoint, empezando entrenamiento desde cero. 🥀\")\n",
    "\n",
    "for epoch in range(start_epoch, num_epochs):\n",
    "    generator.train()\n",
    "    discriminator.train()\n",
    "    loop = tqdm(train_loader, leave=False)\n",
    "\n",
    "    for batch in loop:\n",
    "        lr = batch['lr'].to(device)\n",
    "        hr = batch['hr'].to(device)\n",
    "\n",
    "        ##################################\n",
    "        # Paso 1: Entrenar el Discriminador\n",
    "        ##################################\n",
    "        with torch.no_grad():\n",
    "            fake_hr = generator(lr)\n",
    "\n",
    "        optimizer_D.zero_grad()\n",
    "        with autocast():  # ← PRECISIÓN MIXTA\n",
    "            real_out = discriminator(hr)\n",
    "            fake_out = discriminator(fake_hr.detach())\n",
    "            #print(fake_hr.dtype)  # debería ser torch.float16\n",
    "\n",
    "            loss_real = criterion_GAN(real_out - fake_out.mean(), torch.ones_like(real_out))\n",
    "            loss_fake = criterion_GAN(fake_out - real_out.mean(), torch.zeros_like(fake_out))\n",
    "            loss_D = (loss_real + loss_fake) / 2\n",
    "\n",
    "        scaler_D.scale(loss_D).backward()\n",
    "        scaler_D.step(optimizer_D)\n",
    "        scaler_D.update()\n",
    "\n",
    "        ##################################\n",
    "        # Paso 2: Entrenar el Generador\n",
    "        ##################################\n",
    "        optimizer_G.zero_grad()\n",
    "        with autocast():  # ← PRECISIÓN MIXTA\n",
    "            fake_hr = generator(lr)\n",
    "            fake_out = discriminator(fake_hr)\n",
    "\n",
    "            loss_content = criterion_content(fake_hr, hr)\n",
    "            loss_adv = criterion_GAN(fake_out - real_out.mean().detach(), torch.ones_like(fake_out))\n",
    "            loss_G = loss_content + 1e-3 * loss_adv\n",
    "\n",
    "        scaler_G.scale(loss_G).backward()\n",
    "        scaler_G.step(optimizer_G)\n",
    "        scaler_G.update()\n",
    "\n",
    "        ##################################\n",
    "        # Mostrar progreso\n",
    "        ##################################\n",
    "        loop.set_description(f\"Epoch [{epoch+1}/{num_epochs}]\")\n",
    "        loop.set_postfix(loss_G=loss_G.item(), loss_D=loss_D.item())\n",
    "\n",
    "    ##################################\n",
    "    # Guardar modelo\n",
    "    ##################################\n",
    "    # 1. Guardar siempre el último\n",
    "    torch.save({\n",
    "        'epoch': epoch + 1,\n",
    "        'generator_state_dict': generator.state_dict(),\n",
    "        'discriminator_state_dict': discriminator.state_dict(),\n",
    "        'optimizer_G_state_dict': optimizer_G.state_dict(),\n",
    "        'optimizer_D_state_dict': optimizer_D.state_dict(),\n",
    "        'scaler_G_state_dict': scaler_G.state_dict(),\n",
    "        'scaler_D_state_dict': scaler_D.state_dict(),\n",
    "        'loss_G': loss_G.item(),\n",
    "        'loss_D': loss_D.item()\n",
    "    }, os.path.join(save_dir, f'checkpoint_epoch_{epoch+1}.pth'))\n",
    "\n",
    "    # 2. Guardar el mejor generador\n",
    "    \"\"\"\n",
    "    if loss_G.item() < best_loss_G:\n",
    "        best_loss_G = loss_G.item()\n",
    "        torch.save(generator.state_dict(), os.path.join(save_dir, f'best_generator{start_epoch}_{epoch}.pth'))\n",
    "        print(f\"✅ Epoch {epoch+1}: Mejor generador guardado con loss_G={best_loss_G:.4f}\")\n",
    "    \"\"\"\n",
    "    ##################################\n",
    "    # Guardar historial\n",
    "    ##################################\n",
    "    train_history.append({\n",
    "        'epoch': epoch + 1,\n",
    "        'loss_G': loss_G.item(),\n",
    "        'loss_D': loss_D.item()\n",
    "    })\n",
    "\n",
    "    with open(os.path.join(save_dir, f'train_history_{epoch+1}.json'), 'w') as f:\n",
    "        json.dump(train_history, f, indent=4)\n",
    "\n",
    "    \n",
    "    ##################################\n",
    "    # Guardar IMAGEN\n",
    "    ##################################\n",
    "    with torch.no_grad():\n",
    "        test_output = generator(test_lr)\n",
    "        test_img_output = to_pil(test_output.squeeze().cpu().clamp(0, 1))\n",
    "        test_img_output.save(os.path.join(save_dir, f'image_epoch_{epoch+1}.png'))\n",
    "\n",
    "    torch.cuda.empty_cache()"
   ]
  },
  {
   "cell_type": "code",
   "execution_count": null,
   "metadata": {
    "colab": {
     "base_uri": "https://localhost:8080/",
     "height": 274
    },
    "id": "GUAWf6tVabVv",
    "outputId": "542abefc-4539-45b4-d6ad-7989f422075e"
   },
   "outputs": [
    {
     "data": {
      "image/png": "[encoded data removed]",
      "text/plain": [
       "<Figure size 2000x500 with 4 Axes>"
      ]
     },
     "metadata": {},
     "output_type": "display_data"
    }
   ],
   "source": [
    "import torch\n",
    "from torchvision.transforms import ToTensor, ToPILImage, Resize, Compose\n",
    "from PIL import Image\n",
    "import matplotlib.pyplot as plt\n",
    "from SRGAN.model import Generator, Discriminator  # Ajusta import si hace falta\n",
    "\n",
    "device = torch.device(\"cuda\" if torch.cuda.is_available() else \"cpu\")\n",
    "\n",
    "# Ruta modelos\n",
    "save_dir = 'checkpoints'\n",
    "checkpoint1 = \"/content/checkpoint_epoch_10.pth\"\n",
    "checkpoint2 = \"/content/checkpoint_epoch_12.pth\"\n",
    "\n",
    "# Crear el generador (igual que en entrenamiento)\n",
    "generator = Generator(scale_factor=4).to(device)\n",
    "generator.eval()\n",
    "\n",
    "# Transform para preparar imagen: ajusta según tu dataset (ejemplo: 96x96 HR, 24x24 LR)\n",
    "hr_transform = Compose([\n",
    "    Resize((384, 384)),\n",
    "    ToTensor()\n",
    "])\n",
    "lr_transform = Compose([\n",
    "    Resize((96, 96)),\n",
    "    ToTensor()\n",
    "])\n",
    "\n",
    "# Cargar imagen de prueba (puedes usar tu propia ruta)\n",
    "img_path = \"/content/n1_166_340135.png\"\n",
    "img = Image.open(img_path).convert('RGB')\n",
    "hr_img = hr_transform(img).unsqueeze(0).to(device)  # Batch 1, HR\n",
    "lr_img = lr_transform(img).unsqueeze(0).to(device)  # Batch 1, LR\n",
    "\n",
    "# Cargar último checkpoint completo (para obtener generador con optimizadores si quieres)\n",
    "checkpoint = torch.load(checkpoint1, map_location=device)\n",
    "generator.load_state_dict(checkpoint['generator_state_dict'])\n",
    "\n",
    "# Generar imagen con el último modelo\n",
    "with torch.no_grad():\n",
    "    fake_hr_last = generator(lr_img)\n",
    "\n",
    "# Cargar el mejor generador (solo pesos del generador)\n",
    "best_generator = Generator(scale_factor=4).to(device)\n",
    "checkpoint_best = torch.load(checkpoint2, map_location=device)\n",
    "best_generator.load_state_dict(checkpoint_best['generator_state_dict'])\n",
    "best_generator.eval()\n",
    "\n",
    "# Generar imagen con el mejor modelo\n",
    "with torch.no_grad():\n",
    "    fake_hr_best = best_generator(lr_img)\n",
    "\n",
    "# Convertir tensores a imágenes para mostrar\n",
    "to_pil = ToPILImage()\n",
    "hr_img_show = to_pil(hr_img.squeeze().cpu())\n",
    "lr_img_show = to_pil(lr_img.squeeze().cpu())\n",
    "fake_hr_last_show = to_pil(fake_hr_last.squeeze().cpu().clamp(0,1))\n",
    "fake_hr_best_show = to_pil(fake_hr_best.squeeze().cpu().clamp(0,1))\n",
    "\n",
    "# Mostrar imágenes\n",
    "fig, axs = plt.subplots(1, 4, figsize=(20, 5))\n",
    "\n",
    "axs[0].imshow(lr_img_show)\n",
    "axs[0].set_title('Imagen LR (Input)')\n",
    "axs[0].axis('off')\n",
    "\n",
    "axs[1].imshow(hr_img_show)\n",
    "axs[1].set_title('Imagen HR (Original)')\n",
    "axs[1].axis('off')\n",
    "\n",
    "axs[2].imshow(fake_hr_last_show)\n",
    "axs[2].set_title('Fake HR (Last Checkpoint)')\n",
    "axs[2].axis('off')\n",
    "\n",
    "axs[3].imshow(fake_hr_best_show)\n",
    "axs[3].set_title('Fake HR (Best Generator)')\n",
    "axs[3].axis('off')\n",
    "\n",
    "plt.show()"
   ]
  },
  {
   "cell_type": "markdown",
   "metadata": {
    "id": "ltoS_wy5ayFJ"
   },
   "source": [
    "1. Imagen LR (Input)\n",
    "- Es la imagen de baja resolución (Low Resolution) que se le da como entrada al generador.\n",
    "- Es la imagen \"chiquita\" o degradada, que queremos mejorar.\n",
    "\n",
    "2. Imagen HR (Original)\n",
    "- Es la imagen de alta resolución (High Resolution) original, la versión \"real\" o ground truth que queremos que el generador aprenda a imitar.\n",
    "- Sirve como referencia para comparar la salida generada.\n",
    "\n",
    "3. Fake HR (Last Checkpoint)\n",
    "- Es la imagen de alta resolución generada por el modelo que se cargó desde el último checkpoint guardado (el modelo más reciente durante el entrenamiento).\n",
    "- Muestra cómo está rindiendo el generador justo al final del entrenamiento.\n",
    "\n",
    "4. Fake HR (Best Generator)\n",
    "- Es la imagen generada por el modelo guardado como \"mejor\" (por ejemplo, el que obtuvo la menor pérdida o mejor métrica durante el entrenamiento).\n",
    "- Generalmente representa el generador que logró el mejor rendimiento hasta ahora."
   ]
  },
  {
   "cell_type": "code",
   "execution_count": null,
   "metadata": {
    "id": "PV99beGVaBoE"
   },
   "outputs": [],
   "source": [
    "import json\n",
    "with open('checkpoints/train_history.json') as f:\n",
    "    history = json.load(f)\n",
    "import matplotlib.pyplot as plt\n",
    "\n",
    "epochs = [h['epoch'] for h in history]\n",
    "loss_G = [h['loss_G'] for h in history]\n",
    "loss_D = [h['loss_D'] for h in history]\n",
    "\n",
    "plt.plot(epochs, loss_G, label='Loss G')\n",
    "plt.plot(epochs, loss_D, label='Loss D')\n",
    "plt.xlabel('Epoch')\n",
    "plt.ylabel('Loss')\n",
    "plt.legend()\n",
    "plt.title('Training Progress')\n",
    "plt.grid(True)\n",
    "plt.show()\n"
   ]
  },
  {
   "cell_type": "code",
   "execution_count": null,
   "metadata": {
    "colab": {
     "base_uri": "https://localhost:8080/"
    },
    "id": "wGhmDV7-8FOT",
    "outputId": "1219cf6c-7ceb-475c-a004-06ce1b22113e"
   },
   "outputs": [
    {
     "name": "stderr",
     "output_type": "stream",
     "text": [
      "Epoch [1/100]:   1%|          | 558/51565 [03:01<4:38:07,  3.06it/s, loss_D=0.314, loss_G=0.00209]"
     ]
    }
   ],
   "source": [
    "# tarda 4 horas y 30 min por epoch\n",
    "import torch\n",
    "from torch import nn, optim\n",
    "from tqdm import tqdm\n",
    "from SRGAN.model import Generator, Discriminator  # Ajusta según tu estructura\n",
    "from SRGAN.loss import GeneratorLoss  # Si usas una clase de pérdida combinada, opcional\n",
    "\n",
    "# Modelos\n",
    "generator = Generator(scale_factor=4)\n",
    "discriminator = Discriminator()\n",
    "\n",
    "# Dispositivo\n",
    "device = torch.device(\"cuda\" if torch.cuda.is_available() else \"cpu\")\n",
    "generator = generator.to(device)\n",
    "discriminator = discriminator.to(device)\n",
    "\n",
    "# Pérdidas\n",
    "criterion_GAN = nn.BCEWithLogitsLoss()\n",
    "criterion_content = nn.MSELoss()\n",
    "\n",
    "# Optimizadores\n",
    "optimizer_G = optim.Adam(generator.parameters(), lr=1e-4)\n",
    "optimizer_D = optim.Adam(discriminator.parameters(), lr=1e-4)\n",
    "\n",
    "# Entrenamiento\n",
    "num_epochs = 100\n",
    "\n",
    "for epoch in range(num_epochs):\n",
    "    generator.train()\n",
    "    discriminator.train()\n",
    "    loop = tqdm(train_loader, leave=False)\n",
    "\n",
    "    for batch in loop:\n",
    "        lr = batch['lr'].to(device)\n",
    "        hr = batch['hr'].to(device)\n",
    "\n",
    "        ##################################\n",
    "        # Paso 1: Entrenar el Discriminador\n",
    "        ##################################\n",
    "        with torch.no_grad():\n",
    "            fake_hr = generator(lr)  # No calcular gradientes aquí\n",
    "\n",
    "        real_out = discriminator(hr)\n",
    "        fake_out = discriminator(fake_hr.detach())\n",
    "\n",
    "        loss_real = criterion_GAN(real_out - fake_out.mean(), torch.ones_like(real_out))\n",
    "        loss_fake = criterion_GAN(fake_out - real_out.mean(), torch.zeros_like(fake_out))\n",
    "        loss_D = (loss_real + loss_fake) / 2\n",
    "\n",
    "        optimizer_D.zero_grad()\n",
    "        loss_D.backward()\n",
    "        optimizer_D.step()\n",
    "\n",
    "        ##################################\n",
    "        # Paso 2: Entrenar el Generador\n",
    "        ##################################\n",
    "        fake_hr = generator(lr)\n",
    "        fake_out = discriminator(fake_hr)\n",
    "\n",
    "        loss_content = criterion_content(fake_hr, hr)\n",
    "        loss_adv = criterion_GAN(fake_out - real_out.mean().detach(), torch.ones_like(fake_out))\n",
    "        loss_G = loss_content + 1e-3 * loss_adv\n",
    "\n",
    "        optimizer_G.zero_grad()\n",
    "        loss_G.backward()\n",
    "        optimizer_G.step()\n",
    "\n",
    "        ##################################\n",
    "        # Mostrar progreso\n",
    "        ##################################\n",
    "        loop.set_description(f\"Epoch [{epoch+1}/{num_epochs}]\")\n",
    "        loop.set_postfix(loss_G=loss_G.item(), loss_D=loss_D.item())\n",
    "\n",
    "    torch.cuda.empty_cache()  # opcional, para evitar acumulación entre épocas"
   ]
  },
  {
   "cell_type": "code",
   "execution_count": null,
   "metadata": {
    "colab": {
     "base_uri": "https://localhost:8080/",
     "height": 391
    },
    "id": "Xi8Tx3CaArxB",
    "outputId": "92043064-1330-4722-a95a-a52bd100e0c4"
   },
   "outputs": [
    {
     "name": "stdout",
     "output_type": "stream",
     "text": [
      "cuda\n"
     ]
    },
    {
     "name": "stderr",
     "output_type": "stream",
     "text": []
    },
    {
     "ename": "OutOfMemoryError",
     "evalue": "CUDA out of memory. Tried to allocate 576.00 MiB. GPU 0 has a total capacity of 14.74 GiB of which 32.12 MiB is free. Process 14259 has 14.71 GiB memory in use. Of the allocated memory 14.22 GiB is allocated by PyTorch, and 379.70 MiB is reserved by PyTorch but unallocated. If reserved but unallocated memory is large try setting PYTORCH_CUDA_ALLOC_CONF=expandable_segments:True to avoid fragmentation.  See documentation for Memory Management  (https://pytorch.org/docs/stable/notes/cuda.html#environment-variables)",
     "output_type": "error",
     "traceback": [
      "\u001b[0;31m---------------------------------------------------------------------------\u001b[0m",
      "\u001b[0;31mOutOfMemoryError\u001b[0m                          Traceback (most recent call last)",
      "\u001b[0;32m<ipython-input-9-670478295>\u001b[0m in \u001b[0;36m<cell line: 0>\u001b[0;34m()\u001b[0m\n\u001b[1;32m     46\u001b[0m         \u001b[0;31m# Train G\u001b[0m\u001b[0;34m\u001b[0m\u001b[0;34m\u001b[0m\u001b[0m\n\u001b[1;32m     47\u001b[0m         \u001b[0mfake_hr\u001b[0m \u001b[0;34m=\u001b[0m \u001b[0mgenerator\u001b[0m\u001b[0;34m(\u001b[0m\u001b[0mlr\u001b[0m\u001b[0;34m)\u001b[0m\u001b[0;34m\u001b[0m\u001b[0;34m\u001b[0m\u001b[0m\n\u001b[0;32m---> 48\u001b[0;31m         \u001b[0mfake_out\u001b[0m \u001b[0;34m=\u001b[0m \u001b[0mdiscriminator\u001b[0m\u001b[0;34m(\u001b[0m\u001b[0mfake_hr\u001b[0m\u001b[0;34m)\u001b[0m\u001b[0;34m\u001b[0m\u001b[0;34m\u001b[0m\u001b[0m\n\u001b[0m\u001b[1;32m     49\u001b[0m \u001b[0;34m\u001b[0m\u001b[0m\n\u001b[1;32m     50\u001b[0m         \u001b[0mloss_content\u001b[0m \u001b[0;34m=\u001b[0m \u001b[0mcriterion_content\u001b[0m\u001b[0;34m(\u001b[0m\u001b[0mfake_hr\u001b[0m\u001b[0;34m,\u001b[0m \u001b[0mhr\u001b[0m\u001b[0;34m)\u001b[0m\u001b[0;34m\u001b[0m\u001b[0;34m\u001b[0m\u001b[0m\n",
      "\u001b[0;32m/usr/local/lib/python3.11/dist-packages/torch/nn/modules/module.py\u001b[0m in \u001b[0;36m_wrapped_call_impl\u001b[0;34m(self, *args, **kwargs)\u001b[0m\n\u001b[1;32m   1737\u001b[0m             \u001b[0;32mreturn\u001b[0m \u001b[0mself\u001b[0m\u001b[0;34m.\u001b[0m\u001b[0m_compiled_call_impl\u001b[0m\u001b[0;34m(\u001b[0m\u001b[0;34m*\u001b[0m\u001b[0margs\u001b[0m\u001b[0;34m,\u001b[0m \u001b[0;34m**\u001b[0m\u001b[0mkwargs\u001b[0m\u001b[0;34m)\u001b[0m  \u001b[0;31m# type: ignore[misc]\u001b[0m\u001b[0;34m\u001b[0m\u001b[0;34m\u001b[0m\u001b[0m\n\u001b[1;32m   1738\u001b[0m         \u001b[0;32melse\u001b[0m\u001b[0;34m:\u001b[0m\u001b[0;34m\u001b[0m\u001b[0;34m\u001b[0m\u001b[0m\n\u001b[0;32m-> 1739\u001b[0;31m             \u001b[0;32mreturn\u001b[0m \u001b[0mself\u001b[0m\u001b[0;34m.\u001b[0m\u001b[0m_call_impl\u001b[0m\u001b[0;34m(\u001b[0m\u001b[0;34m*\u001b[0m\u001b[0margs\u001b[0m\u001b[0;34m,\u001b[0m \u001b[0;34m**\u001b[0m\u001b[0mkwargs\u001b[0m\u001b[0;34m)\u001b[0m\u001b[0;34m\u001b[0m\u001b[0;34m\u001b[0m\u001b[0m\n\u001b[0m\u001b[1;32m   1740\u001b[0m \u001b[0;34m\u001b[0m\u001b[0m\n\u001b[1;32m   1741\u001b[0m     \u001b[0;31m# torchrec tests the code consistency with the following code\u001b[0m\u001b[0;34m\u001b[0m\u001b[0;34m\u001b[0m\u001b[0m\n",
      "\u001b[0;32m/usr/local/lib/python3.11/dist-packages/torch/nn/modules/module.py\u001b[0m in \u001b[0;36m_call_impl\u001b[0;34m(self, *args, **kwargs)\u001b[0m\n\u001b[1;32m   1748\u001b[0m                 \u001b[0;32mor\u001b[0m \u001b[0m_global_backward_pre_hooks\u001b[0m \u001b[0;32mor\u001b[0m \u001b[0m_global_backward_hooks\u001b[0m\u001b[0;34m\u001b[0m\u001b[0;34m\u001b[0m\u001b[0m\n\u001b[1;32m   1749\u001b[0m                 or _global_forward_hooks or _global_forward_pre_hooks):\n\u001b[0;32m-> 1750\u001b[0;31m             \u001b[0;32mreturn\u001b[0m \u001b[0mforward_call\u001b[0m\u001b[0;34m(\u001b[0m\u001b[0;34m*\u001b[0m\u001b[0margs\u001b[0m\u001b[0;34m,\u001b[0m \u001b[0;34m**\u001b[0m\u001b[0mkwargs\u001b[0m\u001b[0;34m)\u001b[0m\u001b[0;34m\u001b[0m\u001b[0;34m\u001b[0m\u001b[0m\n\u001b[0m\u001b[1;32m   1751\u001b[0m \u001b[0;34m\u001b[0m\u001b[0m\n\u001b[1;32m   1752\u001b[0m         \u001b[0mresult\u001b[0m \u001b[0;34m=\u001b[0m \u001b[0;32mNone\u001b[0m\u001b[0;34m\u001b[0m\u001b[0;34m\u001b[0m\u001b[0m\n",
      "\u001b[0;32m/content/SRGAN/model.py\u001b[0m in \u001b[0;36mforward\u001b[0;34m(self, x)\u001b[0m\n\u001b[1;32m     82\u001b[0m     \u001b[0;32mdef\u001b[0m \u001b[0mforward\u001b[0m\u001b[0;34m(\u001b[0m\u001b[0mself\u001b[0m\u001b[0;34m,\u001b[0m \u001b[0mx\u001b[0m\u001b[0;34m)\u001b[0m\u001b[0;34m:\u001b[0m\u001b[0;34m\u001b[0m\u001b[0;34m\u001b[0m\u001b[0m\n\u001b[1;32m     83\u001b[0m         \u001b[0mbatch_size\u001b[0m \u001b[0;34m=\u001b[0m \u001b[0mx\u001b[0m\u001b[0;34m.\u001b[0m\u001b[0msize\u001b[0m\u001b[0;34m(\u001b[0m\u001b[0;36m0\u001b[0m\u001b[0;34m)\u001b[0m\u001b[0;34m\u001b[0m\u001b[0;34m\u001b[0m\u001b[0m\n\u001b[0;32m---> 84\u001b[0;31m         \u001b[0;32mreturn\u001b[0m \u001b[0mtorch\u001b[0m\u001b[0;34m.\u001b[0m\u001b[0msigmoid\u001b[0m\u001b[0;34m(\u001b[0m\u001b[0mself\u001b[0m\u001b[0;34m.\u001b[0m\u001b[0mnet\u001b[0m\u001b[0;34m(\u001b[0m\u001b[0mx\u001b[0m\u001b[0;34m)\u001b[0m\u001b[0;34m.\u001b[0m\u001b[0mview\u001b[0m\u001b[0;34m(\u001b[0m\u001b[0mbatch_size\u001b[0m\u001b[0;34m)\u001b[0m\u001b[0;34m)\u001b[0m\u001b[0;34m\u001b[0m\u001b[0;34m\u001b[0m\u001b[0m\n\u001b[0m\u001b[1;32m     85\u001b[0m \u001b[0;34m\u001b[0m\u001b[0m\n\u001b[1;32m     86\u001b[0m \u001b[0;34m\u001b[0m\u001b[0m\n",
      "\u001b[0;32m/usr/local/lib/python3.11/dist-packages/torch/nn/modules/module.py\u001b[0m in \u001b[0;36m_wrapped_call_impl\u001b[0;34m(self, *args, **kwargs)\u001b[0m\n\u001b[1;32m   1737\u001b[0m             \u001b[0;32mreturn\u001b[0m \u001b[0mself\u001b[0m\u001b[0;34m.\u001b[0m\u001b[0m_compiled_call_impl\u001b[0m\u001b[0;34m(\u001b[0m\u001b[0;34m*\u001b[0m\u001b[0margs\u001b[0m\u001b[0;34m,\u001b[0m \u001b[0;34m**\u001b[0m\u001b[0mkwargs\u001b[0m\u001b[0;34m)\u001b[0m  \u001b[0;31m# type: ignore[misc]\u001b[0m\u001b[0;34m\u001b[0m\u001b[0;34m\u001b[0m\u001b[0m\n\u001b[1;32m   1738\u001b[0m         \u001b[0;32melse\u001b[0m\u001b[0;34m:\u001b[0m\u001b[0;34m\u001b[0m\u001b[0;34m\u001b[0m\u001b[0m\n\u001b[0;32m-> 1739\u001b[0;31m             \u001b[0;32mreturn\u001b[0m \u001b[0mself\u001b[0m\u001b[0;34m.\u001b[0m\u001b[0m_call_impl\u001b[0m\u001b[0;34m(\u001b[0m\u001b[0;34m*\u001b[0m\u001b[0margs\u001b[0m\u001b[0;34m,\u001b[0m \u001b[0;34m**\u001b[0m\u001b[0mkwargs\u001b[0m\u001b[0;34m)\u001b[0m\u001b[0;34m\u001b[0m\u001b[0;34m\u001b[0m\u001b[0m\n\u001b[0m\u001b[1;32m   1740\u001b[0m \u001b[0;34m\u001b[0m\u001b[0m\n\u001b[1;32m   1741\u001b[0m     \u001b[0;31m# torchrec tests the code consistency with the following code\u001b[0m\u001b[0;34m\u001b[0m\u001b[0;34m\u001b[0m\u001b[0m\n",
      "\u001b[0;32m/usr/local/lib/python3.11/dist-packages/torch/nn/modules/module.py\u001b[0m in \u001b[0;36m_call_impl\u001b[0;34m(self, *args, **kwargs)\u001b[0m\n\u001b[1;32m   1748\u001b[0m                 \u001b[0;32mor\u001b[0m \u001b[0m_global_backward_pre_hooks\u001b[0m \u001b[0;32mor\u001b[0m \u001b[0m_global_backward_hooks\u001b[0m\u001b[0;34m\u001b[0m\u001b[0;34m\u001b[0m\u001b[0m\n\u001b[1;32m   1749\u001b[0m                 or _global_forward_hooks or _global_forward_pre_hooks):\n\u001b[0;32m-> 1750\u001b[0;31m             \u001b[0;32mreturn\u001b[0m \u001b[0mforward_call\u001b[0m\u001b[0;34m(\u001b[0m\u001b[0;34m*\u001b[0m\u001b[0margs\u001b[0m\u001b[0;34m,\u001b[0m \u001b[0;34m**\u001b[0m\u001b[0mkwargs\u001b[0m\u001b[0;34m)\u001b[0m\u001b[0;34m\u001b[0m\u001b[0;34m\u001b[0m\u001b[0m\n\u001b[0m\u001b[1;32m   1751\u001b[0m \u001b[0;34m\u001b[0m\u001b[0m\n\u001b[1;32m   1752\u001b[0m         \u001b[0mresult\u001b[0m \u001b[0;34m=\u001b[0m \u001b[0;32mNone\u001b[0m\u001b[0;34m\u001b[0m\u001b[0;34m\u001b[0m\u001b[0m\n",
      "\u001b[0;32m/usr/local/lib/python3.11/dist-packages/torch/nn/modules/container.py\u001b[0m in \u001b[0;36mforward\u001b[0;34m(self, input)\u001b[0m\n\u001b[1;32m    248\u001b[0m     \u001b[0;32mdef\u001b[0m \u001b[0mforward\u001b[0m\u001b[0;34m(\u001b[0m\u001b[0mself\u001b[0m\u001b[0;34m,\u001b[0m \u001b[0minput\u001b[0m\u001b[0;34m)\u001b[0m\u001b[0;34m:\u001b[0m\u001b[0;34m\u001b[0m\u001b[0;34m\u001b[0m\u001b[0m\n\u001b[1;32m    249\u001b[0m         \u001b[0;32mfor\u001b[0m \u001b[0mmodule\u001b[0m \u001b[0;32min\u001b[0m \u001b[0mself\u001b[0m\u001b[0;34m:\u001b[0m\u001b[0;34m\u001b[0m\u001b[0;34m\u001b[0m\u001b[0m\n\u001b[0;32m--> 250\u001b[0;31m             \u001b[0minput\u001b[0m \u001b[0;34m=\u001b[0m \u001b[0mmodule\u001b[0m\u001b[0;34m(\u001b[0m\u001b[0minput\u001b[0m\u001b[0;34m)\u001b[0m\u001b[0;34m\u001b[0m\u001b[0;34m\u001b[0m\u001b[0m\n\u001b[0m\u001b[1;32m    251\u001b[0m         \u001b[0;32mreturn\u001b[0m \u001b[0minput\u001b[0m\u001b[0;34m\u001b[0m\u001b[0;34m\u001b[0m\u001b[0m\n\u001b[1;32m    252\u001b[0m \u001b[0;34m\u001b[0m\u001b[0m\n",
      "\u001b[0;32m/usr/local/lib/python3.11/dist-packages/torch/nn/modules/module.py\u001b[0m in \u001b[0;36m_wrapped_call_impl\u001b[0;34m(self, *args, **kwargs)\u001b[0m\n\u001b[1;32m   1737\u001b[0m             \u001b[0;32mreturn\u001b[0m \u001b[0mself\u001b[0m\u001b[0;34m.\u001b[0m\u001b[0m_compiled_call_impl\u001b[0m\u001b[0;34m(\u001b[0m\u001b[0;34m*\u001b[0m\u001b[0margs\u001b[0m\u001b[0;34m,\u001b[0m \u001b[0;34m**\u001b[0m\u001b[0mkwargs\u001b[0m\u001b[0;34m)\u001b[0m  \u001b[0;31m# type: ignore[misc]\u001b[0m\u001b[0;34m\u001b[0m\u001b[0;34m\u001b[0m\u001b[0m\n\u001b[1;32m   1738\u001b[0m         \u001b[0;32melse\u001b[0m\u001b[0;34m:\u001b[0m\u001b[0;34m\u001b[0m\u001b[0;34m\u001b[0m\u001b[0m\n\u001b[0;32m-> 1739\u001b[0;31m             \u001b[0;32mreturn\u001b[0m \u001b[0mself\u001b[0m\u001b[0;34m.\u001b[0m\u001b[0m_call_impl\u001b[0m\u001b[0;34m(\u001b[0m\u001b[0;34m*\u001b[0m\u001b[0margs\u001b[0m\u001b[0;34m,\u001b[0m \u001b[0;34m**\u001b[0m\u001b[0mkwargs\u001b[0m\u001b[0;34m)\u001b[0m\u001b[0;34m\u001b[0m\u001b[0;34m\u001b[0m\u001b[0m\n\u001b[0m\u001b[1;32m   1740\u001b[0m \u001b[0;34m\u001b[0m\u001b[0m\n\u001b[1;32m   1741\u001b[0m     \u001b[0;31m# torchrec tests the code consistency with the following code\u001b[0m\u001b[0;34m\u001b[0m\u001b[0;34m\u001b[0m\u001b[0m\n",
      "\u001b[0;32m/usr/local/lib/python3.11/dist-packages/torch/nn/modules/module.py\u001b[0m in \u001b[0;36m_call_impl\u001b[0;34m(self, *args, **kwargs)\u001b[0m\n\u001b[1;32m   1748\u001b[0m                 \u001b[0;32mor\u001b[0m \u001b[0m_global_backward_pre_hooks\u001b[0m \u001b[0;32mor\u001b[0m \u001b[0m_global_backward_hooks\u001b[0m\u001b[0;34m\u001b[0m\u001b[0;34m\u001b[0m\u001b[0m\n\u001b[1;32m   1749\u001b[0m                 or _global_forward_hooks or _global_forward_pre_hooks):\n\u001b[0;32m-> 1750\u001b[0;31m             \u001b[0;32mreturn\u001b[0m \u001b[0mforward_call\u001b[0m\u001b[0;34m(\u001b[0m\u001b[0;34m*\u001b[0m\u001b[0margs\u001b[0m\u001b[0;34m,\u001b[0m \u001b[0;34m**\u001b[0m\u001b[0mkwargs\u001b[0m\u001b[0;34m)\u001b[0m\u001b[0;34m\u001b[0m\u001b[0;34m\u001b[0m\u001b[0m\n\u001b[0m\u001b[1;32m   1751\u001b[0m \u001b[0;34m\u001b[0m\u001b[0m\n\u001b[1;32m   1752\u001b[0m         \u001b[0mresult\u001b[0m \u001b[0;34m=\u001b[0m \u001b[0;32mNone\u001b[0m\u001b[0;34m\u001b[0m\u001b[0;34m\u001b[0m\u001b[0m\n",
      "\u001b[0;32m/usr/local/lib/python3.11/dist-packages/torch/nn/modules/activation.py\u001b[0m in \u001b[0;36mforward\u001b[0;34m(self, input)\u001b[0m\n\u001b[1;32m    826\u001b[0m \u001b[0;34m\u001b[0m\u001b[0m\n\u001b[1;32m    827\u001b[0m     \u001b[0;32mdef\u001b[0m \u001b[0mforward\u001b[0m\u001b[0;34m(\u001b[0m\u001b[0mself\u001b[0m\u001b[0;34m,\u001b[0m \u001b[0minput\u001b[0m\u001b[0;34m:\u001b[0m \u001b[0mTensor\u001b[0m\u001b[0;34m)\u001b[0m \u001b[0;34m->\u001b[0m \u001b[0mTensor\u001b[0m\u001b[0;34m:\u001b[0m\u001b[0;34m\u001b[0m\u001b[0;34m\u001b[0m\u001b[0m\n\u001b[0;32m--> 828\u001b[0;31m         \u001b[0;32mreturn\u001b[0m \u001b[0mF\u001b[0m\u001b[0;34m.\u001b[0m\u001b[0mleaky_relu\u001b[0m\u001b[0;34m(\u001b[0m\u001b[0minput\u001b[0m\u001b[0;34m,\u001b[0m \u001b[0mself\u001b[0m\u001b[0;34m.\u001b[0m\u001b[0mnegative_slope\u001b[0m\u001b[0;34m,\u001b[0m \u001b[0mself\u001b[0m\u001b[0;34m.\u001b[0m\u001b[0minplace\u001b[0m\u001b[0;34m)\u001b[0m\u001b[0;34m\u001b[0m\u001b[0;34m\u001b[0m\u001b[0m\n\u001b[0m\u001b[1;32m    829\u001b[0m \u001b[0;34m\u001b[0m\u001b[0m\n\u001b[1;32m    830\u001b[0m     \u001b[0;32mdef\u001b[0m \u001b[0mextra_repr\u001b[0m\u001b[0;34m(\u001b[0m\u001b[0mself\u001b[0m\u001b[0;34m)\u001b[0m \u001b[0;34m->\u001b[0m \u001b[0mstr\u001b[0m\u001b[0;34m:\u001b[0m\u001b[0;34m\u001b[0m\u001b[0;34m\u001b[0m\u001b[0m\n",
      "\u001b[0;32m/usr/local/lib/python3.11/dist-packages/torch/nn/functional.py\u001b[0m in \u001b[0;36mleaky_relu\u001b[0;34m(input, negative_slope, inplace)\u001b[0m\n\u001b[1;32m   1900\u001b[0m         \u001b[0mresult\u001b[0m \u001b[0;34m=\u001b[0m \u001b[0mtorch\u001b[0m\u001b[0;34m.\u001b[0m\u001b[0m_C\u001b[0m\u001b[0;34m.\u001b[0m\u001b[0m_nn\u001b[0m\u001b[0;34m.\u001b[0m\u001b[0mleaky_relu_\u001b[0m\u001b[0;34m(\u001b[0m\u001b[0minput\u001b[0m\u001b[0;34m,\u001b[0m \u001b[0mnegative_slope\u001b[0m\u001b[0;34m)\u001b[0m\u001b[0;34m\u001b[0m\u001b[0;34m\u001b[0m\u001b[0m\n\u001b[1;32m   1901\u001b[0m     \u001b[0;32melse\u001b[0m\u001b[0;34m:\u001b[0m\u001b[0;34m\u001b[0m\u001b[0;34m\u001b[0m\u001b[0m\n\u001b[0;32m-> 1902\u001b[0;31m         \u001b[0mresult\u001b[0m \u001b[0;34m=\u001b[0m \u001b[0mtorch\u001b[0m\u001b[0;34m.\u001b[0m\u001b[0m_C\u001b[0m\u001b[0;34m.\u001b[0m\u001b[0m_nn\u001b[0m\u001b[0;34m.\u001b[0m\u001b[0mleaky_relu\u001b[0m\u001b[0;34m(\u001b[0m\u001b[0minput\u001b[0m\u001b[0;34m,\u001b[0m \u001b[0mnegative_slope\u001b[0m\u001b[0;34m)\u001b[0m\u001b[0;34m\u001b[0m\u001b[0;34m\u001b[0m\u001b[0m\n\u001b[0m\u001b[1;32m   1903\u001b[0m     \u001b[0;32mreturn\u001b[0m \u001b[0mresult\u001b[0m\u001b[0;34m\u001b[0m\u001b[0;34m\u001b[0m\u001b[0m\n\u001b[1;32m   1904\u001b[0m \u001b[0;34m\u001b[0m\u001b[0m\n",
      "\u001b[0;31mOutOfMemoryError\u001b[0m: CUDA out of memory. Tried to allocate 576.00 MiB. GPU 0 has a total capacity of 14.74 GiB of which 32.12 MiB is free. Process 14259 has 14.71 GiB memory in use. Of the allocated memory 14.22 GiB is allocated by PyTorch, and 379.70 MiB is reserved by PyTorch but unallocated. If reserved but unallocated memory is large try setting PYTORCH_CUDA_ALLOC_CONF=expandable_segments:True to avoid fragmentation.  See documentation for Memory Management  (https://pytorch.org/docs/stable/notes/cuda.html#environment-variables)"
     ]
    }
   ],
   "source": [
    "import torch\n",
    "from torch import nn, optim\n",
    "from tqdm import tqdm\n",
    "from SRGAN.model import Generator, Discriminator  # Si estás usando el repo clonado\n",
    "\n",
    "# Modelos\n",
    "generator = Generator(scale_factor=4)\n",
    "discriminator = Discriminator()\n",
    "\n",
    "# Dispositivos\n",
    "device = torch.device(\"cuda\" if torch.cuda.is_available() else \"cpu\")\n",
    "print(device)\n",
    "generator = generator.to(device)\n",
    "discriminator = discriminator.to(device)\n",
    "\n",
    "# Pérdidas\n",
    "criterion_GAN = nn.BCEWithLogitsLoss()\n",
    "criterion_content = nn.MSELoss()\n",
    "\n",
    "# Optimizadores\n",
    "optimizer_G = optim.Adam(generator.parameters(), lr=1e-4)\n",
    "optimizer_D = optim.Adam(discriminator.parameters(), lr=1e-4)\n",
    "\n",
    "# Entrenamiento\n",
    "for epoch in range(100):\n",
    "    generator.train()\n",
    "    discriminator.train()\n",
    "    loop = tqdm(train_loader, leave=False)\n",
    "    for batch in loop:\n",
    "        lr = batch['lr'].to(device)\n",
    "        hr = batch['hr'].to(device)\n",
    "\n",
    "        # Train D\n",
    "        fake_hr = generator(lr)\n",
    "        real_out = discriminator(hr)\n",
    "        fake_out = discriminator(fake_hr.detach())\n",
    "\n",
    "        loss_real = criterion_GAN(real_out - fake_out.mean(), torch.ones_like(real_out))\n",
    "        loss_fake = criterion_GAN(fake_out - real_out.mean(), torch.zeros_like(fake_out))\n",
    "        loss_D = (loss_real + loss_fake) / 2\n",
    "\n",
    "        optimizer_D.zero_grad()\n",
    "        loss_D.backward()\n",
    "        optimizer_D.step()\n",
    "\n",
    "        # Train G\n",
    "        fake_hr = generator(lr)\n",
    "        fake_out = discriminator(fake_hr)\n",
    "\n",
    "        loss_content = criterion_content(fake_hr, hr)\n",
    "        loss_adv = criterion_GAN(fake_out - real_out.mean(), torch.ones_like(fake_out))\n",
    "        loss_G = loss_content + 1e-3 * loss_adv\n",
    "\n",
    "        optimizer_G.zero_grad()\n",
    "        loss_G.backward()\n",
    "        optimizer_G.step()\n",
    "\n",
    "        loop.set_description(f\"Epoch [{epoch+1}/100]\")\n",
    "        loop.set_postfix(loss_G=loss_G.item(), loss_D=loss_D.item())\n"
   ]
  },
  {
   "cell_type": "code",
   "execution_count": null,
   "metadata": {
    "id": "RItW21hwAz4F"
   },
   "outputs": [],
   "source": [
    "import torchvision.utils as vutils\n",
    "\n",
    "generator.eval()\n",
    "with torch.no_grad():\n",
    "    for i, batch in enumerate(val_loader):\n",
    "        lr = batch['lr'].to(device)\n",
    "        sr = generator(lr)\n",
    "        vutils.save_image(sr, f\"sr_output_{i}.png\", normalize=True)\n",
    "        vutils.save_image(batch['hr'], f\"hr_target_{i}.png\", normalize=True)\n"
   ]
  },
  {
   "cell_type": "markdown",
   "metadata": {
    "id": "kchZa1DP-HOx"
   },
   "source": [
    "#Paso 1: Descarga y carga del generador preentrenado"
   ]
  },
  {
   "cell_type": "code",
   "execution_count": null,
   "metadata": {
    "colab": {
     "base_uri": "https://localhost:8080/",
     "height": 454
    },
    "id": "Fa9bR8Dw9yFT",
    "outputId": "16ff6b92-cb75-47aa-bed6-dad4d436b2c7"
   },
   "outputs": [
    {
     "name": "stderr",
     "output_type": "stream",
     "text": [
      "Create the backend configuration file :/root/.tl/tl_backend.json\n",
      "Using TensorFlow backend.\n",
      "/usr/local/lib/python3.11/dist-packages/tensorlayerx/__init__.py:45: UserWarning: The version of the backend you have installed does not match the specified backend version and may not work, please install version tensorflow 2.4.0.\n",
      "  warnings.warn(\"The version of the backend you have installed does not match the specified backend version \"\n"
     ]
    },
    {
     "ename": "ModuleNotFoundError",
     "errorDetails": {
      "actions": [
       {
        "action": "open_url",
        "actionText": "Open Examples",
        "url": "/notebooks/snippets/importing_libraries.ipynb"
       }
      ]
     },
     "evalue": "No module named 'tensorlayerx.models'",
     "output_type": "error",
     "traceback": [
      "\u001b[0;31m---------------------------------------------------------------------------\u001b[0m",
      "\u001b[0;31mModuleNotFoundError\u001b[0m                       Traceback (most recent call last)",
      "\u001b[0;32m<ipython-input-1-2078900996>\u001b[0m in \u001b[0;36m<cell line: 0>\u001b[0;34m()\u001b[0m\n\u001b[1;32m      1\u001b[0m \u001b[0;32mimport\u001b[0m \u001b[0mtensorlayerx\u001b[0m \u001b[0;32mas\u001b[0m \u001b[0mtlx\u001b[0m\u001b[0;34m\u001b[0m\u001b[0;34m\u001b[0m\u001b[0m\n\u001b[0;32m----> 2\u001b[0;31m \u001b[0;32mfrom\u001b[0m \u001b[0mtensorlayerx\u001b[0m\u001b[0;34m.\u001b[0m\u001b[0mmodels\u001b[0m\u001b[0;34m.\u001b[0m\u001b[0msrgan\u001b[0m \u001b[0;32mimport\u001b[0m \u001b[0mSRGAN_g\u001b[0m\u001b[0;34m\u001b[0m\u001b[0;34m\u001b[0m\u001b[0m\n\u001b[0m\u001b[1;32m      3\u001b[0m \u001b[0;34m\u001b[0m\u001b[0m\n\u001b[1;32m      4\u001b[0m \u001b[0;31m# Cargar generador preentrenado (weights pretrained en DIV2K)\u001b[0m\u001b[0;34m\u001b[0m\u001b[0;34m\u001b[0m\u001b[0m\n\u001b[1;32m      5\u001b[0m \u001b[0mgenerator\u001b[0m \u001b[0;34m=\u001b[0m \u001b[0mSRGAN_g\u001b[0m\u001b[0;34m(\u001b[0m\u001b[0;34m)\u001b[0m\u001b[0;34m\u001b[0m\u001b[0;34m\u001b[0m\u001b[0m\n",
      "\u001b[0;31mModuleNotFoundError\u001b[0m: No module named 'tensorlayerx.models'",
      "",
      "\u001b[0;31m---------------------------------------------------------------------------\u001b[0;32m\nNOTE: If your import is failing due to a missing package, you can\nmanually install dependencies using either !pip or !apt.\n\nTo view examples of installing some common dependencies, click the\n\"Open Examples\" button below.\n\u001b[0;31m---------------------------------------------------------------------------\u001b[0m\n"
     ]
    }
   ],
   "source": [
    "import tensorlayerx as tlx\n",
    "from tensorlayerx.models.srgan import SRGAN_g\n",
    "\n",
    "# Cargar generador preentrenado (weights pretrained en DIV2K)\n",
    "generator = SRGAN_g()\n",
    "generator.set_eval()\n",
    "tlx.files.load_and_assign_npz(name='pretrained_srgan_g.npz', network=generator)\n",
    "\n",
    "# Ahora generator está listo para seguir entrenando/fine-tuning"
   ]
  },
  {
   "cell_type": "markdown",
   "metadata": {
    "id": "AITLcjnE-FT0"
   },
   "source": [
    "#Paso 2: Cargar tus datos en pares LR-HR, sin clases"
   ]
  },
  {
   "cell_type": "code",
   "execution_count": null,
   "metadata": {
    "id": "xoBmvxi-96O5"
   },
   "outputs": [],
   "source": [
    "import os\n",
    "import numpy as np\n",
    "from PIL import Image\n",
    "\n",
    "def load_img(path, size=None):\n",
    "    img = Image.open(path).convert('RGB')\n",
    "    if size is not None:\n",
    "        img = img.resize(size, Image.BICUBIC)\n",
    "    img = np.array(img).astype(np.float32)\n",
    "    img = (img / 127.5) - 1  # normalizar [-1,1]\n",
    "    return img\n",
    "\n",
    "def load_pairs(lr_dir, hr_dir):\n",
    "    lr_imgs = sorted(os.listdir(lr_dir))\n",
    "    hr_imgs = sorted(os.listdir(hr_dir))\n",
    "    pairs = []\n",
    "    for fn in lr_imgs:\n",
    "        if fn in hr_imgs:\n",
    "            pairs.append((os.path.join(lr_dir, fn), os.path.join(hr_dir, fn)))\n",
    "    return pairs\n",
    "\n",
    "train_pairs = load_pairs('/content/split_data/train/acs', '/content/split_data/train/dud')\n",
    "val_pairs = load_pairs('/content/split_data/val/acs', '/content/split_data/val/dud')\n"
   ]
  },
  {
   "cell_type": "markdown",
   "metadata": {
    "id": "7iXo0-oc-Dj5"
   },
   "source": [
    "#Paso 3: Data generator para batch"
   ]
  },
  {
   "cell_type": "code",
   "execution_count": null,
   "metadata": {
    "id": "kqzVU4oJ98MT"
   },
   "outputs": [],
   "source": [
    "def data_generator(pairs, batch_size=4):\n",
    "    while True:\n",
    "        batch = np.random.choice(pairs, batch_size)\n",
    "        lr_batch, hr_batch = [], []\n",
    "        for lr_path, hr_path in batch:\n",
    "            lr_img = load_img(lr_path, size=(152,152))\n",
    "            hr_img = load_img(hr_path, size=(520,520))\n",
    "            lr_batch.append(lr_img)\n",
    "            hr_batch.append(hr_img)\n",
    "        yield np.array(lr_batch), np.array(hr_batch)\n"
   ]
  },
  {
   "cell_type": "markdown",
   "metadata": {
    "id": "eEXFPqJY-BCh"
   },
   "source": [
    "#Paso 4: Entrenar/fine-tunear generador preentrenado con MSE primero"
   ]
  },
  {
   "cell_type": "code",
   "execution_count": null,
   "metadata": {
    "id": "yiH5tXud9-q5"
   },
   "outputs": [],
   "source": [
    "import tensorflow as tf\n",
    "\n",
    "generator.train()\n",
    "\n",
    "mse_loss = tf.keras.losses.MeanSquaredError()\n",
    "optimizer = tf.keras.optimizers.Adam(learning_rate=1e-4)\n",
    "\n",
    "@tf.function\n",
    "def pretrain_step(lr_imgs, hr_imgs):\n",
    "    with tf.GradientTape() as tape:\n",
    "        sr_imgs = generator(lr_imgs, training=True)\n",
    "        loss = mse_loss(hr_imgs, sr_imgs)\n",
    "    grads = tape.gradient(loss, generator.trainable_variables)\n",
    "    optimizer.apply_gradients(zip(grads, generator.trainable_variables))\n",
    "    return loss\n"
   ]
  }
 ],
 "metadata": {
  "accelerator": "GPU",
  "colab": {
   "gpuType": "T4",
   "provenance": []
  },
  "kernelspec": {
   "display_name": "Python 3 (ipykernel)",
   "language": "python",
   "name": "python3"
  },
  "language_info": {
   "codemirror_mode": {
    "name": "ipython",
    "version": 3
   },
   "file_extension": ".py",
   "mimetype": "text/x-python",
   "name": "python",
   "nbconvert_exporter": "python",
   "pygments_lexer": "ipython3",
   "version": "3.10.14"
  }
 },
 "nbformat": 4,
 "nbformat_minor": 4
}
