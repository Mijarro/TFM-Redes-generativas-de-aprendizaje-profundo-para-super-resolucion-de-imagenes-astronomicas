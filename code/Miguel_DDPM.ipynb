{
  "nbformat": 4,
  "nbformat_minor": 0,
  "metadata": {
    "colab": {
      "provenance": []
    },
    "kernelspec": {
      "name": "python3",
      "display_name": "Python 3"
    },
    "language_info": {
      "name": "python"
    }
  },
  "cells": [
    {
      "cell_type": "code",
      "execution_count": null,
      "metadata": {
        "id": "Lhxc1XuliEau",
        "colab": {
          "base_uri": "https://localhost:8080/"
        },
        "outputId": "00124381-931a-4ac9-e55c-d2a7ea5836e9"
      },
      "outputs": [
        {
          "output_type": "stream",
          "name": "stdout",
          "text": [
            "Mounted at /content/drive\n",
            "Downloading...\n",
            "From (original): https://drive.google.com/uc?id=1JkCpzOk8qqakxUW-phQi6JeAah_mIn90\n",
            "From (redirected): https://drive.google.com/uc?id=1JkCpzOk8qqakxUW-phQi6JeAah_mIn90&confirm=t&uuid=fbda4af8-f199-4205-a840-29299a27037d\n",
            "To: /content/split_data608.zip\n",
            "100% 1.48G/1.48G [00:15<00:00, 93.9MB/s]\n",
            "Downloading...\n",
            "From (original): https://drive.google.com/uc?id=18BuPskF5yQNZpGMv9nzDuSe20KCmEwvU\n",
            "From (redirected): https://drive.google.com/uc?id=18BuPskF5yQNZpGMv9nzDuSe20KCmEwvU&confirm=t&uuid=12fc158b-0cac-44d8-b719-98ecfaa817fc\n",
            "To: /content/DDMP_UNet-20250629T195613Z-1-001.zip\n",
            "100% 979M/979M [00:11<00:00, 88.8MB/s]\n",
            "Archivo descomprimido en: /content\n",
            "Archivo descomprimido en: /content\n"
          ]
        }
      ],
      "source": [
        "from google.colab import drive\n",
        "import zipfile\n",
        "import os\n",
        "\n",
        "drive.mount('/content/drive')\n",
        "\n",
        "!gdown https://drive.google.com/uc?id=1JkCpzOk8qqakxUW-phQi6JeAah_mIn90\n",
        "!gdown https://drive.google.com/uc?id=18BuPskF5yQNZpGMv9nzDuSe20KCmEwvU\n",
        "\n",
        "# Definir rutas\n",
        "zip_path = '/content/split_data608.zip'\n",
        "extract_path = '/content'\n",
        "\n",
        "# Crear carpeta de destino si no existe\n",
        "os.makedirs(extract_path, exist_ok=True)\n",
        "\n",
        "# Descomprimir el archivo\n",
        "with zipfile.ZipFile(zip_path, 'r') as zip_ref:\n",
        "    zip_ref.extractall(extract_path)\n",
        "\n",
        "print(\"Archivo descomprimido en:\", extract_path)\n",
        "\n",
        "# Definir rutas\n",
        "zip_path = '/content/DDMP_UNet-20250629T195613Z-1-001.zip'\n",
        "extract_path = '/content'\n",
        "\n",
        "# Crear carpeta de destino si no existe\n",
        "os.makedirs(extract_path, exist_ok=True)\n",
        "\n",
        "# Descomprimir el archivo\n",
        "with zipfile.ZipFile(zip_path, 'r') as zip_ref:\n",
        "    zip_ref.extractall(extract_path)\n",
        "\n",
        "print(\"Archivo descomprimido en:\", extract_path)"
      ]
    },
    {
      "cell_type": "code",
      "source": [
        "!pip install lightning --quiet\n",
        "!pip install torchviz --quiet\n",
        "!pip install hiddenlayer --quiet\n",
        "!pip install onnx --quiet"
      ],
      "metadata": {
        "colab": {
          "base_uri": "https://localhost:8080/"
        },
        "id": "qftdBiD0gHBH",
        "outputId": "a59c6359-3986-47e4-fd92-42228749a0c7"
      },
      "execution_count": null,
      "outputs": [
        {
          "output_type": "stream",
          "name": "stdout",
          "text": [
            "\u001b[?25l   \u001b[90m━━━━━━━━━━━━━━━━━━━━━━━━━━━━━━━━━━━━━━━━\u001b[0m \u001b[32m0.0/825.2 kB\u001b[0m \u001b[31m?\u001b[0m eta \u001b[36m-:--:--\u001b[0m\r\u001b[2K   \u001b[91m━━━━━━━━━━━━━━━━━━━━━━━━━━━━━━━━━━━━━━━\u001b[0m\u001b[91m╸\u001b[0m \u001b[32m819.2/825.2 kB\u001b[0m \u001b[31m52.3 MB/s\u001b[0m eta \u001b[36m0:00:01\u001b[0m\r\u001b[2K   \u001b[90m━━━━━━━━━━━━━━━━━━━━━━━━━━━━━━━━━━━━━━━━\u001b[0m \u001b[32m825.2/825.2 kB\u001b[0m \u001b[31m23.3 MB/s\u001b[0m eta \u001b[36m0:00:00\u001b[0m\n",
            "\u001b[2K   \u001b[90m━━━━━━━━━━━━━━━━━━━━━━━━━━━━━━━━━━━━━━━━\u001b[0m \u001b[32m983.0/983.0 kB\u001b[0m \u001b[31m34.1 MB/s\u001b[0m eta \u001b[36m0:00:00\u001b[0m\n",
            "\u001b[2K   \u001b[90m━━━━━━━━━━━━━━━━━━━━━━━━━━━━━━━━━━━━━━━━\u001b[0m \u001b[32m829.2/829.2 kB\u001b[0m \u001b[31m32.4 MB/s\u001b[0m eta \u001b[36m0:00:00\u001b[0m\n",
            "\u001b[2K   \u001b[90m━━━━━━━━━━━━━━━━━━━━━━━━━━━━━━━━━━━━━━━━\u001b[0m \u001b[32m18.2/18.2 MB\u001b[0m \u001b[31m53.5 MB/s\u001b[0m eta \u001b[36m0:00:00\u001b[0m\n",
            "\u001b[?25h"
          ]
        }
      ]
    },
    {
      "cell_type": "code",
      "source": [
        "import os\n",
        "from PIL import Image\n",
        "\n",
        "def check_image_sizes(directory):\n",
        "    sizes = {}\n",
        "    print(f\"\\n📂 Analizando: {directory}\")\n",
        "    for filename in os.listdir(directory):\n",
        "        path = os.path.join(directory, filename)\n",
        "        try:\n",
        "            with Image.open(path) as img:\n",
        "                size = img.size  # (width, height)\n",
        "                sizes[size] = sizes.get(size, 0) + 1\n",
        "        except Exception as e:\n",
        "            print(f\"❌ Error con {filename}: {e}\")\n",
        "\n",
        "    for size, count in sizes.items():\n",
        "        print(f\"🖼️ {count} imágenes de tamaño {size[0]}x{size[1]}\")\n",
        "    if not sizes:\n",
        "        print(\"⚠️ No se encontraron imágenes válidas.\")\n",
        "\n",
        "# Carpetas a verificar\n",
        "check_image_sizes(\"/content/split_data/train/acs\")  # LR\n",
        "check_image_sizes(\"/content/split_data/train/dud\")  # HR\n",
        "check_image_sizes(\"/content/split_data/val/acs\")    # LR\n",
        "check_image_sizes(\"/content/split_data/val/dud\")    # HR"
      ],
      "metadata": {
        "colab": {
          "base_uri": "https://localhost:8080/"
        },
        "id": "pmhlB_zbi7u_",
        "outputId": "2c31ceb5-4a56-4bd3-9a46-5004c7ad410d"
      },
      "execution_count": null,
      "outputs": [
        {
          "output_type": "stream",
          "name": "stdout",
          "text": [
            "\n",
            "📂 Analizando: /content/split_data/train/acs\n",
            "🖼️ 103129 imágenes de tamaño 608x608\n",
            "\n",
            "📂 Analizando: /content/split_data/train/dud\n",
            "🖼️ 103129 imágenes de tamaño 152x152\n",
            "\n",
            "📂 Analizando: /content/split_data/val/acs\n",
            "🖼️ 12891 imágenes de tamaño 608x608\n",
            "\n",
            "📂 Analizando: /content/split_data/val/dud\n",
            "🖼️ 12891 imágenes de tamaño 152x152\n"
          ]
        }
      ]
    },
    {
      "cell_type": "code",
      "source": [
        "import torch\n",
        "from pytorch_lightning import Trainer, seed_everything\n",
        "from pytorch_lightning.callbacks import ModelCheckpoint, EarlyStopping\n",
        "from pytorch_lightning.loggers import TensorBoardLogger\n",
        "import torch.nn as nn\n",
        "import torch.nn.functional as F\n",
        "from torchviz import make_dot\n",
        "from torchsummary import summary\n",
        "import os, glob\n",
        "from PIL import Image\n",
        "import torch\n",
        "from torch.utils.data import Dataset, DataLoader\n",
        "import torchvision.transforms as T\n",
        "import matplotlib.pyplot as plt\n",
        "import os\n",
        "import torch\n",
        "import torch.nn as nn\n",
        "from torch.utils.data import DataLoader\n",
        "\n",
        "import lightning as L\n",
        "from lightning.fabric.utilities.seed import seed_everything\n",
        "from lightning.pytorch.loggers.wandb import WandbLogger\n",
        "from lightning.pytorch.callbacks import EarlyStopping\n",
        "\n",
        "import sys\n",
        "sys.path.append(\"/content/DDMP_UNet\")\n",
        "from src.callbacks.metrics_new import MetricsCallbackDDPM\n",
        "from src.ddpm.ddpm_A import DDPM_2D"
      ],
      "metadata": {
        "id": "120mLncJf2FC"
      },
      "execution_count": null,
      "outputs": []
    },
    {
      "cell_type": "code",
      "source": [
        "ddpm_model = DDPM_2D(\n",
        "    in_channels=2,\n",
        "    out_channels=1,\n",
        "    diffusion_steps=400,\n",
        "    dropout=0.10,\n",
        "    lr=1e-3,\n",
        "    encoder_channels=[64, 128, 256, 512],\n",
        "    loss_fn=nn.MSELoss(),\n",
        ")\n",
        "\n",
        "# Simulamos entrada y referencia con resolución 152x152\n",
        "x = torch.randn(1, 1, 152, 152)        # Imagen original\n",
        "ref = torch.randn(1, 1, 152, 152)      # Imagen de referencia\n",
        "t = torch.tensor([0])                 # Un paso temporal arbitrario\n",
        "\n",
        "# Concatenamos en canal: [1, 2, 152, 152]\n",
        "x_cat = torch.cat([x, ref], dim=1)\n",
        "\n",
        "# Pasamos por el modelo\n",
        "out = ddpm_model(x_cat, t)"
      ],
      "metadata": {
        "colab": {
          "base_uri": "https://localhost:8080/"
        },
        "id": "d5f4lcc_g8S_",
        "outputId": "c4cde70e-e035-44c6-c2bc-a2c0532d833b"
      },
      "execution_count": null,
      "outputs": [
        {
          "output_type": "stream",
          "name": "stdout",
          "text": [
            "[DownBlock] in=64, out=128, groups_in=32, groups_out=32\n",
            "[DownBlock] in=128, out=256, groups_in=32, groups_out=32\n"
          ]
        }
      ]
    },
    {
      "cell_type": "code",
      "source": [
        "print(ddpm_model)"
      ],
      "metadata": {
        "colab": {
          "base_uri": "https://localhost:8080/"
        },
        "id": "9SAb87WXiYMH",
        "outputId": "4b2ea57c-e61f-4efe-9d98-6d4aee1ad6d7"
      },
      "execution_count": null,
      "outputs": [
        {
          "output_type": "stream",
          "name": "stdout",
          "text": [
            "DDPM_2D(\n",
            "  (loss): MSELoss()\n",
            "  (time_embedding): PositionalEncoding()\n",
            "  (model): UNetSuperRes(\n",
            "    (loss_fn): MSELoss()\n",
            "    (downs): ModuleList(\n",
            "      (0): Down_Res_GroupNorm_SiLU_D(\n",
            "        (module): Sequential(\n",
            "          (0): MaxPool2d(kernel_size=2, stride=2, padding=0, dilation=1, ceil_mode=False)\n",
            "          (1): ResBlockGroupNorm(\n",
            "            (main_path): Sequential(\n",
            "              (0): Conv2d(64, 128, kernel_size=(3, 3), stride=(1, 1), padding=(1, 1), bias=False)\n",
            "              (1): GroupNorm(32, 128, eps=0.001, affine=True)\n",
            "              (2): SiLU(inplace=True)\n",
            "              (3): Dropout(p=0.1, inplace=False)\n",
            "              (4): Conv2d(128, 128, kernel_size=(3, 3), stride=(1, 1), padding=(1, 1), bias=False)\n",
            "              (5): GroupNorm(32, 128, eps=0.001, affine=True)\n",
            "              (6): SiLU(inplace=True)\n",
            "              (7): Dropout(p=0.1, inplace=False)\n",
            "            )\n",
            "            (residual_connection): Conv2d(64, 128, kernel_size=(1, 1), stride=(1, 1), bias=False)\n",
            "          )\n",
            "          (2): ResBlockGroupNorm(\n",
            "            (main_path): Sequential(\n",
            "              (0): Conv2d(128, 128, kernel_size=(3, 3), stride=(1, 1), padding=(1, 1), bias=False)\n",
            "              (1): GroupNorm(32, 128, eps=0.001, affine=True)\n",
            "              (2): SiLU(inplace=True)\n",
            "              (3): Dropout(p=0.1, inplace=False)\n",
            "              (4): Conv2d(128, 128, kernel_size=(3, 3), stride=(1, 1), padding=(1, 1), bias=False)\n",
            "              (5): GroupNorm(32, 128, eps=0.001, affine=True)\n",
            "              (6): SiLU(inplace=True)\n",
            "              (7): Dropout(p=0.1, inplace=False)\n",
            "            )\n",
            "            (residual_connection): Identity()\n",
            "          )\n",
            "        )\n",
            "      )\n",
            "      (1): Down_Res_GroupNorm_SiLU_D(\n",
            "        (module): Sequential(\n",
            "          (0): MaxPool2d(kernel_size=2, stride=2, padding=0, dilation=1, ceil_mode=False)\n",
            "          (1): ResBlockGroupNorm(\n",
            "            (main_path): Sequential(\n",
            "              (0): Conv2d(128, 256, kernel_size=(3, 3), stride=(1, 1), padding=(1, 1), bias=False)\n",
            "              (1): GroupNorm(32, 256, eps=0.001, affine=True)\n",
            "              (2): SiLU(inplace=True)\n",
            "              (3): Dropout(p=0.1, inplace=False)\n",
            "              (4): Conv2d(256, 256, kernel_size=(3, 3), stride=(1, 1), padding=(1, 1), bias=False)\n",
            "              (5): GroupNorm(32, 256, eps=0.001, affine=True)\n",
            "              (6): SiLU(inplace=True)\n",
            "              (7): Dropout(p=0.1, inplace=False)\n",
            "            )\n",
            "            (residual_connection): Conv2d(128, 256, kernel_size=(1, 1), stride=(1, 1), bias=False)\n",
            "          )\n",
            "          (2): ResBlockGroupNorm(\n",
            "            (main_path): Sequential(\n",
            "              (0): Conv2d(256, 256, kernel_size=(3, 3), stride=(1, 1), padding=(1, 1), bias=False)\n",
            "              (1): GroupNorm(32, 256, eps=0.001, affine=True)\n",
            "              (2): SiLU(inplace=True)\n",
            "              (3): Dropout(p=0.1, inplace=False)\n",
            "              (4): Conv2d(256, 256, kernel_size=(3, 3), stride=(1, 1), padding=(1, 1), bias=False)\n",
            "              (5): GroupNorm(32, 256, eps=0.001, affine=True)\n",
            "              (6): SiLU(inplace=True)\n",
            "              (7): Dropout(p=0.1, inplace=False)\n",
            "            )\n",
            "            (residual_connection): Identity()\n",
            "          )\n",
            "        )\n",
            "      )\n",
            "    )\n",
            "    (input_proj): ResBlockGroupNorm(\n",
            "      (main_path): Sequential(\n",
            "        (0): Conv2d(2, 64, kernel_size=(3, 3), stride=(1, 1), padding=(1, 1), bias=False)\n",
            "        (1): GroupNorm(32, 64, eps=0.001, affine=True)\n",
            "        (2): SiLU(inplace=True)\n",
            "        (3): Dropout(p=0.1, inplace=False)\n",
            "        (4): Conv2d(64, 64, kernel_size=(3, 3), stride=(1, 1), padding=(1, 1), bias=False)\n",
            "        (5): GroupNorm(32, 64, eps=0.001, affine=True)\n",
            "        (6): SiLU(inplace=True)\n",
            "        (7): Dropout(p=0.1, inplace=False)\n",
            "      )\n",
            "      (residual_connection): Conv2d(2, 64, kernel_size=(1, 1), stride=(1, 1), bias=False)\n",
            "    )\n",
            "    (ups): ModuleList(\n",
            "      (0): Up_Res_GroupNorm_SiLU_D(\n",
            "        (up): ConvTranspose2d(256, 128, kernel_size=(2, 2), stride=(2, 2))\n",
            "        (module): Sequential(\n",
            "          (0): ResBlockGroupNorm(\n",
            "            (main_path): Sequential(\n",
            "              (0): Conv2d(256, 128, kernel_size=(3, 3), stride=(1, 1), padding=(1, 1), bias=False)\n",
            "              (1): GroupNorm(32, 128, eps=0.001, affine=True)\n",
            "              (2): SiLU(inplace=True)\n",
            "              (3): Dropout(p=0.1, inplace=False)\n",
            "              (4): Conv2d(128, 128, kernel_size=(3, 3), stride=(1, 1), padding=(1, 1), bias=False)\n",
            "              (5): GroupNorm(32, 128, eps=0.001, affine=True)\n",
            "              (6): SiLU(inplace=True)\n",
            "              (7): Dropout(p=0.1, inplace=False)\n",
            "            )\n",
            "            (residual_connection): Conv2d(256, 128, kernel_size=(1, 1), stride=(1, 1), bias=False)\n",
            "          )\n",
            "          (1): ResBlockGroupNorm(\n",
            "            (main_path): Sequential(\n",
            "              (0): Conv2d(128, 128, kernel_size=(3, 3), stride=(1, 1), padding=(1, 1), bias=False)\n",
            "              (1): GroupNorm(32, 128, eps=0.001, affine=True)\n",
            "              (2): SiLU(inplace=True)\n",
            "              (3): Dropout(p=0.1, inplace=False)\n",
            "              (4): Conv2d(128, 128, kernel_size=(3, 3), stride=(1, 1), padding=(1, 1), bias=False)\n",
            "              (5): GroupNorm(32, 128, eps=0.001, affine=True)\n",
            "              (6): SiLU(inplace=True)\n",
            "              (7): Dropout(p=0.1, inplace=False)\n",
            "            )\n",
            "            (residual_connection): Identity()\n",
            "          )\n",
            "        )\n",
            "      )\n",
            "      (1): Up_Res_GroupNorm_SiLU_D(\n",
            "        (up): ConvTranspose2d(128, 64, kernel_size=(2, 2), stride=(2, 2))\n",
            "        (module): Sequential(\n",
            "          (0): ResBlockGroupNorm(\n",
            "            (main_path): Sequential(\n",
            "              (0): Conv2d(128, 64, kernel_size=(3, 3), stride=(1, 1), padding=(1, 1), bias=False)\n",
            "              (1): GroupNorm(32, 64, eps=0.001, affine=True)\n",
            "              (2): SiLU(inplace=True)\n",
            "              (3): Dropout(p=0.1, inplace=False)\n",
            "              (4): Conv2d(64, 64, kernel_size=(3, 3), stride=(1, 1), padding=(1, 1), bias=False)\n",
            "              (5): GroupNorm(32, 64, eps=0.001, affine=True)\n",
            "              (6): SiLU(inplace=True)\n",
            "              (7): Dropout(p=0.1, inplace=False)\n",
            "            )\n",
            "            (residual_connection): Conv2d(128, 64, kernel_size=(1, 1), stride=(1, 1), bias=False)\n",
            "          )\n",
            "          (1): ResBlockGroupNorm(\n",
            "            (main_path): Sequential(\n",
            "              (0): Conv2d(64, 64, kernel_size=(3, 3), stride=(1, 1), padding=(1, 1), bias=False)\n",
            "              (1): GroupNorm(32, 64, eps=0.001, affine=True)\n",
            "              (2): SiLU(inplace=True)\n",
            "              (3): Dropout(p=0.1, inplace=False)\n",
            "              (4): Conv2d(64, 64, kernel_size=(3, 3), stride=(1, 1), padding=(1, 1), bias=False)\n",
            "              (5): GroupNorm(32, 64, eps=0.001, affine=True)\n",
            "              (6): SiLU(inplace=True)\n",
            "              (7): Dropout(p=0.1, inplace=False)\n",
            "            )\n",
            "            (residual_connection): Identity()\n",
            "          )\n",
            "        )\n",
            "      )\n",
            "    )\n",
            "    (output_proj): Conv2d(64, 1, kernel_size=(3, 3), stride=(1, 1), padding=(1, 1))\n",
            "  )\n",
            ")\n"
          ]
        }
      ]
    },
    {
      "cell_type": "code",
      "source": [
        "from torchsummary import summary\n",
        "\n",
        "# Ejemplo con batch=1, 2 canales, 152x152\n",
        "summary(ddpm_model, input_size=(2, 152, 152))"
      ],
      "metadata": {
        "colab": {
          "base_uri": "https://localhost:8080/"
        },
        "id": "jaYIoo6lj_cU",
        "outputId": "5fc51434-d425-4e57-97bb-39f4d10fc7ac"
      },
      "execution_count": null,
      "outputs": [
        {
          "output_type": "stream",
          "name": "stdout",
          "text": [
            "----------------------------------------------------------------\n",
            "        Layer (type)               Output Shape         Param #\n",
            "================================================================\n",
            "            Conv2d-1         [-1, 64, 152, 152]             128\n",
            "            Conv2d-2         [-1, 64, 152, 152]           1,152\n",
            "         GroupNorm-3         [-1, 64, 152, 152]             128\n",
            "              SiLU-4         [-1, 64, 152, 152]               0\n",
            "           Dropout-5         [-1, 64, 152, 152]               0\n",
            "            Conv2d-6         [-1, 64, 152, 152]          36,864\n",
            "         GroupNorm-7         [-1, 64, 152, 152]             128\n",
            "              SiLU-8         [-1, 64, 152, 152]               0\n",
            "           Dropout-9         [-1, 64, 152, 152]               0\n",
            "ResBlockGroupNorm-10         [-1, 64, 152, 152]               0\n",
            "        MaxPool2d-11           [-1, 64, 76, 76]               0\n",
            "           Conv2d-12          [-1, 128, 76, 76]           8,192\n",
            "           Conv2d-13          [-1, 128, 76, 76]          73,728\n",
            "        GroupNorm-14          [-1, 128, 76, 76]             256\n",
            "             SiLU-15          [-1, 128, 76, 76]               0\n",
            "          Dropout-16          [-1, 128, 76, 76]               0\n",
            "           Conv2d-17          [-1, 128, 76, 76]         147,456\n",
            "        GroupNorm-18          [-1, 128, 76, 76]             256\n",
            "             SiLU-19          [-1, 128, 76, 76]               0\n",
            "          Dropout-20          [-1, 128, 76, 76]               0\n",
            "ResBlockGroupNorm-21          [-1, 128, 76, 76]               0\n",
            "         Identity-22          [-1, 128, 76, 76]               0\n",
            "           Conv2d-23          [-1, 128, 76, 76]         147,456\n",
            "        GroupNorm-24          [-1, 128, 76, 76]             256\n",
            "             SiLU-25          [-1, 128, 76, 76]               0\n",
            "          Dropout-26          [-1, 128, 76, 76]               0\n",
            "           Conv2d-27          [-1, 128, 76, 76]         147,456\n",
            "        GroupNorm-28          [-1, 128, 76, 76]             256\n",
            "             SiLU-29          [-1, 128, 76, 76]               0\n",
            "          Dropout-30          [-1, 128, 76, 76]               0\n",
            "ResBlockGroupNorm-31          [-1, 128, 76, 76]               0\n",
            "Down_Res_GroupNorm_SiLU_D-32          [-1, 128, 76, 76]               0\n",
            "        MaxPool2d-33          [-1, 128, 38, 38]               0\n",
            "           Conv2d-34          [-1, 256, 38, 38]          32,768\n",
            "           Conv2d-35          [-1, 256, 38, 38]         294,912\n",
            "        GroupNorm-36          [-1, 256, 38, 38]             512\n",
            "             SiLU-37          [-1, 256, 38, 38]               0\n",
            "          Dropout-38          [-1, 256, 38, 38]               0\n",
            "           Conv2d-39          [-1, 256, 38, 38]         589,824\n",
            "        GroupNorm-40          [-1, 256, 38, 38]             512\n",
            "             SiLU-41          [-1, 256, 38, 38]               0\n",
            "          Dropout-42          [-1, 256, 38, 38]               0\n",
            "ResBlockGroupNorm-43          [-1, 256, 38, 38]               0\n",
            "         Identity-44          [-1, 256, 38, 38]               0\n",
            "           Conv2d-45          [-1, 256, 38, 38]         589,824\n",
            "        GroupNorm-46          [-1, 256, 38, 38]             512\n",
            "             SiLU-47          [-1, 256, 38, 38]               0\n",
            "          Dropout-48          [-1, 256, 38, 38]               0\n",
            "           Conv2d-49          [-1, 256, 38, 38]         589,824\n",
            "        GroupNorm-50          [-1, 256, 38, 38]             512\n",
            "             SiLU-51          [-1, 256, 38, 38]               0\n",
            "          Dropout-52          [-1, 256, 38, 38]               0\n",
            "ResBlockGroupNorm-53          [-1, 256, 38, 38]               0\n",
            "Down_Res_GroupNorm_SiLU_D-54          [-1, 256, 38, 38]               0\n",
            "  ConvTranspose2d-55          [-1, 128, 76, 76]         131,200\n",
            "           Conv2d-56          [-1, 128, 76, 76]          32,768\n",
            "           Conv2d-57          [-1, 128, 76, 76]         294,912\n",
            "        GroupNorm-58          [-1, 128, 76, 76]             256\n",
            "             SiLU-59          [-1, 128, 76, 76]               0\n",
            "          Dropout-60          [-1, 128, 76, 76]               0\n",
            "           Conv2d-61          [-1, 128, 76, 76]         147,456\n",
            "        GroupNorm-62          [-1, 128, 76, 76]             256\n",
            "             SiLU-63          [-1, 128, 76, 76]               0\n",
            "          Dropout-64          [-1, 128, 76, 76]               0\n",
            "ResBlockGroupNorm-65          [-1, 128, 76, 76]               0\n",
            "         Identity-66          [-1, 128, 76, 76]               0\n",
            "           Conv2d-67          [-1, 128, 76, 76]         147,456\n",
            "        GroupNorm-68          [-1, 128, 76, 76]             256\n",
            "             SiLU-69          [-1, 128, 76, 76]               0\n",
            "          Dropout-70          [-1, 128, 76, 76]               0\n",
            "           Conv2d-71          [-1, 128, 76, 76]         147,456\n",
            "        GroupNorm-72          [-1, 128, 76, 76]             256\n",
            "             SiLU-73          [-1, 128, 76, 76]               0\n",
            "          Dropout-74          [-1, 128, 76, 76]               0\n",
            "ResBlockGroupNorm-75          [-1, 128, 76, 76]               0\n",
            "Up_Res_GroupNorm_SiLU_D-76          [-1, 128, 76, 76]               0\n",
            "  ConvTranspose2d-77         [-1, 64, 152, 152]          32,832\n",
            "           Conv2d-78         [-1, 64, 152, 152]           8,192\n",
            "           Conv2d-79         [-1, 64, 152, 152]          73,728\n",
            "        GroupNorm-80         [-1, 64, 152, 152]             128\n",
            "             SiLU-81         [-1, 64, 152, 152]               0\n",
            "          Dropout-82         [-1, 64, 152, 152]               0\n",
            "           Conv2d-83         [-1, 64, 152, 152]          36,864\n",
            "        GroupNorm-84         [-1, 64, 152, 152]             128\n",
            "             SiLU-85         [-1, 64, 152, 152]               0\n",
            "          Dropout-86         [-1, 64, 152, 152]               0\n",
            "ResBlockGroupNorm-87         [-1, 64, 152, 152]               0\n",
            "         Identity-88         [-1, 64, 152, 152]               0\n",
            "           Conv2d-89         [-1, 64, 152, 152]          36,864\n",
            "        GroupNorm-90         [-1, 64, 152, 152]             128\n",
            "             SiLU-91         [-1, 64, 152, 152]               0\n",
            "          Dropout-92         [-1, 64, 152, 152]               0\n",
            "           Conv2d-93         [-1, 64, 152, 152]          36,864\n",
            "        GroupNorm-94         [-1, 64, 152, 152]             128\n",
            "             SiLU-95         [-1, 64, 152, 152]               0\n",
            "          Dropout-96         [-1, 64, 152, 152]               0\n",
            "ResBlockGroupNorm-97         [-1, 64, 152, 152]               0\n",
            "Up_Res_GroupNorm_SiLU_D-98         [-1, 64, 152, 152]               0\n",
            "           Conv2d-99          [-1, 1, 152, 152]             577\n",
            "    UNetSuperRes-100          [-1, 1, 152, 152]               0\n",
            "================================================================\n",
            "Total params: 3,791,617\n",
            "Trainable params: 3,791,617\n",
            "Non-trainable params: 0\n",
            "----------------------------------------------------------------\n",
            "Input size (MB): 0.18\n",
            "Forward/backward pass size (MB): 667.36\n",
            "Params size (MB): 14.46\n",
            "Estimated Total Size (MB): 682.00\n",
            "----------------------------------------------------------------\n"
          ]
        }
      ]
    },
    {
      "cell_type": "code",
      "source": [
        "from torchviz import make_dot\n",
        "\n",
        "# Prepara una entrada de ejemplo\n",
        "x = torch.randn(1, 2, 152, 152)  # 2 canales por la concatenación\n",
        "t = torch.randint(0, 400, (1,), dtype=torch.long)\n",
        "\n",
        "ddpm_model.eval()\n",
        "out = ddpm_model(x, t)\n",
        "\n",
        "# Visualiza el grafo de cómputo\n",
        "dot = make_dot(out, params=dict(ddpm_model_superres.named_parameters()))\n",
        "dot.format = \"png\"\n",
        "dot.render(\"ddpm_model_graph_make_dot\")  # genera 'ddpm_model_graph.png'\n",
        "dot.view()\n"
      ],
      "metadata": {
        "colab": {
          "base_uri": "https://localhost:8080/",
          "height": 356
        },
        "id": "q4POfoLokI5X",
        "outputId": "4af2bab7-add5-46d6-d0ea-1666081db1f3"
      },
      "execution_count": null,
      "outputs": [
        {
          "output_type": "error",
          "ename": "RuntimeError",
          "evalue": "Expected all tensors to be on the same device, but found at least two devices, cpu and cuda:0! (when checking argument for argument weight in method wrapper_CUDA___slow_conv2d_forward)",
          "traceback": [
            "\u001b[0;31m---------------------------------------------------------------------------\u001b[0m",
            "\u001b[0;31mRuntimeError\u001b[0m                              Traceback (most recent call last)",
            "\u001b[0;32m/tmp/ipython-input-18-2797071039.py\u001b[0m in \u001b[0;36m<cell line: 0>\u001b[0;34m()\u001b[0m\n\u001b[1;32m      6\u001b[0m \u001b[0;34m\u001b[0m\u001b[0m\n\u001b[1;32m      7\u001b[0m \u001b[0mddpm_model\u001b[0m\u001b[0;34m.\u001b[0m\u001b[0meval\u001b[0m\u001b[0;34m(\u001b[0m\u001b[0;34m)\u001b[0m\u001b[0;34m\u001b[0m\u001b[0;34m\u001b[0m\u001b[0m\n\u001b[0;32m----> 8\u001b[0;31m \u001b[0mout\u001b[0m \u001b[0;34m=\u001b[0m \u001b[0mddpm_model\u001b[0m\u001b[0;34m(\u001b[0m\u001b[0mx\u001b[0m\u001b[0;34m,\u001b[0m \u001b[0mt\u001b[0m\u001b[0;34m)\u001b[0m\u001b[0;34m\u001b[0m\u001b[0;34m\u001b[0m\u001b[0m\n\u001b[0m\u001b[1;32m      9\u001b[0m \u001b[0;34m\u001b[0m\u001b[0m\n\u001b[1;32m     10\u001b[0m \u001b[0;31m# Visualiza el grafo de cómputo\u001b[0m\u001b[0;34m\u001b[0m\u001b[0;34m\u001b[0m\u001b[0m\n",
            "\u001b[0;32m/usr/local/lib/python3.11/dist-packages/torch/nn/modules/module.py\u001b[0m in \u001b[0;36m_wrapped_call_impl\u001b[0;34m(self, *args, **kwargs)\u001b[0m\n\u001b[1;32m   1737\u001b[0m             \u001b[0;32mreturn\u001b[0m \u001b[0mself\u001b[0m\u001b[0;34m.\u001b[0m\u001b[0m_compiled_call_impl\u001b[0m\u001b[0;34m(\u001b[0m\u001b[0;34m*\u001b[0m\u001b[0margs\u001b[0m\u001b[0;34m,\u001b[0m \u001b[0;34m**\u001b[0m\u001b[0mkwargs\u001b[0m\u001b[0;34m)\u001b[0m  \u001b[0;31m# type: ignore[misc]\u001b[0m\u001b[0;34m\u001b[0m\u001b[0;34m\u001b[0m\u001b[0m\n\u001b[1;32m   1738\u001b[0m         \u001b[0;32melse\u001b[0m\u001b[0;34m:\u001b[0m\u001b[0;34m\u001b[0m\u001b[0;34m\u001b[0m\u001b[0m\n\u001b[0;32m-> 1739\u001b[0;31m             \u001b[0;32mreturn\u001b[0m \u001b[0mself\u001b[0m\u001b[0;34m.\u001b[0m\u001b[0m_call_impl\u001b[0m\u001b[0;34m(\u001b[0m\u001b[0;34m*\u001b[0m\u001b[0margs\u001b[0m\u001b[0;34m,\u001b[0m \u001b[0;34m**\u001b[0m\u001b[0mkwargs\u001b[0m\u001b[0;34m)\u001b[0m\u001b[0;34m\u001b[0m\u001b[0;34m\u001b[0m\u001b[0m\n\u001b[0m\u001b[1;32m   1740\u001b[0m \u001b[0;34m\u001b[0m\u001b[0m\n\u001b[1;32m   1741\u001b[0m     \u001b[0;31m# torchrec tests the code consistency with the following code\u001b[0m\u001b[0;34m\u001b[0m\u001b[0;34m\u001b[0m\u001b[0m\n",
            "\u001b[0;32m/usr/local/lib/python3.11/dist-packages/torch/nn/modules/module.py\u001b[0m in \u001b[0;36m_call_impl\u001b[0;34m(self, *args, **kwargs)\u001b[0m\n\u001b[1;32m   1748\u001b[0m                 \u001b[0;32mor\u001b[0m \u001b[0m_global_backward_pre_hooks\u001b[0m \u001b[0;32mor\u001b[0m \u001b[0m_global_backward_hooks\u001b[0m\u001b[0;34m\u001b[0m\u001b[0;34m\u001b[0m\u001b[0m\n\u001b[1;32m   1749\u001b[0m                 or _global_forward_hooks or _global_forward_pre_hooks):\n\u001b[0;32m-> 1750\u001b[0;31m             \u001b[0;32mreturn\u001b[0m \u001b[0mforward_call\u001b[0m\u001b[0;34m(\u001b[0m\u001b[0;34m*\u001b[0m\u001b[0margs\u001b[0m\u001b[0;34m,\u001b[0m \u001b[0;34m**\u001b[0m\u001b[0mkwargs\u001b[0m\u001b[0;34m)\u001b[0m\u001b[0;34m\u001b[0m\u001b[0;34m\u001b[0m\u001b[0m\n\u001b[0m\u001b[1;32m   1751\u001b[0m \u001b[0;34m\u001b[0m\u001b[0m\n\u001b[1;32m   1752\u001b[0m         \u001b[0mresult\u001b[0m \u001b[0;34m=\u001b[0m \u001b[0;32mNone\u001b[0m\u001b[0;34m\u001b[0m\u001b[0;34m\u001b[0m\u001b[0m\n",
            "\u001b[0;32m/content/DDMP_UNet/src/ddpm/ddpm_A.py\u001b[0m in \u001b[0;36mforward\u001b[0;34m(self, x, t)\u001b[0m\n\u001b[1;32m     82\u001b[0m \u001b[0;34m\u001b[0m\u001b[0m\n\u001b[1;32m     83\u001b[0m     \u001b[0;32mdef\u001b[0m \u001b[0mforward\u001b[0m\u001b[0;34m(\u001b[0m\u001b[0mself\u001b[0m\u001b[0;34m,\u001b[0m \u001b[0mx\u001b[0m\u001b[0;34m:\u001b[0m \u001b[0mtorch\u001b[0m\u001b[0;34m.\u001b[0m\u001b[0mTensor\u001b[0m\u001b[0;34m,\u001b[0m \u001b[0mt\u001b[0m\u001b[0;34m:\u001b[0m \u001b[0mtorch\u001b[0m\u001b[0;34m.\u001b[0m\u001b[0mTensor\u001b[0m \u001b[0;34m=\u001b[0m \u001b[0;32mNone\u001b[0m\u001b[0;34m)\u001b[0m\u001b[0;34m:\u001b[0m\u001b[0;34m\u001b[0m\u001b[0;34m\u001b[0m\u001b[0m\n\u001b[0;32m---> 84\u001b[0;31m         \u001b[0;32mreturn\u001b[0m \u001b[0mself\u001b[0m\u001b[0;34m.\u001b[0m\u001b[0mmodel\u001b[0m\u001b[0;34m(\u001b[0m\u001b[0mx\u001b[0m\u001b[0;34m)\u001b[0m\u001b[0;34m\u001b[0m\u001b[0;34m\u001b[0m\u001b[0m\n\u001b[0m\u001b[1;32m     85\u001b[0m \u001b[0;34m\u001b[0m\u001b[0m\n\u001b[1;32m     86\u001b[0m \u001b[0;34m\u001b[0m\u001b[0m\n",
            "\u001b[0;32m/usr/local/lib/python3.11/dist-packages/torch/nn/modules/module.py\u001b[0m in \u001b[0;36m_wrapped_call_impl\u001b[0;34m(self, *args, **kwargs)\u001b[0m\n\u001b[1;32m   1737\u001b[0m             \u001b[0;32mreturn\u001b[0m \u001b[0mself\u001b[0m\u001b[0;34m.\u001b[0m\u001b[0m_compiled_call_impl\u001b[0m\u001b[0;34m(\u001b[0m\u001b[0;34m*\u001b[0m\u001b[0margs\u001b[0m\u001b[0;34m,\u001b[0m \u001b[0;34m**\u001b[0m\u001b[0mkwargs\u001b[0m\u001b[0;34m)\u001b[0m  \u001b[0;31m# type: ignore[misc]\u001b[0m\u001b[0;34m\u001b[0m\u001b[0;34m\u001b[0m\u001b[0m\n\u001b[1;32m   1738\u001b[0m         \u001b[0;32melse\u001b[0m\u001b[0;34m:\u001b[0m\u001b[0;34m\u001b[0m\u001b[0;34m\u001b[0m\u001b[0m\n\u001b[0;32m-> 1739\u001b[0;31m             \u001b[0;32mreturn\u001b[0m \u001b[0mself\u001b[0m\u001b[0;34m.\u001b[0m\u001b[0m_call_impl\u001b[0m\u001b[0;34m(\u001b[0m\u001b[0;34m*\u001b[0m\u001b[0margs\u001b[0m\u001b[0;34m,\u001b[0m \u001b[0;34m**\u001b[0m\u001b[0mkwargs\u001b[0m\u001b[0;34m)\u001b[0m\u001b[0;34m\u001b[0m\u001b[0;34m\u001b[0m\u001b[0m\n\u001b[0m\u001b[1;32m   1740\u001b[0m \u001b[0;34m\u001b[0m\u001b[0m\n\u001b[1;32m   1741\u001b[0m     \u001b[0;31m# torchrec tests the code consistency with the following code\u001b[0m\u001b[0;34m\u001b[0m\u001b[0;34m\u001b[0m\u001b[0m\n",
            "\u001b[0;32m/usr/local/lib/python3.11/dist-packages/torch/nn/modules/module.py\u001b[0m in \u001b[0;36m_call_impl\u001b[0;34m(self, *args, **kwargs)\u001b[0m\n\u001b[1;32m   1748\u001b[0m                 \u001b[0;32mor\u001b[0m \u001b[0m_global_backward_pre_hooks\u001b[0m \u001b[0;32mor\u001b[0m \u001b[0m_global_backward_hooks\u001b[0m\u001b[0;34m\u001b[0m\u001b[0;34m\u001b[0m\u001b[0m\n\u001b[1;32m   1749\u001b[0m                 or _global_forward_hooks or _global_forward_pre_hooks):\n\u001b[0;32m-> 1750\u001b[0;31m             \u001b[0;32mreturn\u001b[0m \u001b[0mforward_call\u001b[0m\u001b[0;34m(\u001b[0m\u001b[0;34m*\u001b[0m\u001b[0margs\u001b[0m\u001b[0;34m,\u001b[0m \u001b[0;34m**\u001b[0m\u001b[0mkwargs\u001b[0m\u001b[0;34m)\u001b[0m\u001b[0;34m\u001b[0m\u001b[0;34m\u001b[0m\u001b[0m\n\u001b[0m\u001b[1;32m   1751\u001b[0m \u001b[0;34m\u001b[0m\u001b[0m\n\u001b[1;32m   1752\u001b[0m         \u001b[0mresult\u001b[0m \u001b[0;34m=\u001b[0m \u001b[0;32mNone\u001b[0m\u001b[0;34m\u001b[0m\u001b[0;34m\u001b[0m\u001b[0m\n",
            "\u001b[0;32m/content/DDMP_UNet/src/unet/Unet_SuperRes.py\u001b[0m in \u001b[0;36mforward\u001b[0;34m(self, x, t)\u001b[0m\n\u001b[1;32m     67\u001b[0m     \u001b[0;32mdef\u001b[0m \u001b[0mforward\u001b[0m\u001b[0;34m(\u001b[0m\u001b[0mself\u001b[0m\u001b[0;34m,\u001b[0m \u001b[0mx\u001b[0m\u001b[0;34m,\u001b[0m \u001b[0mt\u001b[0m\u001b[0;34m=\u001b[0m\u001b[0;32mNone\u001b[0m\u001b[0;34m)\u001b[0m\u001b[0;34m:\u001b[0m\u001b[0;34m\u001b[0m\u001b[0;34m\u001b[0m\u001b[0m\n\u001b[1;32m     68\u001b[0m         \u001b[0mskips\u001b[0m \u001b[0;34m=\u001b[0m \u001b[0;34m[\u001b[0m\u001b[0;34m]\u001b[0m                       \u001b[0;31m# <–– aquí guardaremos los skips\u001b[0m\u001b[0;34m\u001b[0m\u001b[0;34m\u001b[0m\u001b[0m\n\u001b[0;32m---> 69\u001b[0;31m         \u001b[0mx\u001b[0m \u001b[0;34m=\u001b[0m \u001b[0mself\u001b[0m\u001b[0;34m.\u001b[0m\u001b[0minput_proj\u001b[0m\u001b[0;34m(\u001b[0m\u001b[0mx\u001b[0m\u001b[0;34m)\u001b[0m\u001b[0;34m\u001b[0m\u001b[0;34m\u001b[0m\u001b[0m\n\u001b[0m\u001b[1;32m     70\u001b[0m \u001b[0;34m\u001b[0m\u001b[0m\n\u001b[1;32m     71\u001b[0m         \u001b[0;31m# Encoder: bajamos resolución y apilamos skips\u001b[0m\u001b[0;34m\u001b[0m\u001b[0;34m\u001b[0m\u001b[0m\n",
            "\u001b[0;32m/usr/local/lib/python3.11/dist-packages/torch/nn/modules/module.py\u001b[0m in \u001b[0;36m_wrapped_call_impl\u001b[0;34m(self, *args, **kwargs)\u001b[0m\n\u001b[1;32m   1737\u001b[0m             \u001b[0;32mreturn\u001b[0m \u001b[0mself\u001b[0m\u001b[0;34m.\u001b[0m\u001b[0m_compiled_call_impl\u001b[0m\u001b[0;34m(\u001b[0m\u001b[0;34m*\u001b[0m\u001b[0margs\u001b[0m\u001b[0;34m,\u001b[0m \u001b[0;34m**\u001b[0m\u001b[0mkwargs\u001b[0m\u001b[0;34m)\u001b[0m  \u001b[0;31m# type: ignore[misc]\u001b[0m\u001b[0;34m\u001b[0m\u001b[0;34m\u001b[0m\u001b[0m\n\u001b[1;32m   1738\u001b[0m         \u001b[0;32melse\u001b[0m\u001b[0;34m:\u001b[0m\u001b[0;34m\u001b[0m\u001b[0;34m\u001b[0m\u001b[0m\n\u001b[0;32m-> 1739\u001b[0;31m             \u001b[0;32mreturn\u001b[0m \u001b[0mself\u001b[0m\u001b[0;34m.\u001b[0m\u001b[0m_call_impl\u001b[0m\u001b[0;34m(\u001b[0m\u001b[0;34m*\u001b[0m\u001b[0margs\u001b[0m\u001b[0;34m,\u001b[0m \u001b[0;34m**\u001b[0m\u001b[0mkwargs\u001b[0m\u001b[0;34m)\u001b[0m\u001b[0;34m\u001b[0m\u001b[0;34m\u001b[0m\u001b[0m\n\u001b[0m\u001b[1;32m   1740\u001b[0m \u001b[0;34m\u001b[0m\u001b[0m\n\u001b[1;32m   1741\u001b[0m     \u001b[0;31m# torchrec tests the code consistency with the following code\u001b[0m\u001b[0;34m\u001b[0m\u001b[0;34m\u001b[0m\u001b[0m\n",
            "\u001b[0;32m/usr/local/lib/python3.11/dist-packages/torch/nn/modules/module.py\u001b[0m in \u001b[0;36m_call_impl\u001b[0;34m(self, *args, **kwargs)\u001b[0m\n\u001b[1;32m   1748\u001b[0m                 \u001b[0;32mor\u001b[0m \u001b[0m_global_backward_pre_hooks\u001b[0m \u001b[0;32mor\u001b[0m \u001b[0m_global_backward_hooks\u001b[0m\u001b[0;34m\u001b[0m\u001b[0;34m\u001b[0m\u001b[0m\n\u001b[1;32m   1749\u001b[0m                 or _global_forward_hooks or _global_forward_pre_hooks):\n\u001b[0;32m-> 1750\u001b[0;31m             \u001b[0;32mreturn\u001b[0m \u001b[0mforward_call\u001b[0m\u001b[0;34m(\u001b[0m\u001b[0;34m*\u001b[0m\u001b[0margs\u001b[0m\u001b[0;34m,\u001b[0m \u001b[0;34m**\u001b[0m\u001b[0mkwargs\u001b[0m\u001b[0;34m)\u001b[0m\u001b[0;34m\u001b[0m\u001b[0;34m\u001b[0m\u001b[0m\n\u001b[0m\u001b[1;32m   1751\u001b[0m \u001b[0;34m\u001b[0m\u001b[0m\n\u001b[1;32m   1752\u001b[0m         \u001b[0mresult\u001b[0m \u001b[0;34m=\u001b[0m \u001b[0;32mNone\u001b[0m\u001b[0;34m\u001b[0m\u001b[0;34m\u001b[0m\u001b[0m\n",
            "\u001b[0;32m/content/DDMP_UNet/src/blocks/Res_GroupNorm_SiLU_D.py\u001b[0m in \u001b[0;36mforward\u001b[0;34m(self, x)\u001b[0m\n\u001b[1;32m     85\u001b[0m     \u001b[0;31m# -- Forward -----------------------------------------------------------------\u001b[0m\u001b[0;34m\u001b[0m\u001b[0;34m\u001b[0m\u001b[0m\n\u001b[1;32m     86\u001b[0m     \u001b[0;32mdef\u001b[0m \u001b[0mforward\u001b[0m\u001b[0;34m(\u001b[0m\u001b[0mself\u001b[0m\u001b[0;34m,\u001b[0m \u001b[0mx\u001b[0m\u001b[0;34m:\u001b[0m \u001b[0mtorch\u001b[0m\u001b[0;34m.\u001b[0m\u001b[0mTensor\u001b[0m\u001b[0;34m)\u001b[0m \u001b[0;34m->\u001b[0m \u001b[0mtorch\u001b[0m\u001b[0;34m.\u001b[0m\u001b[0mTensor\u001b[0m\u001b[0;34m:\u001b[0m\u001b[0;34m\u001b[0m\u001b[0;34m\u001b[0m\u001b[0m\n\u001b[0;32m---> 87\u001b[0;31m         \u001b[0;32mreturn\u001b[0m \u001b[0mself\u001b[0m\u001b[0;34m.\u001b[0m\u001b[0mresidual_connection\u001b[0m\u001b[0;34m(\u001b[0m\u001b[0mx\u001b[0m\u001b[0;34m)\u001b[0m \u001b[0;34m+\u001b[0m \u001b[0mself\u001b[0m\u001b[0;34m.\u001b[0m\u001b[0mresidual_scale\u001b[0m \u001b[0;34m*\u001b[0m \u001b[0mself\u001b[0m\u001b[0;34m.\u001b[0m\u001b[0mmain_path\u001b[0m\u001b[0;34m(\u001b[0m\u001b[0mx\u001b[0m\u001b[0;34m)\u001b[0m\u001b[0;34m\u001b[0m\u001b[0;34m\u001b[0m\u001b[0m\n\u001b[0m",
            "\u001b[0;32m/usr/local/lib/python3.11/dist-packages/torch/nn/modules/module.py\u001b[0m in \u001b[0;36m_wrapped_call_impl\u001b[0;34m(self, *args, **kwargs)\u001b[0m\n\u001b[1;32m   1737\u001b[0m             \u001b[0;32mreturn\u001b[0m \u001b[0mself\u001b[0m\u001b[0;34m.\u001b[0m\u001b[0m_compiled_call_impl\u001b[0m\u001b[0;34m(\u001b[0m\u001b[0;34m*\u001b[0m\u001b[0margs\u001b[0m\u001b[0;34m,\u001b[0m \u001b[0;34m**\u001b[0m\u001b[0mkwargs\u001b[0m\u001b[0;34m)\u001b[0m  \u001b[0;31m# type: ignore[misc]\u001b[0m\u001b[0;34m\u001b[0m\u001b[0;34m\u001b[0m\u001b[0m\n\u001b[1;32m   1738\u001b[0m         \u001b[0;32melse\u001b[0m\u001b[0;34m:\u001b[0m\u001b[0;34m\u001b[0m\u001b[0;34m\u001b[0m\u001b[0m\n\u001b[0;32m-> 1739\u001b[0;31m             \u001b[0;32mreturn\u001b[0m \u001b[0mself\u001b[0m\u001b[0;34m.\u001b[0m\u001b[0m_call_impl\u001b[0m\u001b[0;34m(\u001b[0m\u001b[0;34m*\u001b[0m\u001b[0margs\u001b[0m\u001b[0;34m,\u001b[0m \u001b[0;34m**\u001b[0m\u001b[0mkwargs\u001b[0m\u001b[0;34m)\u001b[0m\u001b[0;34m\u001b[0m\u001b[0;34m\u001b[0m\u001b[0m\n\u001b[0m\u001b[1;32m   1740\u001b[0m \u001b[0;34m\u001b[0m\u001b[0m\n\u001b[1;32m   1741\u001b[0m     \u001b[0;31m# torchrec tests the code consistency with the following code\u001b[0m\u001b[0;34m\u001b[0m\u001b[0;34m\u001b[0m\u001b[0m\n",
            "\u001b[0;32m/usr/local/lib/python3.11/dist-packages/torch/nn/modules/module.py\u001b[0m in \u001b[0;36m_call_impl\u001b[0;34m(self, *args, **kwargs)\u001b[0m\n\u001b[1;32m   1748\u001b[0m                 \u001b[0;32mor\u001b[0m \u001b[0m_global_backward_pre_hooks\u001b[0m \u001b[0;32mor\u001b[0m \u001b[0m_global_backward_hooks\u001b[0m\u001b[0;34m\u001b[0m\u001b[0;34m\u001b[0m\u001b[0m\n\u001b[1;32m   1749\u001b[0m                 or _global_forward_hooks or _global_forward_pre_hooks):\n\u001b[0;32m-> 1750\u001b[0;31m             \u001b[0;32mreturn\u001b[0m \u001b[0mforward_call\u001b[0m\u001b[0;34m(\u001b[0m\u001b[0;34m*\u001b[0m\u001b[0margs\u001b[0m\u001b[0;34m,\u001b[0m \u001b[0;34m**\u001b[0m\u001b[0mkwargs\u001b[0m\u001b[0;34m)\u001b[0m\u001b[0;34m\u001b[0m\u001b[0;34m\u001b[0m\u001b[0m\n\u001b[0m\u001b[1;32m   1751\u001b[0m \u001b[0;34m\u001b[0m\u001b[0m\n\u001b[1;32m   1752\u001b[0m         \u001b[0mresult\u001b[0m \u001b[0;34m=\u001b[0m \u001b[0;32mNone\u001b[0m\u001b[0;34m\u001b[0m\u001b[0;34m\u001b[0m\u001b[0m\n",
            "\u001b[0;32m/usr/local/lib/python3.11/dist-packages/torch/nn/modules/conv.py\u001b[0m in \u001b[0;36mforward\u001b[0;34m(self, input)\u001b[0m\n\u001b[1;32m    552\u001b[0m \u001b[0;34m\u001b[0m\u001b[0m\n\u001b[1;32m    553\u001b[0m     \u001b[0;32mdef\u001b[0m \u001b[0mforward\u001b[0m\u001b[0;34m(\u001b[0m\u001b[0mself\u001b[0m\u001b[0;34m,\u001b[0m \u001b[0minput\u001b[0m\u001b[0;34m:\u001b[0m \u001b[0mTensor\u001b[0m\u001b[0;34m)\u001b[0m \u001b[0;34m->\u001b[0m \u001b[0mTensor\u001b[0m\u001b[0;34m:\u001b[0m\u001b[0;34m\u001b[0m\u001b[0;34m\u001b[0m\u001b[0m\n\u001b[0;32m--> 554\u001b[0;31m         \u001b[0;32mreturn\u001b[0m \u001b[0mself\u001b[0m\u001b[0;34m.\u001b[0m\u001b[0m_conv_forward\u001b[0m\u001b[0;34m(\u001b[0m\u001b[0minput\u001b[0m\u001b[0;34m,\u001b[0m \u001b[0mself\u001b[0m\u001b[0;34m.\u001b[0m\u001b[0mweight\u001b[0m\u001b[0;34m,\u001b[0m \u001b[0mself\u001b[0m\u001b[0;34m.\u001b[0m\u001b[0mbias\u001b[0m\u001b[0;34m)\u001b[0m\u001b[0;34m\u001b[0m\u001b[0;34m\u001b[0m\u001b[0m\n\u001b[0m\u001b[1;32m    555\u001b[0m \u001b[0;34m\u001b[0m\u001b[0m\n\u001b[1;32m    556\u001b[0m \u001b[0;34m\u001b[0m\u001b[0m\n",
            "\u001b[0;32m/usr/local/lib/python3.11/dist-packages/torch/nn/modules/conv.py\u001b[0m in \u001b[0;36m_conv_forward\u001b[0;34m(self, input, weight, bias)\u001b[0m\n\u001b[1;32m    547\u001b[0m                 \u001b[0mself\u001b[0m\u001b[0;34m.\u001b[0m\u001b[0mgroups\u001b[0m\u001b[0;34m,\u001b[0m\u001b[0;34m\u001b[0m\u001b[0;34m\u001b[0m\u001b[0m\n\u001b[1;32m    548\u001b[0m             )\n\u001b[0;32m--> 549\u001b[0;31m         return F.conv2d(\n\u001b[0m\u001b[1;32m    550\u001b[0m             \u001b[0minput\u001b[0m\u001b[0;34m,\u001b[0m \u001b[0mweight\u001b[0m\u001b[0;34m,\u001b[0m \u001b[0mbias\u001b[0m\u001b[0;34m,\u001b[0m \u001b[0mself\u001b[0m\u001b[0;34m.\u001b[0m\u001b[0mstride\u001b[0m\u001b[0;34m,\u001b[0m \u001b[0mself\u001b[0m\u001b[0;34m.\u001b[0m\u001b[0mpadding\u001b[0m\u001b[0;34m,\u001b[0m \u001b[0mself\u001b[0m\u001b[0;34m.\u001b[0m\u001b[0mdilation\u001b[0m\u001b[0;34m,\u001b[0m \u001b[0mself\u001b[0m\u001b[0;34m.\u001b[0m\u001b[0mgroups\u001b[0m\u001b[0;34m\u001b[0m\u001b[0;34m\u001b[0m\u001b[0m\n\u001b[1;32m    551\u001b[0m         )\n",
            "\u001b[0;31mRuntimeError\u001b[0m: Expected all tensors to be on the same device, but found at least two devices, cpu and cuda:0! (when checking argument for argument weight in method wrapper_CUDA___slow_conv2d_forward)"
          ]
        }
      ]
    },
    {
      "cell_type": "code",
      "source": [
        "dummy_input = (torch.randn(1, 2, 152, 152), torch.tensor([0]))\n",
        "torch.onnx.export(ddpm_model, dummy_input, \"ddpm_model.onnx\",\n",
        "                  input_names=[\"x\", \"t\"], output_names=[\"output\"],\n",
        "                  opset_version=11)\n"
      ],
      "metadata": {
        "id": "JTFPY4i1kbwg"
      },
      "execution_count": null,
      "outputs": []
    },
    {
      "cell_type": "code",
      "source": [
        "with torch.no_grad():\n",
        "    ddpm_model.eval()\n",
        "    out = ddpm_model(x_cat, t)\n",
        "    print(f\"[AFTER CALL] Output shape: {out.shape}\")"
      ],
      "metadata": {
        "colab": {
          "base_uri": "https://localhost:8080/"
        },
        "id": "EUIDME5ZiirA",
        "outputId": "ab7c23f8-f7a6-4888-cfae-80be17204adc"
      },
      "execution_count": null,
      "outputs": [
        {
          "output_type": "stream",
          "name": "stdout",
          "text": [
            "[AFTER CALL] Output shape: torch.Size([1, 1, 152, 152])\n"
          ]
        }
      ]
    },
    {
      "cell_type": "code",
      "source": [
        "with torch.no_grad():\n",
        "    ddpm_model.eval()\n",
        "    out = ddpm_model.forward(x_cat, t)\n"
      ],
      "metadata": {
        "id": "5OGntN2KjmNb"
      },
      "execution_count": null,
      "outputs": []
    },
    {
      "cell_type": "markdown",
      "source": [
        "# Super Resolución"
      ],
      "metadata": {
        "id": "tvznZzAcn1DG"
      }
    },
    {
      "cell_type": "code",
      "source": [
        "import torch.nn as nn\n",
        "import torch.nn.functional as F\n",
        "\n",
        "class DDPM_SuperRes_Wrapper(nn.Module):\n",
        "    def __init__(self, ddpm_model, upscale_factor=4):\n",
        "        super().__init__()\n",
        "        self.ddpm = ddpm_model\n",
        "        self.upscale = nn.Sequential(\n",
        "            nn.Upsample(scale_factor=upscale_factor, mode='bilinear', align_corners=True),\n",
        "            nn.Conv2d(1, 1, kernel_size=3, padding=1),\n",
        "            nn.Conv2d(1, 1, kernel_size=3, padding=1)  # Conv para afinar después del upsampling\n",
        "        )\n",
        "\n",
        "    def forward(self, x, t=None):\n",
        "        out = self.ddpm(x, t)\n",
        "        out_up = self.upscale(out)\n",
        "        return out_up\n",
        "# Modelo original\n",
        "ddpm_model = DDPM_2D(\n",
        "    in_channels=1,\n",
        "    out_channels=1,\n",
        "    diffusion_steps=400,\n",
        "    dropout=0.10,\n",
        "    lr=1e-3,\n",
        "    encoder_channels=[64, 128, 256, 512, 1024],\n",
        "    loss_fn=nn.MSELoss(),\n",
        ")\n",
        "\n",
        "# Envuelto con superresolución\n",
        "ddpm_model_superres = DDPM_SuperRes_Wrapper(ddpm_model, upscale_factor=4)\n"
      ],
      "metadata": {
        "id": "SKcksaDWn0cA",
        "colab": {
          "base_uri": "https://localhost:8080/"
        },
        "outputId": "5faf8842-986b-45c9-86d4-484759ade40b"
      },
      "execution_count": null,
      "outputs": [
        {
          "output_type": "stream",
          "name": "stdout",
          "text": [
            "[DownBlock] in=64, out=128, groups_in=32, groups_out=32\n",
            "[DownBlock] in=128, out=256, groups_in=32, groups_out=32\n"
          ]
        }
      ]
    },
    {
      "cell_type": "code",
      "source": [
        "x = torch.randn(1, 2, 152, 152)\n",
        "t = torch.tensor([0])\n",
        "\n",
        "ddpm_model_superres.eval()\n",
        "with torch.no_grad():\n",
        "    y = ddpm_model_superres(x, t)\n",
        "    print(\"Output shape:\", y.shape)  # Esperado: [1, 1, 608, 608]"
      ],
      "metadata": {
        "colab": {
          "base_uri": "https://localhost:8080/"
        },
        "id": "F6REKIDBn_yI",
        "outputId": "4b444e72-3069-4f81-fcfc-b1ee73c48a6c"
      },
      "execution_count": null,
      "outputs": [
        {
          "output_type": "stream",
          "name": "stdout",
          "text": [
            "Output shape: torch.Size([1, 1, 608, 608])\n"
          ]
        }
      ]
    },
    {
      "cell_type": "code",
      "source": [
        "import torch\n",
        "from pytorch_lightning import Trainer, seed_everything\n",
        "from pytorch_lightning.callbacks import ModelCheckpoint, EarlyStopping\n",
        "from pytorch_lightning.loggers import TensorBoardLogger\n",
        "import torch.nn as nn\n",
        "import torch.nn.functional as F\n",
        "from torchviz import make_dot\n",
        "from torchsummary import summary\n",
        "import os, glob\n",
        "from PIL import Image\n",
        "import torch\n",
        "from torch.utils.data import Dataset, DataLoader\n",
        "import torchvision.transforms as T\n",
        "import matplotlib.pyplot as plt\n",
        "import os\n",
        "import torch\n",
        "import torch.nn as nn\n",
        "from torch.utils.data import DataLoader\n",
        "\n",
        "import lightning as L\n",
        "from lightning.fabric.utilities.seed import seed_everything\n",
        "from lightning.pytorch.loggers.wandb import WandbLogger\n",
        "from lightning.pytorch.callbacks import EarlyStopping\n",
        "\n",
        "import sys\n",
        "sys.path.append(\"/content/DDMP_UNet\")\n",
        "from src.callbacks.metrics_new import MetricsCallbackDDPM\n",
        "from src.ddpm.ddpm_A import DDPM_2D"
      ],
      "metadata": {
        "id": "9mQadnN0hsHE"
      },
      "execution_count": null,
      "outputs": []
    },
    {
      "cell_type": "code",
      "source": [
        "# Callbacks\n",
        "checkpoint_cb = ModelCheckpoint(\n",
        "    monitor='val/loss',\n",
        "    save_top_k=1,\n",
        "    mode='min',\n",
        "    filename='ddpm-superres-best'\n",
        ")\n",
        "\n",
        "early_stop_cb = EarlyStopping(\n",
        "    monitor='val/loss',\n",
        "    patience=10,\n",
        "    mode='min'\n",
        ")\n",
        "\n",
        "logger = TensorBoardLogger(\"lightning_logs\", name=\"ddpm_superres\")\n",
        "\n",
        "# Semilla\n",
        "seed_everything(42)\n"
      ],
      "metadata": {
        "id": "-l2pfyC6h_29",
        "colab": {
          "base_uri": "https://localhost:8080/"
        },
        "outputId": "cc5c7aa6-2975-42a1-dc09-c59d46c3301c"
      },
      "execution_count": null,
      "outputs": [
        {
          "output_type": "stream",
          "name": "stderr",
          "text": [
            "INFO: Seed set to 42\n",
            "INFO:lightning.fabric.utilities.seed:Seed set to 42\n"
          ]
        },
        {
          "output_type": "execute_result",
          "data": {
            "text/plain": [
              "42"
            ]
          },
          "metadata": {},
          "execution_count": 12
        }
      ]
    },
    {
      "cell_type": "code",
      "source": [
        "# Ruta en Google Drive\n",
        "drive_output_path = \"/content/drive/MyDrive/Entrenamiento superResolucion\""
      ],
      "metadata": {
        "id": "87gMu_Zoifp3"
      },
      "execution_count": null,
      "outputs": []
    },
    {
      "cell_type": "code",
      "source": [
        "from pytorch_lightning.callbacks import ModelCheckpoint\n",
        "from pytorch_lightning.loggers import TensorBoardLogger\n",
        "\n",
        "# Logger en carpeta de Drive\n",
        "logger = TensorBoardLogger(\n",
        "    save_dir=drive_output_path,\n",
        "    name=\"logs\"\n",
        ")\n",
        "\n",
        "# Guardar el mejor modelo (por val/loss mínimo)\n",
        "checkpoint_best = ModelCheckpoint(\n",
        "    dirpath=drive_output_path,\n",
        "    filename=\"best-checkpoint\",\n",
        "    monitor=\"val/loss\",\n",
        "    save_top_k=1,\n",
        "    mode=\"min\",\n",
        "    save_weights_only=False,\n",
        ")\n",
        "\n",
        "# Guardar modelo en CADA epoch (con nombre por epoch)\n",
        "checkpoint_all = ModelCheckpoint(\n",
        "    dirpath=drive_output_path,\n",
        "    filename=\"epoch-{epoch:02d}-val_loss-{val/loss:.4f}\",\n",
        "    save_top_k=-1,  # Guardar todos\n",
        "    every_n_epochs=1,\n",
        "    save_weights_only=False,\n",
        ")\n"
      ],
      "metadata": {
        "id": "MrGHyY1jihWh"
      },
      "execution_count": null,
      "outputs": []
    },
    {
      "cell_type": "code",
      "source": [
        "import os\n",
        "import torch\n",
        "import torch.nn as nn\n",
        "import pandas as pd\n",
        "from tqdm import tqdm\n",
        "\n",
        "device = torch.device(\"cuda\" if torch.cuda.is_available() else \"cpu\")\n",
        "\n",
        "# Ruta en Google Drive\n",
        "save_dir = \"/content/drive/MyDrive/Entrenamiento superResolucion\"\n",
        "os.makedirs(save_dir, exist_ok=True)\n",
        "\n",
        "# Modelo\n",
        "ddpm_model = DDPM_2D(\n",
        "    in_channels=1,\n",
        "    out_channels=1,\n",
        "    diffusion_steps=400,\n",
        "    dropout=0.10,\n",
        "    lr=1e-3,\n",
        "    encoder_channels=[64, 128, 256, 512],\n",
        "    loss_fn=nn.MSELoss(),\n",
        ").to(device)\n",
        "\n",
        "optimizer = torch.optim.Adam(ddpm_model.parameters(), lr=1e-3)"
      ],
      "metadata": {
        "id": "0xOO1rGYijOo",
        "colab": {
          "base_uri": "https://localhost:8080/"
        },
        "outputId": "e08307e1-638d-4b73-d013-bc8ac6d91ac2"
      },
      "execution_count": null,
      "outputs": [
        {
          "output_type": "stream",
          "name": "stdout",
          "text": [
            "[DownBlock] in=64, out=128, groups_in=32, groups_out=32\n",
            "[DownBlock] in=128, out=256, groups_in=32, groups_out=32\n"
          ]
        }
      ]
    },
    {
      "cell_type": "code",
      "source": [
        "from torchviz import make_dot\n",
        "\n",
        "device = torch.device(\"cuda\" if torch.cuda.is_available() else \"cpu\")\n",
        "ddpm_model_superres.to(device)\n",
        "\n",
        "x = torch.randn(1, 2, 152, 152).to(device)\n",
        "t = torch.randint(0, 400, (1,), dtype=torch.long).to(device)\n",
        "\n",
        "ddpm_model_superres.eval()\n",
        "out = ddpm_model_superres(x, t)\n",
        "\n",
        "dot = make_dot(out, params=dict(ddpm_model_superres.named_parameters()))\n",
        "dot.format = \"png\"\n",
        "dot.render(\"ddpm_model_graph_make_dot\")\n",
        "dot.view()\n"
      ],
      "metadata": {
        "colab": {
          "base_uri": "https://localhost:8080/",
          "height": 35
        },
        "id": "w1vTnyG2so7c",
        "outputId": "65fddcc6-c45a-48f9-a05a-f027db757df5"
      },
      "execution_count": null,
      "outputs": [
        {
          "output_type": "execute_result",
          "data": {
            "text/plain": [
              "'ddpm_model_graph_make_dot.png'"
            ],
            "application/vnd.google.colaboratory.intrinsic+json": {
              "type": "string"
            }
          },
          "metadata": {},
          "execution_count": 31
        }
      ]
    },
    {
      "cell_type": "code",
      "source": [
        "from torchsummary import summary\n",
        "\n",
        "# Ejemplo con batch=1, 2 canales, 152x152\n",
        "summary(ddpm_model_superres, input_size=(2, 152, 152))"
      ],
      "metadata": {
        "colab": {
          "base_uri": "https://localhost:8080/"
        },
        "id": "BaMnTsw8s35f",
        "outputId": "faf66572-6622-4cb9-acb8-c94147553a6d"
      },
      "execution_count": null,
      "outputs": [
        {
          "output_type": "stream",
          "name": "stdout",
          "text": [
            "----------------------------------------------------------------\n",
            "        Layer (type)               Output Shape         Param #\n",
            "================================================================\n",
            "            Conv2d-1         [-1, 64, 152, 152]             128\n",
            "            Conv2d-2         [-1, 64, 152, 152]           1,152\n",
            "         GroupNorm-3         [-1, 64, 152, 152]             128\n",
            "              SiLU-4         [-1, 64, 152, 152]               0\n",
            "           Dropout-5         [-1, 64, 152, 152]               0\n",
            "            Conv2d-6         [-1, 64, 152, 152]          36,864\n",
            "         GroupNorm-7         [-1, 64, 152, 152]             128\n",
            "              SiLU-8         [-1, 64, 152, 152]               0\n",
            "           Dropout-9         [-1, 64, 152, 152]               0\n",
            "ResBlockGroupNorm-10         [-1, 64, 152, 152]               0\n",
            "        MaxPool2d-11           [-1, 64, 76, 76]               0\n",
            "           Conv2d-12          [-1, 128, 76, 76]           8,192\n",
            "           Conv2d-13          [-1, 128, 76, 76]          73,728\n",
            "        GroupNorm-14          [-1, 128, 76, 76]             256\n",
            "             SiLU-15          [-1, 128, 76, 76]               0\n",
            "          Dropout-16          [-1, 128, 76, 76]               0\n",
            "           Conv2d-17          [-1, 128, 76, 76]         147,456\n",
            "        GroupNorm-18          [-1, 128, 76, 76]             256\n",
            "             SiLU-19          [-1, 128, 76, 76]               0\n",
            "          Dropout-20          [-1, 128, 76, 76]               0\n",
            "ResBlockGroupNorm-21          [-1, 128, 76, 76]               0\n",
            "         Identity-22          [-1, 128, 76, 76]               0\n",
            "           Conv2d-23          [-1, 128, 76, 76]         147,456\n",
            "        GroupNorm-24          [-1, 128, 76, 76]             256\n",
            "             SiLU-25          [-1, 128, 76, 76]               0\n",
            "          Dropout-26          [-1, 128, 76, 76]               0\n",
            "           Conv2d-27          [-1, 128, 76, 76]         147,456\n",
            "        GroupNorm-28          [-1, 128, 76, 76]             256\n",
            "             SiLU-29          [-1, 128, 76, 76]               0\n",
            "          Dropout-30          [-1, 128, 76, 76]               0\n",
            "ResBlockGroupNorm-31          [-1, 128, 76, 76]               0\n",
            "Down_Res_GroupNorm_SiLU_D-32          [-1, 128, 76, 76]               0\n",
            "        MaxPool2d-33          [-1, 128, 38, 38]               0\n",
            "           Conv2d-34          [-1, 256, 38, 38]          32,768\n",
            "           Conv2d-35          [-1, 256, 38, 38]         294,912\n",
            "        GroupNorm-36          [-1, 256, 38, 38]             512\n",
            "             SiLU-37          [-1, 256, 38, 38]               0\n",
            "          Dropout-38          [-1, 256, 38, 38]               0\n",
            "           Conv2d-39          [-1, 256, 38, 38]         589,824\n",
            "        GroupNorm-40          [-1, 256, 38, 38]             512\n",
            "             SiLU-41          [-1, 256, 38, 38]               0\n",
            "          Dropout-42          [-1, 256, 38, 38]               0\n",
            "ResBlockGroupNorm-43          [-1, 256, 38, 38]               0\n",
            "         Identity-44          [-1, 256, 38, 38]               0\n",
            "           Conv2d-45          [-1, 256, 38, 38]         589,824\n",
            "        GroupNorm-46          [-1, 256, 38, 38]             512\n",
            "             SiLU-47          [-1, 256, 38, 38]               0\n",
            "          Dropout-48          [-1, 256, 38, 38]               0\n",
            "           Conv2d-49          [-1, 256, 38, 38]         589,824\n",
            "        GroupNorm-50          [-1, 256, 38, 38]             512\n",
            "             SiLU-51          [-1, 256, 38, 38]               0\n",
            "          Dropout-52          [-1, 256, 38, 38]               0\n",
            "ResBlockGroupNorm-53          [-1, 256, 38, 38]               0\n",
            "Down_Res_GroupNorm_SiLU_D-54          [-1, 256, 38, 38]               0\n",
            "  ConvTranspose2d-55          [-1, 128, 76, 76]         131,200\n",
            "           Conv2d-56          [-1, 128, 76, 76]          32,768\n",
            "           Conv2d-57          [-1, 128, 76, 76]         294,912\n",
            "        GroupNorm-58          [-1, 128, 76, 76]             256\n",
            "             SiLU-59          [-1, 128, 76, 76]               0\n",
            "          Dropout-60          [-1, 128, 76, 76]               0\n",
            "           Conv2d-61          [-1, 128, 76, 76]         147,456\n",
            "        GroupNorm-62          [-1, 128, 76, 76]             256\n",
            "             SiLU-63          [-1, 128, 76, 76]               0\n",
            "          Dropout-64          [-1, 128, 76, 76]               0\n",
            "ResBlockGroupNorm-65          [-1, 128, 76, 76]               0\n",
            "         Identity-66          [-1, 128, 76, 76]               0\n",
            "           Conv2d-67          [-1, 128, 76, 76]         147,456\n",
            "        GroupNorm-68          [-1, 128, 76, 76]             256\n",
            "             SiLU-69          [-1, 128, 76, 76]               0\n",
            "          Dropout-70          [-1, 128, 76, 76]               0\n",
            "           Conv2d-71          [-1, 128, 76, 76]         147,456\n",
            "        GroupNorm-72          [-1, 128, 76, 76]             256\n",
            "             SiLU-73          [-1, 128, 76, 76]               0\n",
            "          Dropout-74          [-1, 128, 76, 76]               0\n",
            "ResBlockGroupNorm-75          [-1, 128, 76, 76]               0\n",
            "Up_Res_GroupNorm_SiLU_D-76          [-1, 128, 76, 76]               0\n",
            "  ConvTranspose2d-77         [-1, 64, 152, 152]          32,832\n",
            "           Conv2d-78         [-1, 64, 152, 152]           8,192\n",
            "           Conv2d-79         [-1, 64, 152, 152]          73,728\n",
            "        GroupNorm-80         [-1, 64, 152, 152]             128\n",
            "             SiLU-81         [-1, 64, 152, 152]               0\n",
            "          Dropout-82         [-1, 64, 152, 152]               0\n",
            "           Conv2d-83         [-1, 64, 152, 152]          36,864\n",
            "        GroupNorm-84         [-1, 64, 152, 152]             128\n",
            "             SiLU-85         [-1, 64, 152, 152]               0\n",
            "          Dropout-86         [-1, 64, 152, 152]               0\n",
            "ResBlockGroupNorm-87         [-1, 64, 152, 152]               0\n",
            "         Identity-88         [-1, 64, 152, 152]               0\n",
            "           Conv2d-89         [-1, 64, 152, 152]          36,864\n",
            "        GroupNorm-90         [-1, 64, 152, 152]             128\n",
            "             SiLU-91         [-1, 64, 152, 152]               0\n",
            "          Dropout-92         [-1, 64, 152, 152]               0\n",
            "           Conv2d-93         [-1, 64, 152, 152]          36,864\n",
            "        GroupNorm-94         [-1, 64, 152, 152]             128\n",
            "             SiLU-95         [-1, 64, 152, 152]               0\n",
            "          Dropout-96         [-1, 64, 152, 152]               0\n",
            "ResBlockGroupNorm-97         [-1, 64, 152, 152]               0\n",
            "Up_Res_GroupNorm_SiLU_D-98         [-1, 64, 152, 152]               0\n",
            "           Conv2d-99          [-1, 1, 152, 152]             577\n",
            "    UNetSuperRes-100          [-1, 1, 152, 152]               0\n",
            "         DDPM_2D-101          [-1, 1, 152, 152]               0\n",
            "        Upsample-102          [-1, 1, 608, 608]               0\n",
            "          Conv2d-103          [-1, 1, 608, 608]              10\n",
            "          Conv2d-104          [-1, 1, 608, 608]              10\n",
            "================================================================\n",
            "Total params: 3,791,637\n",
            "Trainable params: 3,791,637\n",
            "Non-trainable params: 0\n",
            "----------------------------------------------------------------\n",
            "Input size (MB): 0.18\n",
            "Forward/backward pass size (MB): 675.99\n",
            "Params size (MB): 14.46\n",
            "Estimated Total Size (MB): 690.63\n",
            "----------------------------------------------------------------\n"
          ]
        }
      ]
    },
    {
      "cell_type": "markdown",
      "source": [
        "# Entrenamiento!!"
      ],
      "metadata": {
        "id": "-43wq8AThsrf"
      }
    },
    {
      "cell_type": "code",
      "source": [
        "#No ruido\n",
        "import os\n",
        "import torch\n",
        "from tqdm import tqdm\n",
        "import pandas as pd\n",
        "from torch.utils.data import DataLoader\n",
        "from torchvision import transforms\n",
        "from PIL import Image\n",
        "import torch.nn as nn\n",
        "\n",
        "from torchvision.transforms import functional as TVF  # Para transformaciones de imagen\n",
        "import torch.nn.functional as F  # Para funciones de pérdida\n",
        "from torch.utils.data import Dataset  # Añade esto si falta\n",
        "\n",
        "class DDPM_SuperRes_Wrapper(nn.Module):\n",
        "    def __init__(self, ddpm_model, upscale_factor=4):\n",
        "        super().__init__()\n",
        "        self.ddpm = ddpm_model\n",
        "        self.upscale = nn.Sequential(\n",
        "            nn.Upsample(scale_factor=upscale_factor, mode='bilinear', align_corners=True),\n",
        "            nn.Conv2d(1, 1, kernel_size=3, padding=1),\n",
        "            nn.Conv2d(1, 1, kernel_size=3, padding=1)\n",
        "        )\n",
        "        self.duplicate_channel = lambda x: torch.cat([x, x], dim=1)\n",
        "\n",
        "    def forward(self, x, t=None):  # Hacemos t opcional\n",
        "        x_2ch = self.duplicate_channel(x)\n",
        "        # Si no se proporciona t, asumimos modo sin difusión\n",
        "        if t is None:\n",
        "            out = self.ddpm(x_2ch)  # Sin parámetro t\n",
        "        else:\n",
        "            out = self.ddpm(x_2ch, t)\n",
        "        return self.upscale(out)\n",
        "\n",
        "#===================================================================\n",
        "\n",
        "class SRDataset(Dataset):\n",
        "    def __init__(self, lr_dir, hr_dir):\n",
        "        self.lr_dir = lr_dir\n",
        "        self.hr_dir = hr_dir\n",
        "        self.filenames = os.listdir(lr_dir)\n",
        "        self.transform = transforms.Compose([\n",
        "            transforms.ToTensor()\n",
        "        ])\n",
        "\n",
        "    def __len__(self):\n",
        "        return len(self.filenames)\n",
        "\n",
        "    def __getitem__(self, idx):\n",
        "        filename = self.filenames[idx]\n",
        "        lr_path = os.path.join(self.lr_dir, filename)\n",
        "        hr_path = os.path.join(self.hr_dir, filename)\n",
        "\n",
        "        lr_img = Image.open(lr_path).convert('RGB')\n",
        "        hr_img = Image.open(hr_path).convert('RGB')\n",
        "\n",
        "        # Convertir a grayscale\n",
        "        lr_gray = TVF.to_grayscale(lr_img, num_output_channels=1)  # Cambiado\n",
        "        hr_gray = TVF.to_grayscale(hr_img, num_output_channels=1)  # Cambiado\n",
        "        return {\n",
        "            'lr': self.transform(lr_gray),\n",
        "            'hr': self.transform(hr_gray)\n",
        "        }\n",
        "\n",
        "train_dataset = SRDataset(\n",
        "    hr_dir='/content/split_data/train/acs/',\n",
        "    lr_dir='/content/split_data/train/dud/'\n",
        ")\n",
        "\n",
        "val_dataset = SRDataset(\n",
        "    hr_dir='/content/split_data/val/acs/',\n",
        "    lr_dir='/content/split_data/val/dud/'\n",
        ")\n",
        "\n",
        "train_loader = DataLoader(train_dataset, batch_size=48, shuffle=True, num_workers=4)\n",
        "val_loader = DataLoader(val_dataset, batch_size=1, num_workers=2)\n",
        "\n",
        "# =================================================================================\n",
        "\n",
        "# Configuración inicial\n",
        "device = torch.device('cuda' if torch.cuda.is_available() else 'cpu')\n",
        "save_dir = \"/content/drive/MyDrive/Entrenamiento superResolucion\"\n",
        "\n",
        "# Crear directorio si no existe\n",
        "os.makedirs(save_dir, exist_ok=True)\n",
        "\n",
        "# Hiperparámetros\n",
        "num_epochs = 1\n",
        "lr = 1e-3\n",
        "\n",
        "# Modelo y optimizador\n",
        "ddpm_model = DDPM_2D(\n",
        "    in_channels=2,\n",
        "    out_channels=1,\n",
        "    diffusion_steps=400,\n",
        "    dropout=0.10,\n",
        "    lr=lr,\n",
        "    encoder_channels=[64, 128, 256, 512, 1024],\n",
        "    loss_fn=nn.MSELoss(),\n",
        ").to(device)\n",
        "\n",
        "ddpm_model_superres = DDPM_SuperRes_Wrapper(ddpm_model, upscale_factor=4).to(device)\n",
        "optimizer = torch.optim.Adam(ddpm_model_superres.parameters(), lr=lr)\n",
        "\n",
        "# Entrenamiento\n",
        "best_val_loss = float('inf')\n",
        "history = {\n",
        "    'epoch': [],\n",
        "    'train_loss': [],\n",
        "    'val_loss': []\n",
        "}\n",
        "\n",
        "for epoch in range(num_epochs):\n",
        "    ddpm_model_superres.train()\n",
        "    train_losses = []\n",
        "\n",
        "    train_pbar = tqdm(train_loader, desc=f'Epoch {epoch+1}/{num_epochs} [Train]')\n",
        "\n",
        "    for batch in train_pbar:\n",
        "        x_lr = batch[\"lr\"].to(device)\n",
        "        x_hr = batch[\"hr\"].to(device)\n",
        "\n",
        "        optimizer.zero_grad()\n",
        "        pred_hr = ddpm_model_superres(x_lr)  # Sin parámetro t\n",
        "\n",
        "        # Usamos torch.nn.functional.mse_loss\n",
        "        loss = F.mse_loss(pred_hr, x_hr)\n",
        "\n",
        "        loss.backward()\n",
        "        optimizer.step()\n",
        "\n",
        "        train_losses.append(loss.item())\n",
        "        train_pbar.set_postfix({'loss': loss.item()})\n",
        "\n",
        "    # Validación\n",
        "    ddpm_model_superres.eval()\n",
        "    val_losses = []\n",
        "\n",
        "    with torch.no_grad():\n",
        "        val_pbar = tqdm(val_loader, desc=f'Epoch {epoch+1}/{num_epochs} [Val]')\n",
        "\n",
        "        for batch in val_pbar:\n",
        "            x_lr = batch[\"lr\"].to(device)\n",
        "            x_hr = batch[\"hr\"].to(device)\n",
        "\n",
        "            pred_hr = ddpm_model_superres(x_lr)  # Sin parámetro t\n",
        "            val_loss = F.mse_loss(pred_hr, x_hr)\n",
        "            val_losses.append(val_loss.item())\n",
        "            val_pbar.set_postfix({'val_loss': val_loss.item()})\n",
        "\n",
        "    # Calcular métricas\n",
        "    avg_train_loss = sum(train_losses) / len(train_losses)\n",
        "    avg_val_loss = sum(val_losses) / len(val_losses)\n",
        "\n",
        "    # Guardar histórico\n",
        "    history['epoch'].append(epoch + 1)\n",
        "    history['train_loss'].append(avg_train_loss)\n",
        "    history['val_loss'].append(avg_val_loss)\n",
        "\n",
        "    # Guardar estadísticas en CSV\n",
        "    stats_df = pd.DataFrame(history)\n",
        "    stats_df.to_csv(os.path.join(save_dir, 'training_stats.csv'), index=False)\n",
        "\n",
        "    # Guardar modelo cada época\n",
        "    epoch_model_path = os.path.join(save_dir, f'model_epoch_{epoch+1:03d}.pth')\n",
        "    torch.save({\n",
        "        'epoch': epoch + 1,\n",
        "        'model_state_dict': ddpm_model_superres.state_dict(),\n",
        "        'optimizer_state_dict': optimizer.state_dict(),\n",
        "        'train_loss': avg_train_loss,\n",
        "        'val_loss': avg_val_loss,\n",
        "    }, epoch_model_path)\n",
        "\n",
        "    # Guardar mejor modelo\n",
        "    if avg_val_loss < best_val_loss:\n",
        "        best_val_loss = avg_val_loss\n",
        "        best_model_path = os.path.join(save_dir, 'best_model.pth')\n",
        "        torch.save({\n",
        "            'epoch': epoch + 1,\n",
        "            'model_state_dict': ddpm_model_superres.state_dict(),\n",
        "            'optimizer_state_dict': optimizer.state_dict(),\n",
        "            'train_loss': avg_train_loss,\n",
        "            'val_loss': avg_val_loss,\n",
        "        }, best_model_path)\n",
        "\n",
        "    print(f'Epoch {epoch+1}/{num_epochs} | Train Loss: {avg_train_loss:.4f} | Val Loss: {avg_val_loss:.4f}')\n",
        "\n",
        "print(\"¡Entrenamiento completado!\")"
      ],
      "metadata": {
        "colab": {
          "base_uri": "https://localhost:8080/",
          "height": 297
        },
        "id": "rAv1LTc0ZKia",
        "outputId": "a6dad2ea-1080-42f6-f5d7-9735dba66b2f"
      },
      "execution_count": null,
      "outputs": [
        {
          "output_type": "stream",
          "name": "stdout",
          "text": [
            "[DownBlock] in=64, out=128, groups_in=32, groups_out=32\n",
            "[DownBlock] in=128, out=256, groups_in=32, groups_out=32\n",
            "[DownBlock] in=64, out=128, groups_in=32, groups_out=32\n",
            "[DownBlock] in=128, out=256, groups_in=32, groups_out=32\n"
          ]
        },
        {
          "output_type": "stream",
          "name": "stderr",
          "text": [
            "Epoch 1/1 [Train]:   0%|          | 8/2149 [00:03<14:05,  2.53it/s, loss=0.00188]\n"
          ]
        },
        {
          "output_type": "error",
          "ename": "KeyboardInterrupt",
          "evalue": "",
          "traceback": [
            "\u001b[0;31m---------------------------------------------------------------------------\u001b[0m",
            "\u001b[0;31mKeyboardInterrupt\u001b[0m                         Traceback (most recent call last)",
            "\u001b[0;32m/tmp/ipython-input-5-1401832470.py\u001b[0m in \u001b[0;36m<cell line: 0>\u001b[0;34m()\u001b[0m\n\u001b[1;32m    141\u001b[0m         \u001b[0moptimizer\u001b[0m\u001b[0;34m.\u001b[0m\u001b[0mstep\u001b[0m\u001b[0;34m(\u001b[0m\u001b[0;34m)\u001b[0m\u001b[0;34m\u001b[0m\u001b[0;34m\u001b[0m\u001b[0m\n\u001b[1;32m    142\u001b[0m \u001b[0;34m\u001b[0m\u001b[0m\n\u001b[0;32m--> 143\u001b[0;31m         \u001b[0mtrain_losses\u001b[0m\u001b[0;34m.\u001b[0m\u001b[0mappend\u001b[0m\u001b[0;34m(\u001b[0m\u001b[0mloss\u001b[0m\u001b[0;34m.\u001b[0m\u001b[0mitem\u001b[0m\u001b[0;34m(\u001b[0m\u001b[0;34m)\u001b[0m\u001b[0;34m)\u001b[0m\u001b[0;34m\u001b[0m\u001b[0;34m\u001b[0m\u001b[0m\n\u001b[0m\u001b[1;32m    144\u001b[0m         \u001b[0mtrain_pbar\u001b[0m\u001b[0;34m.\u001b[0m\u001b[0mset_postfix\u001b[0m\u001b[0;34m(\u001b[0m\u001b[0;34m{\u001b[0m\u001b[0;34m'loss'\u001b[0m\u001b[0;34m:\u001b[0m \u001b[0mloss\u001b[0m\u001b[0;34m.\u001b[0m\u001b[0mitem\u001b[0m\u001b[0;34m(\u001b[0m\u001b[0;34m)\u001b[0m\u001b[0;34m}\u001b[0m\u001b[0;34m)\u001b[0m\u001b[0;34m\u001b[0m\u001b[0;34m\u001b[0m\u001b[0m\n\u001b[1;32m    145\u001b[0m \u001b[0;34m\u001b[0m\u001b[0m\n",
            "\u001b[0;31mKeyboardInterrupt\u001b[0m: "
          ]
        }
      ]
    },
    {
      "cell_type": "code",
      "source": [
        "# Cargar el modelo:\n",
        "# Configuración inicial\n",
        "device = torch.device('cuda' if torch.cuda.is_available() else 'cpu')\n",
        "save_dir = \"/content/drive/MyDrive/Entrenamiento superResolucion\"\n",
        "\n",
        "# Cargar el mejor modelo guardado\n",
        "checkpoint = torch.load(os.path.join(save_dir, 'model_epoch_032.pth'))\n",
        "\n",
        "# Recrear la arquitectura del modelo (idéntica a la original)\n",
        "ddpm_model = DDPM_2D(\n",
        "    in_channels=2,\n",
        "    out_channels=1,\n",
        "    diffusion_steps=400,\n",
        "    dropout=0.10,\n",
        "    lr=1e-3,\n",
        "    encoder_channels=[64, 128, 256, 512, 1024],\n",
        "    loss_fn=nn.MSELoss(),\n",
        ").to(device)\n",
        "\n",
        "ddpm_model_superres = DDPM_SuperRes_Wrapper(ddpm_model, upscale_factor=4).to(device)\n",
        "optimizer = torch.optim.Adam(ddpm_model_superres.parameters(), lr=1e-3)\n",
        "\n",
        "# Cargar los estados guardados\n",
        "ddpm_model_superres.load_state_dict(checkpoint['model_state_dict'])\n",
        "optimizer.load_state_dict(checkpoint['optimizer_state_dict'])\n",
        "\n",
        "# Obtener la última época y pérdidas\n",
        "start_epoch = checkpoint['epoch']\n",
        "best_val_loss = checkpoint['val_loss']\n",
        "\n",
        "# Cargar el historial de entrenamiento\n",
        "history_path = os.path.join(save_dir, 'training_stats.csv')\n",
        "if os.path.exists(history_path):\n",
        "    history_df = pd.read_csv(history_path)\n",
        "    history = {\n",
        "        'epoch': history_df['epoch'].tolist(),\n",
        "        'train_loss': history_df['train_loss'].tolist(),\n",
        "        'val_loss': history_df['val_loss'].tolist()\n",
        "    }\n",
        "else:\n",
        "    history = {\n",
        "        'epoch': [],\n",
        "        'train_loss': [],\n",
        "        'val_loss': []\n",
        "    }\n",
        "\n",
        "# Continuar entrenamiento SIN RUIDO\n",
        "additional_epochs = 100\n",
        "total_epochs = start_epoch + additional_epochs\n",
        "\n",
        "for epoch in range(start_epoch, total_epochs):\n",
        "    ddpm_model_superres.train()\n",
        "    train_losses = []\n",
        "\n",
        "    for batch in tqdm(train_loader, desc=f'Epoch {epoch+1}/{total_epochs} [Train]'):\n",
        "        x_lr = batch[\"lr\"].to(device)\n",
        "        x_hr = batch[\"hr\"].to(device)\n",
        "\n",
        "        optimizer.zero_grad()\n",
        "        pred_hr = ddpm_model_superres(x_lr)  # Sin parámetro t\n",
        "        loss = F.mse_loss(pred_hr, x_hr)  # Pérdida directa MSE\n",
        "        loss.backward()\n",
        "        optimizer.step()\n",
        "        train_losses.append(loss.item())\n",
        "\n",
        "    # Validación (también sin ruido)\n",
        "    ddpm_model_superres.eval()\n",
        "    val_losses = []\n",
        "\n",
        "    with torch.no_grad():\n",
        "        for batch in tqdm(val_loader, desc=f'Epoch {epoch+1}/{total_epochs} [Val]'):\n",
        "            x_lr = batch[\"lr\"].to(device)\n",
        "            x_hr = batch[\"hr\"].to(device)\n",
        "\n",
        "            pred_hr = ddpm_model_superres(x_lr)  # Sin parámetro t\n",
        "            val_loss = F.mse_loss(pred_hr, x_hr)  # Pérdida directa MSE\n",
        "            val_losses.append(val_loss.item())\n",
        "\n",
        "    # Actualizar métricas\n",
        "    avg_train_loss = sum(train_losses) / len(train_losses)\n",
        "    avg_val_loss = sum(val_losses) / len(val_losses)\n",
        "\n",
        "    history['epoch'].append(epoch + 1)\n",
        "    history['train_loss'].append(avg_train_loss)\n",
        "    history['val_loss'].append(avg_val_loss)\n",
        "\n",
        "    # Guardar checkpoints\n",
        "    stats_df = pd.DataFrame(history)\n",
        "    stats_df.to_csv(os.path.join(save_dir, 'training_stats.csv'), index=False)\n",
        "\n",
        "    epoch_model_path = os.path.join(save_dir, f'model_epoch_{epoch+1:03d}.pth')\n",
        "    torch.save({\n",
        "        'epoch': epoch + 1,\n",
        "        'model_state_dict': ddpm_model_superres.state_dict(),\n",
        "        'optimizer_state_dict': optimizer.state_dict(),\n",
        "        'train_loss': avg_train_loss,\n",
        "        'val_loss': avg_val_loss,\n",
        "    }, epoch_model_path)\n",
        "\n",
        "    if avg_val_loss < best_val_loss:\n",
        "        best_val_loss = avg_val_loss\n",
        "        best_model_path = os.path.join(save_dir, 'best_model.pth')\n",
        "        torch.save({\n",
        "            'epoch': epoch + 1,\n",
        "            'model_state_dict': ddpm_model_superres.state_dict(),\n",
        "            'optimizer_state_dict': optimizer.state_dict(),\n",
        "            'train_loss': avg_train_loss,\n",
        "            'val_loss': avg_val_loss,\n",
        "        }, best_model_path)\n",
        "\n",
        "    print(f'Epoch {epoch+1}/{total_epochs} | Train Loss: {avg_train_loss:.4f} | Val Loss: {avg_val_loss:.4f}')\n",
        "\n",
        "print(\"¡Entrenamiento continuado completado!\")"
      ],
      "metadata": {
        "colab": {
          "base_uri": "https://localhost:8080/"
        },
        "id": "guB675BqZMfD",
        "outputId": "309c62ba-3d5d-4b13-f772-a3bad94f8b65"
      },
      "execution_count": null,
      "outputs": [
        {
          "metadata": {
            "tags": null
          },
          "name": "stdout",
          "output_type": "stream",
          "text": [
            "[DownBlock] in=64, out=128, groups_in=32, groups_out=32\n",
            "[DownBlock] in=128, out=256, groups_in=32, groups_out=32\n"
          ]
        },
        {
          "metadata": {
            "tags": null
          },
          "name": "stderr",
          "output_type": "stream",
          "text": [
            "Epoch 33/132 [Train]: 100%|██████████| 2149/2149 [06:34<00:00,  5.45it/s]\n",
            "Epoch 33/132 [Val]: 100%|██████████| 12891/12891 [01:25<00:00, 151.56it/s]\n"
          ]
        },
        {
          "metadata": {
            "tags": null
          },
          "name": "stdout",
          "output_type": "stream",
          "text": [
            "Epoch 33/132 | Train Loss: 0.0000 | Val Loss: 0.0001\n"
          ]
        },
        {
          "metadata": {
            "tags": null
          },
          "name": "stderr",
          "output_type": "stream",
          "text": [
            "Epoch 34/132 [Train]: 100%|██████████| 2149/2149 [06:33<00:00,  5.46it/s]\n",
            "Epoch 34/132 [Val]: 100%|██████████| 12891/12891 [01:25<00:00, 150.50it/s]\n"
          ]
        },
        {
          "metadata": {
            "tags": null
          },
          "name": "stdout",
          "output_type": "stream",
          "text": [
            "Epoch 34/132 | Train Loss: 0.0000 | Val Loss: 0.0001\n"
          ]
        },
        {
          "metadata": {
            "tags": null
          },
          "name": "stderr",
          "output_type": "stream",
          "text": [
            "Epoch 35/132 [Train]: 100%|██████████| 2149/2149 [06:33<00:00,  5.46it/s]\n",
            "Epoch 35/132 [Val]: 100%|██████████| 12891/12891 [01:25<00:00, 150.12it/s]\n"
          ]
        },
        {
          "metadata": {
            "tags": null
          },
          "name": "stdout",
          "output_type": "stream",
          "text": [
            "Epoch 35/132 | Train Loss: 0.0000 | Val Loss: 0.0001\n"
          ]
        },
        {
          "metadata": {
            "tags": null
          },
          "name": "stderr",
          "output_type": "stream",
          "text": [
            "Epoch 36/132 [Train]: 100%|██████████| 2149/2149 [06:33<00:00,  5.46it/s]\n",
            "Epoch 36/132 [Val]: 100%|██████████| 12891/12891 [01:25<00:00, 150.37it/s]\n"
          ]
        },
        {
          "metadata": {
            "tags": null
          },
          "name": "stdout",
          "output_type": "stream",
          "text": [
            "Epoch 36/132 | Train Loss: 0.0000 | Val Loss: 0.0001\n"
          ]
        },
        {
          "metadata": {
            "tags": null
          },
          "name": "stderr",
          "output_type": "stream",
          "text": [
            "Epoch 37/132 [Train]: 100%|██████████| 2149/2149 [06:33<00:00,  5.46it/s]\n",
            "Epoch 37/132 [Val]: 100%|██████████| 12891/12891 [01:25<00:00, 151.00it/s]\n"
          ]
        },
        {
          "metadata": {
            "tags": null
          },
          "name": "stdout",
          "output_type": "stream",
          "text": [
            "Epoch 37/132 | Train Loss: 0.0000 | Val Loss: 0.0001\n"
          ]
        },
        {
          "metadata": {
            "tags": null
          },
          "name": "stderr",
          "output_type": "stream",
          "text": [
            "Epoch 38/132 [Train]: 100%|██████████| 2149/2149 [06:33<00:00,  5.46it/s]\n",
            "Epoch 38/132 [Val]: 100%|██████████| 12891/12891 [01:25<00:00, 150.66it/s]\n"
          ]
        },
        {
          "metadata": {
            "tags": null
          },
          "name": "stdout",
          "output_type": "stream",
          "text": [
            "Epoch 38/132 | Train Loss: 0.0000 | Val Loss: 0.0001\n"
          ]
        },
        {
          "metadata": {
            "tags": null
          },
          "name": "stderr",
          "output_type": "stream",
          "text": [
            "Epoch 39/132 [Train]: 100%|██████████| 2149/2149 [06:33<00:00,  5.46it/s]\n",
            "Epoch 39/132 [Val]: 100%|██████████| 12891/12891 [01:25<00:00, 150.39it/s]\n"
          ]
        },
        {
          "metadata": {
            "tags": null
          },
          "name": "stdout",
          "output_type": "stream",
          "text": [
            "Epoch 39/132 | Train Loss: 0.0000 | Val Loss: 0.0001\n"
          ]
        },
        {
          "metadata": {
            "tags": null
          },
          "name": "stderr",
          "output_type": "stream",
          "text": [
            "Epoch 40/132 [Train]: 100%|██████████| 2149/2149 [06:33<00:00,  5.46it/s]\n",
            "Epoch 40/132 [Val]: 100%|██████████| 12891/12891 [01:25<00:00, 151.17it/s]\n"
          ]
        },
        {
          "metadata": {
            "tags": null
          },
          "name": "stdout",
          "output_type": "stream",
          "text": [
            "Epoch 40/132 | Train Loss: 0.0000 | Val Loss: 0.0001\n"
          ]
        },
        {
          "metadata": {
            "tags": null
          },
          "name": "stderr",
          "output_type": "stream",
          "text": [
            "Epoch 41/132 [Train]: 100%|██████████| 2149/2149 [06:33<00:00,  5.46it/s]\n",
            "Epoch 41/132 [Val]: 100%|██████████| 12891/12891 [01:24<00:00, 151.71it/s]\n"
          ]
        },
        {
          "metadata": {
            "tags": null
          },
          "name": "stdout",
          "output_type": "stream",
          "text": [
            "Epoch 41/132 | Train Loss: 0.0000 | Val Loss: 0.0001\n"
          ]
        },
        {
          "metadata": {
            "tags": null
          },
          "name": "stderr",
          "output_type": "stream",
          "text": [
            "Epoch 42/132 [Train]: 100%|██████████| 2149/2149 [06:33<00:00,  5.46it/s]\n",
            "Epoch 42/132 [Val]: 100%|██████████| 12891/12891 [01:25<00:00, 150.57it/s]\n"
          ]
        },
        {
          "metadata": {
            "tags": null
          },
          "name": "stdout",
          "output_type": "stream",
          "text": [
            "Epoch 42/132 | Train Loss: 0.0000 | Val Loss: 0.0001\n"
          ]
        },
        {
          "metadata": {
            "tags": null
          },
          "name": "stderr",
          "output_type": "stream",
          "text": [
            "Epoch 43/132 [Train]: 100%|██████████| 2149/2149 [06:33<00:00,  5.46it/s]\n",
            "Epoch 43/132 [Val]: 100%|██████████| 12891/12891 [01:25<00:00, 150.15it/s]\n"
          ]
        },
        {
          "metadata": {
            "tags": null
          },
          "name": "stdout",
          "output_type": "stream",
          "text": [
            "Epoch 43/132 | Train Loss: 0.0000 | Val Loss: 0.0001\n"
          ]
        },
        {
          "metadata": {
            "tags": null
          },
          "name": "stderr",
          "output_type": "stream",
          "text": [
            "Epoch 44/132 [Train]: 100%|██████████| 2149/2149 [06:33<00:00,  5.46it/s]\n",
            "Epoch 44/132 [Val]: 100%|██████████| 12891/12891 [01:25<00:00, 150.76it/s]\n"
          ]
        },
        {
          "metadata": {
            "tags": null
          },
          "name": "stdout",
          "output_type": "stream",
          "text": [
            "Epoch 44/132 | Train Loss: 0.0000 | Val Loss: 0.0001\n"
          ]
        },
        {
          "metadata": {
            "tags": null
          },
          "name": "stderr",
          "output_type": "stream",
          "text": [
            "Epoch 45/132 [Train]: 100%|██████████| 2149/2149 [06:33<00:00,  5.46it/s]\n",
            "Epoch 45/132 [Val]: 100%|██████████| 12891/12891 [01:26<00:00, 149.71it/s]\n"
          ]
        },
        {
          "metadata": {
            "tags": null
          },
          "name": "stdout",
          "output_type": "stream",
          "text": [
            "Epoch 45/132 | Train Loss: 0.0000 | Val Loss: 0.0001\n"
          ]
        },
        {
          "metadata": {
            "tags": null
          },
          "name": "stderr",
          "output_type": "stream",
          "text": [
            "Epoch 46/132 [Train]: 100%|██████████| 2149/2149 [06:33<00:00,  5.46it/s]\n",
            "Epoch 46/132 [Val]: 100%|██████████| 12891/12891 [01:25<00:00, 150.50it/s]\n"
          ]
        },
        {
          "metadata": {
            "tags": null
          },
          "name": "stdout",
          "output_type": "stream",
          "text": [
            "Epoch 46/132 | Train Loss: 0.0000 | Val Loss: 0.0001\n"
          ]
        },
        {
          "metadata": {
            "tags": null
          },
          "name": "stderr",
          "output_type": "stream",
          "text": [
            "Epoch 47/132 [Train]: 100%|██████████| 2149/2149 [06:33<00:00,  5.46it/s]\n",
            "Epoch 47/132 [Val]: 100%|██████████| 12891/12891 [01:26<00:00, 148.70it/s]\n"
          ]
        },
        {
          "metadata": {
            "tags": null
          },
          "name": "stdout",
          "output_type": "stream",
          "text": [
            "Epoch 47/132 | Train Loss: 0.0000 | Val Loss: 0.0001\n"
          ]
        },
        {
          "metadata": {
            "tags": null
          },
          "name": "stderr",
          "output_type": "stream",
          "text": [
            "Epoch 48/132 [Train]: 100%|██████████| 2149/2149 [06:33<00:00,  5.45it/s]\n",
            "Epoch 48/132 [Val]: 100%|██████████| 12891/12891 [01:25<00:00, 150.27it/s]\n"
          ]
        },
        {
          "metadata": {
            "tags": null
          },
          "name": "stdout",
          "output_type": "stream",
          "text": [
            "Epoch 48/132 | Train Loss: 0.0000 | Val Loss: 0.0001\n"
          ]
        },
        {
          "metadata": {
            "tags": null
          },
          "name": "stderr",
          "output_type": "stream",
          "text": [
            "Epoch 49/132 [Train]: 100%|██████████| 2149/2149 [06:33<00:00,  5.46it/s]\n",
            "Epoch 49/132 [Val]: 100%|██████████| 12891/12891 [01:26<00:00, 149.82it/s]\n"
          ]
        },
        {
          "metadata": {
            "tags": null
          },
          "name": "stdout",
          "output_type": "stream",
          "text": [
            "Epoch 49/132 | Train Loss: 0.0000 | Val Loss: 0.0001\n"
          ]
        },
        {
          "metadata": {
            "tags": null
          },
          "name": "stderr",
          "output_type": "stream",
          "text": [
            "Epoch 50/132 [Train]: 100%|██████████| 2149/2149 [06:33<00:00,  5.46it/s]\n",
            "Epoch 50/132 [Val]: 100%|██████████| 12891/12891 [01:25<00:00, 151.28it/s]\n"
          ]
        },
        {
          "metadata": {
            "tags": null
          },
          "name": "stdout",
          "output_type": "stream",
          "text": [
            "Epoch 50/132 | Train Loss: 0.0000 | Val Loss: 0.0001\n"
          ]
        },
        {
          "metadata": {
            "tags": null
          },
          "name": "stderr",
          "output_type": "stream",
          "text": [
            "Epoch 51/132 [Train]: 100%|██████████| 2149/2149 [06:34<00:00,  5.45it/s]\n",
            "Epoch 51/132 [Val]: 100%|██████████| 12891/12891 [01:26<00:00, 149.22it/s]\n"
          ]
        },
        {
          "metadata": {
            "tags": null
          },
          "name": "stdout",
          "output_type": "stream",
          "text": [
            "Epoch 51/132 | Train Loss: 0.0000 | Val Loss: 0.0001\n"
          ]
        },
        {
          "metadata": {
            "tags": null
          },
          "name": "stderr",
          "output_type": "stream",
          "text": [
            "Epoch 52/132 [Train]: 100%|██████████| 2149/2149 [06:33<00:00,  5.45it/s]\n",
            "Epoch 52/132 [Val]: 100%|██████████| 12891/12891 [01:26<00:00, 149.31it/s]\n"
          ]
        },
        {
          "metadata": {
            "tags": null
          },
          "name": "stdout",
          "output_type": "stream",
          "text": [
            "Epoch 52/132 | Train Loss: 0.0000 | Val Loss: 0.0001\n"
          ]
        },
        {
          "metadata": {
            "tags": null
          },
          "name": "stderr",
          "output_type": "stream",
          "text": [
            "Epoch 53/132 [Train]: 100%|██████████| 2149/2149 [06:33<00:00,  5.46it/s]\n",
            "Epoch 53/132 [Val]: 100%|██████████| 12891/12891 [01:26<00:00, 148.31it/s]\n"
          ]
        },
        {
          "metadata": {
            "tags": null
          },
          "name": "stdout",
          "output_type": "stream",
          "text": [
            "Epoch 53/132 | Train Loss: 0.0000 | Val Loss: 0.0001\n"
          ]
        },
        {
          "metadata": {
            "tags": null
          },
          "name": "stderr",
          "output_type": "stream",
          "text": [
            "Epoch 54/132 [Train]: 100%|██████████| 2149/2149 [06:34<00:00,  5.45it/s]\n",
            "Epoch 54/132 [Val]: 100%|██████████| 12891/12891 [01:25<00:00, 150.66it/s]\n"
          ]
        },
        {
          "metadata": {
            "tags": null
          },
          "name": "stdout",
          "output_type": "stream",
          "text": [
            "Epoch 54/132 | Train Loss: 0.0000 | Val Loss: 0.0001\n"
          ]
        },
        {
          "metadata": {
            "tags": null
          },
          "name": "stderr",
          "output_type": "stream",
          "text": [
            "Epoch 55/132 [Train]: 100%|██████████| 2149/2149 [06:33<00:00,  5.46it/s]\n",
            "Epoch 55/132 [Val]: 100%|██████████| 12891/12891 [01:26<00:00, 149.80it/s]\n"
          ]
        },
        {
          "metadata": {
            "tags": null
          },
          "name": "stdout",
          "output_type": "stream",
          "text": [
            "Epoch 55/132 | Train Loss: 0.0000 | Val Loss: 0.0001\n"
          ]
        },
        {
          "metadata": {
            "tags": null
          },
          "name": "stderr",
          "output_type": "stream",
          "text": [
            "Epoch 56/132 [Train]: 100%|██████████| 2149/2149 [06:33<00:00,  5.46it/s]\n",
            "Epoch 56/132 [Val]: 100%|██████████| 12891/12891 [01:26<00:00, 149.12it/s]\n"
          ]
        },
        {
          "metadata": {
            "tags": null
          },
          "name": "stdout",
          "output_type": "stream",
          "text": [
            "Epoch 56/132 | Train Loss: 0.0000 | Val Loss: 0.0001\n"
          ]
        },
        {
          "metadata": {
            "tags": null
          },
          "name": "stderr",
          "output_type": "stream",
          "text": [
            "Epoch 57/132 [Train]: 100%|██████████| 2149/2149 [06:33<00:00,  5.46it/s]\n",
            "Epoch 57/132 [Val]: 100%|██████████| 12891/12891 [01:26<00:00, 149.83it/s]\n"
          ]
        },
        {
          "metadata": {
            "tags": null
          },
          "name": "stdout",
          "output_type": "stream",
          "text": [
            "Epoch 57/132 | Train Loss: 0.0000 | Val Loss: 0.0001\n"
          ]
        },
        {
          "metadata": {
            "tags": null
          },
          "name": "stderr",
          "output_type": "stream",
          "text": [
            "Epoch 58/132 [Train]: 100%|██████████| 2149/2149 [06:33<00:00,  5.46it/s]\n",
            "Epoch 58/132 [Val]: 100%|██████████| 12891/12891 [01:26<00:00, 149.11it/s]\n"
          ]
        },
        {
          "metadata": {
            "tags": null
          },
          "name": "stdout",
          "output_type": "stream",
          "text": [
            "Epoch 58/132 | Train Loss: 0.0000 | Val Loss: 0.0001\n"
          ]
        },
        {
          "metadata": {
            "tags": null
          },
          "name": "stderr",
          "output_type": "stream",
          "text": [
            "Epoch 59/132 [Train]: 100%|██████████| 2149/2149 [06:33<00:00,  5.45it/s]\n",
            "Epoch 59/132 [Val]: 100%|██████████| 12891/12891 [01:25<00:00, 150.83it/s]\n"
          ]
        },
        {
          "metadata": {
            "tags": null
          },
          "name": "stdout",
          "output_type": "stream",
          "text": [
            "Epoch 59/132 | Train Loss: 0.0000 | Val Loss: 0.0000\n"
          ]
        },
        {
          "metadata": {
            "tags": null
          },
          "name": "stderr",
          "output_type": "stream",
          "text": [
            "Epoch 60/132 [Train]: 100%|██████████| 2149/2149 [06:33<00:00,  5.45it/s]\n",
            "Epoch 60/132 [Val]: 100%|██████████| 12891/12891 [01:24<00:00, 152.00it/s]\n"
          ]
        },
        {
          "metadata": {
            "tags": null
          },
          "name": "stdout",
          "output_type": "stream",
          "text": [
            "Epoch 60/132 | Train Loss: 0.0000 | Val Loss: 0.0001\n"
          ]
        },
        {
          "metadata": {
            "tags": null
          },
          "name": "stderr",
          "output_type": "stream",
          "text": [
            "Epoch 61/132 [Train]: 100%|██████████| 2149/2149 [06:33<00:00,  5.46it/s]\n",
            "Epoch 61/132 [Val]: 100%|██████████| 12891/12891 [01:26<00:00, 149.84it/s]\n"
          ]
        },
        {
          "metadata": {
            "tags": null
          },
          "name": "stdout",
          "output_type": "stream",
          "text": [
            "Epoch 61/132 | Train Loss: 0.0000 | Val Loss: 0.0001\n"
          ]
        },
        {
          "metadata": {
            "tags": null
          },
          "name": "stderr",
          "output_type": "stream",
          "text": [
            "Epoch 62/132 [Train]: 100%|██████████| 2149/2149 [06:33<00:00,  5.45it/s]\n",
            "Epoch 62/132 [Val]: 100%|██████████| 12891/12891 [01:25<00:00, 150.51it/s]\n"
          ]
        },
        {
          "metadata": {
            "tags": null
          },
          "name": "stdout",
          "output_type": "stream",
          "text": [
            "Epoch 62/132 | Train Loss: 0.0000 | Val Loss: 0.0001\n"
          ]
        },
        {
          "metadata": {
            "tags": null
          },
          "name": "stderr",
          "output_type": "stream",
          "text": [
            "Epoch 63/132 [Train]: 100%|██████████| 2149/2149 [06:34<00:00,  5.45it/s]\n",
            "Epoch 63/132 [Val]: 100%|██████████| 12891/12891 [01:26<00:00, 149.57it/s]\n"
          ]
        },
        {
          "metadata": {
            "tags": null
          },
          "name": "stdout",
          "output_type": "stream",
          "text": [
            "Epoch 63/132 | Train Loss: 0.0000 | Val Loss: 0.0001\n"
          ]
        },
        {
          "metadata": {
            "tags": null
          },
          "name": "stderr",
          "output_type": "stream",
          "text": [
            "Epoch 64/132 [Train]: 100%|██████████| 2149/2149 [06:34<00:00,  5.45it/s]\n",
            "Epoch 64/132 [Val]: 100%|██████████| 12891/12891 [01:27<00:00, 147.65it/s]\n"
          ]
        },
        {
          "metadata": {
            "tags": null
          },
          "name": "stdout",
          "output_type": "stream",
          "text": [
            "Epoch 64/132 | Train Loss: 0.0000 | Val Loss: 0.0001\n"
          ]
        },
        {
          "metadata": {
            "tags": null
          },
          "name": "stderr",
          "output_type": "stream",
          "text": [
            "Epoch 65/132 [Train]: 100%|██████████| 2149/2149 [06:34<00:00,  5.45it/s]\n",
            "Epoch 65/132 [Val]: 100%|██████████| 12891/12891 [01:25<00:00, 151.31it/s]\n"
          ]
        },
        {
          "metadata": {
            "tags": null
          },
          "name": "stdout",
          "output_type": "stream",
          "text": [
            "Epoch 65/132 | Train Loss: 0.0000 | Val Loss: 0.0000\n"
          ]
        },
        {
          "metadata": {
            "tags": null
          },
          "name": "stderr",
          "output_type": "stream",
          "text": [
            "Epoch 66/132 [Train]: 100%|██████████| 2149/2149 [06:34<00:00,  5.45it/s]\n",
            "Epoch 66/132 [Val]: 100%|██████████| 12891/12891 [01:25<00:00, 149.96it/s]\n"
          ]
        },
        {
          "metadata": {
            "tags": null
          },
          "name": "stdout",
          "output_type": "stream",
          "text": [
            "Epoch 66/132 | Train Loss: 0.0000 | Val Loss: 0.0000\n"
          ]
        },
        {
          "metadata": {
            "tags": null
          },
          "name": "stderr",
          "output_type": "stream",
          "text": [
            "Epoch 67/132 [Train]: 100%|██████████| 2149/2149 [06:34<00:00,  5.45it/s]\n",
            "Epoch 67/132 [Val]: 100%|██████████| 12891/12891 [01:25<00:00, 151.57it/s]\n"
          ]
        },
        {
          "metadata": {
            "tags": null
          },
          "name": "stdout",
          "output_type": "stream",
          "text": [
            "Epoch 67/132 | Train Loss: 0.0000 | Val Loss: 0.0001\n"
          ]
        },
        {
          "metadata": {
            "tags": null
          },
          "name": "stderr",
          "output_type": "stream",
          "text": [
            "Epoch 68/132 [Train]: 100%|██████████| 2149/2149 [06:34<00:00,  5.45it/s]\n",
            "Epoch 68/132 [Val]: 100%|██████████| 12891/12891 [01:27<00:00, 148.13it/s]\n"
          ]
        },
        {
          "metadata": {
            "tags": null
          },
          "name": "stdout",
          "output_type": "stream",
          "text": [
            "Epoch 68/132 | Train Loss: 0.0000 | Val Loss: 0.0001\n"
          ]
        },
        {
          "metadata": {
            "tags": null
          },
          "name": "stderr",
          "output_type": "stream",
          "text": [
            "Epoch 69/132 [Train]: 100%|██████████| 2149/2149 [06:34<00:00,  5.45it/s]\n",
            "Epoch 69/132 [Val]: 100%|██████████| 12891/12891 [01:25<00:00, 149.97it/s]\n"
          ]
        },
        {
          "metadata": {
            "tags": null
          },
          "name": "stdout",
          "output_type": "stream",
          "text": [
            "Epoch 69/132 | Train Loss: 0.0000 | Val Loss: 0.0001\n"
          ]
        },
        {
          "metadata": {
            "tags": null
          },
          "name": "stderr",
          "output_type": "stream",
          "text": [
            "Epoch 70/132 [Train]: 100%|██████████| 2149/2149 [06:34<00:00,  5.45it/s]\n",
            "Epoch 70/132 [Val]: 100%|██████████| 12891/12891 [01:26<00:00, 149.89it/s]\n"
          ]
        },
        {
          "metadata": {
            "tags": null
          },
          "name": "stdout",
          "output_type": "stream",
          "text": [
            "Epoch 70/132 | Train Loss: 0.0000 | Val Loss: 0.0001\n"
          ]
        },
        {
          "metadata": {
            "tags": null
          },
          "name": "stderr",
          "output_type": "stream",
          "text": [
            "Epoch 71/132 [Train]: 100%|██████████| 2149/2149 [06:33<00:00,  5.46it/s]\n",
            "Epoch 71/132 [Val]: 100%|██████████| 12891/12891 [01:25<00:00, 150.07it/s]\n"
          ]
        },
        {
          "metadata": {
            "tags": null
          },
          "name": "stdout",
          "output_type": "stream",
          "text": [
            "Epoch 71/132 | Train Loss: 0.0000 | Val Loss: 0.0001\n"
          ]
        },
        {
          "metadata": {
            "tags": null
          },
          "name": "stderr",
          "output_type": "stream",
          "text": [
            "Epoch 72/132 [Train]: 100%|██████████| 2149/2149 [06:33<00:00,  5.46it/s]\n",
            "Epoch 72/132 [Val]: 100%|██████████| 12891/12891 [01:25<00:00, 150.85it/s]\n"
          ]
        },
        {
          "metadata": {
            "tags": null
          },
          "name": "stdout",
          "output_type": "stream",
          "text": [
            "Epoch 72/132 | Train Loss: 0.0000 | Val Loss: 0.0001\n"
          ]
        },
        {
          "metadata": {
            "tags": null
          },
          "name": "stderr",
          "output_type": "stream",
          "text": [
            "Epoch 73/132 [Train]: 100%|██████████| 2149/2149 [06:33<00:00,  5.46it/s]\n",
            "Epoch 73/132 [Val]: 100%|██████████| 12891/12891 [01:25<00:00, 151.30it/s]\n"
          ]
        },
        {
          "metadata": {
            "tags": null
          },
          "name": "stdout",
          "output_type": "stream",
          "text": [
            "Epoch 73/132 | Train Loss: 0.0000 | Val Loss: 0.0000\n"
          ]
        },
        {
          "metadata": {
            "tags": null
          },
          "name": "stderr",
          "output_type": "stream",
          "text": [
            "Epoch 74/132 [Train]: 100%|██████████| 2149/2149 [06:33<00:00,  5.46it/s]\n",
            "Epoch 74/132 [Val]: 100%|██████████| 12891/12891 [01:25<00:00, 150.83it/s]\n"
          ]
        },
        {
          "metadata": {
            "tags": null
          },
          "name": "stdout",
          "output_type": "stream",
          "text": [
            "Epoch 74/132 | Train Loss: 0.0000 | Val Loss: 0.0001\n"
          ]
        },
        {
          "metadata": {
            "tags": null
          },
          "name": "stderr",
          "output_type": "stream",
          "text": [
            "Epoch 75/132 [Train]: 100%|██████████| 2149/2149 [06:33<00:00,  5.46it/s]\n",
            "Epoch 75/132 [Val]: 100%|██████████| 12891/12891 [01:25<00:00, 150.75it/s]\n"
          ]
        },
        {
          "metadata": {
            "tags": null
          },
          "name": "stdout",
          "output_type": "stream",
          "text": [
            "Epoch 75/132 | Train Loss: 0.0000 | Val Loss: 0.0000\n"
          ]
        },
        {
          "metadata": {
            "tags": null
          },
          "name": "stderr",
          "output_type": "stream",
          "text": [
            "Epoch 76/132 [Train]: 100%|██████████| 2149/2149 [06:34<00:00,  5.45it/s]\n",
            "Epoch 76/132 [Val]: 100%|██████████| 12891/12891 [01:25<00:00, 151.25it/s]\n"
          ]
        },
        {
          "metadata": {
            "tags": null
          },
          "name": "stdout",
          "output_type": "stream",
          "text": [
            "Epoch 76/132 | Train Loss: 0.0000 | Val Loss: 0.0000\n"
          ]
        },
        {
          "metadata": {
            "tags": null
          },
          "name": "stderr",
          "output_type": "stream",
          "text": [
            "Epoch 77/132 [Train]: 100%|██████████| 2149/2149 [06:34<00:00,  5.45it/s]\n",
            "Epoch 77/132 [Val]: 100%|██████████| 12891/12891 [01:25<00:00, 150.71it/s]\n"
          ]
        },
        {
          "metadata": {
            "tags": null
          },
          "name": "stdout",
          "output_type": "stream",
          "text": [
            "Epoch 77/132 | Train Loss: 0.0000 | Val Loss: 0.0001\n"
          ]
        },
        {
          "output_type": "stream",
          "name": "stderr",
          "text": [
            "Epoch 78/132 [Train]: 100%|██████████| 2149/2149 [06:34<00:00,  5.45it/s]\n",
            "Epoch 78/132 [Val]: 100%|██████████| 12891/12891 [01:25<00:00, 150.41it/s]\n"
          ]
        },
        {
          "output_type": "stream",
          "name": "stdout",
          "text": [
            "Epoch 78/132 | Train Loss: 0.0000 | Val Loss: 0.0000\n"
          ]
        },
        {
          "output_type": "stream",
          "name": "stderr",
          "text": [
            "Epoch 79/132 [Train]:   1%|          | 17/2149 [00:03<06:29,  5.48it/s]"
          ]
        }
      ]
    },
    {
      "cell_type": "markdown",
      "source": [
        "# Visualizar Resultados:"
      ],
      "metadata": {
        "id": "Kp_jLFSzo3d5"
      }
    },
    {
      "cell_type": "code",
      "source": [
        "# Crear dataset de test\n",
        "test_dataset = SRDataset(\n",
        "    hr_dir='/content/split_data/test/acs/',\n",
        "    lr_dir='/content/split_data/test/dud/'\n",
        ")\n",
        "\n",
        "test_loader = DataLoader(test_dataset, batch_size=1, shuffle=False)"
      ],
      "metadata": {
        "id": "8h8LgbZWGxfZ"
      },
      "execution_count": null,
      "outputs": []
    },
    {
      "cell_type": "code",
      "source": [
        "import matplotlib.pyplot as plt\n",
        "import numpy as np\n",
        "\n",
        "def visualize_results(model, dataloader, num_examples=3):\n",
        "    model.eval()\n",
        "    with torch.no_grad():\n",
        "        for i, batch in enumerate(dataloader):\n",
        "            if i >= num_examples:\n",
        "                break\n",
        "\n",
        "            x_lr = batch[\"lr\"].to(device)\n",
        "            x_hr = batch[\"hr\"].to(device)\n",
        "\n",
        "            # Generar predicción\n",
        "            t = torch.zeros(1, dtype=torch.long, device=device)  # Usamos t=0 para generación\n",
        "            pred = model(x_lr, t)\n",
        "\n",
        "            # Convertir a numpy y desnormalizar si es necesario\n",
        "            lr_img = x_lr[0].cpu().numpy().squeeze()\n",
        "            hr_img = x_hr[0].cpu().numpy().squeeze()\n",
        "            pred_img = pred[0].cpu().numpy().squeeze()\n",
        "\n",
        "            # Visualizar\n",
        "            plt.figure(figsize=(15, 5))\n",
        "\n",
        "            plt.subplot(1, 3, 1)\n",
        "            plt.imshow(lr_img, cmap='gray')\n",
        "            plt.title(f'Low-Res Input\\n{lr_img.shape}')\n",
        "            plt.axis('off')\n",
        "\n",
        "            plt.subplot(1, 3, 2)\n",
        "            plt.imshow(pred_img, cmap='gray')\n",
        "            plt.title(f'Model Prediction\\n{pred_img.shape}')\n",
        "            plt.axis('off')\n",
        "\n",
        "            plt.subplot(1, 3, 3)\n",
        "            plt.imshow(hr_img, cmap='gray')\n",
        "            plt.title(f'Ground Truth\\n{hr_img.shape}')\n",
        "            plt.axis('off')\n",
        "\n",
        "            plt.show()\n"
      ],
      "metadata": {
        "id": "dvqiumURG1WK"
      },
      "execution_count": null,
      "outputs": []
    },
    {
      "cell_type": "code",
      "source": [
        "# Cargar el mejor modelo guardado\n",
        "checkpoint = torch.load(os.path.join(save_dir, 'best_model.pth'))\n",
        "ddpm_model_superres.load_state_dict(checkpoint['model_state_dict'])"
      ],
      "metadata": {
        "id": "yyRFrRdtG-dl",
        "colab": {
          "base_uri": "https://localhost:8080/"
        },
        "outputId": "0d493e8f-07b0-402b-e3e2-69d96fa682ad"
      },
      "execution_count": null,
      "outputs": [
        {
          "output_type": "execute_result",
          "data": {
            "text/plain": [
              "<All keys matched successfully>"
            ]
          },
          "metadata": {},
          "execution_count": 6
        }
      ]
    },
    {
      "cell_type": "code",
      "source": [
        "# Visualizar resultados en el conjunto de test\n",
        "visualize_results(ddpm_model_superres, test_loader, num_examples=5)"
      ],
      "metadata": {
        "colab": {
          "base_uri": "https://localhost:8080/",
          "height": 1000
        },
        "id": "SYrn7nUSG6DT",
        "outputId": "123f3ba0-d843-4ca9-ba0d-52638ffa8d08"
      },
      "execution_count": null,
      "outputs": [
        {
          "output_type": "display_data",
          "data": {
            "text/plain": [
              "<Figure size 1500x500 with 3 Axes>"
            ],
            "image/png": "[encoded data removed]"
          },
          "metadata": {}
        },
        {
          "output_type": "display_data",
          "data": {
            "text/plain": [
              "<Figure size 1500x500 with 3 Axes>"
            ],
            "image/png": "[encoded data removed]"
          },
          "metadata": {}
        },
        {
          "output_type": "display_data",
          "data": {
            "text/plain": [
              "<Figure size 1500x500 with 3 Axes>"
            ],
            "image/png": "[encoded data removed]"
          },
          "metadata": {}
        },
        {
          "output_type": "display_data",
          "data": {
            "text/plain": [
              "<Figure size 1500x500 with 3 Axes>"
            ],
            "image/png": "[encoded data removed]"
          },
          "metadata": {}
        },
        {
          "output_type": "display_data",
          "data": {
            "text/plain": [
              "<Figure size 1500x500 with 3 Axes>"
            ],
            "image/png": "[encoded data removed]"
          },
          "metadata": {}
        }
      ]
    }
  ]
}